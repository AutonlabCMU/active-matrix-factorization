{
 "metadata": {
  "name": "check-grad"
 },
 "nbformat": 3,
 "nbformat_minor": 0,
 "worksheets": [
  {
   "cells": [
    {
     "cell_type": "code",
     "collapsed": false,
     "input": [
      "%pylab inline"
     ],
     "language": "python",
     "metadata": {},
     "outputs": [
      {
       "output_type": "stream",
       "stream": "stdout",
       "text": [
        "\n",
        "Welcome to pylab, a matplotlib-based Python environment [backend: module://IPython.zmq.pylab.backend_inline].\n",
        "For more information, type 'help(pylab)'.\n"
       ]
      }
     ],
     "prompt_number": 1
    },
    {
     "cell_type": "code",
     "collapsed": true,
     "input": [
      "from copy import deepcopy\n",
      "import pickle\n",
      "\n",
      "import numpy as np\n",
      "from scipy.optimize import check_grad, approx_fprime\n",
      "import scipy.linalg\n",
      "\n",
      "import active_pmf\n",
      "import normal_exps as nexps\n",
      "import normal_exps_cy as nexps_cy\n",
      "import matrix_normal_exps_cy as mnexps_cy\n",
      "import mn_active_pmf\n",
      "import pmf_cy\n",
      "import pmf as pmf_pure"
     ],
     "language": "python",
     "metadata": {},
     "outputs": [],
     "prompt_number": 2
    },
    {
     "cell_type": "code",
     "collapsed": false,
     "input": [
      "data = pickle.load(open('../results/10x10_r4_d4_k4_K36/run1/data.pkl', 'rb'))"
     ],
     "language": "python",
     "metadata": {},
     "outputs": [],
     "prompt_number": 3
    },
    {
     "cell_type": "code",
     "collapsed": false,
     "input": [],
     "language": "python",
     "metadata": {},
     "outputs": []
    },
    {
     "cell_type": "code",
     "collapsed": true,
     "input": [
      "def stack_ll(u, v):\n",
      "    return np.hstack((u.reshape(-1), v.reshape(-1)))\n",
      "\n",
      "def unstack_ll(x, n, m, d):\n",
      "    return x[:n*d].reshape(n, d), x[n*d:].reshape(m, d)\n",
      "\n",
      "def ll(pmf):\n",
      "    n = pmf.num_users\n",
      "    m = pmf.num_items\n",
      "    d = pmf.latent_d\n",
      "    def inner(x):\n",
      "        return pmf.log_likelihood(*unstack_ll(x, n, m, d))\n",
      "    return inner\n",
      "\n",
      "def grad(pmf):\n",
      "    n = pmf.num_users\n",
      "    m = pmf.num_items\n",
      "    d = pmf.latent_d\n",
      "    a = deepcopy(pmf)\n",
      "    def inner(x):\n",
      "        a.users, a.items = unstack_ll(x, n, m, d)\n",
      "        return stack_ll(*a.gradient())\n",
      "    return inner"
     ],
     "language": "python",
     "metadata": {},
     "outputs": [],
     "prompt_number": 4
    },
    {
     "cell_type": "code",
     "collapsed": false,
     "input": [
      "for p in (pmf_pure, pmf_cy):\n",
      "    for sub_mean in (False, True):\n",
      "        pmf = p.ProbabilisticMatrixFactorization(data['_ratings'], 1, sub_mean)\n",
      "        x_ll = stack_ll(pmf.users, pmf.items)\n",
      "        print(check_grad(ll(pmf), grad(pmf), x_ll))"
     ],
     "language": "python",
     "metadata": {},
     "outputs": [
      {
       "output_type": "stream",
       "stream": "stdout",
       "text": [
        "1.90201301852e-06\n",
        "3.29453086977e-07\n",
        "1.88000559389e-06\n",
        "4.34644867091e-07\n"
       ]
      }
     ],
     "prompt_number": 5
    },
    {
     "cell_type": "code",
     "collapsed": true,
     "input": [
      "def stack_kl(mean, cov):\n",
      "    return np.hstack((mean, cov[np.triu_indices_from(cov)]))\n",
      "\n",
      "def unstack_kl(x, k):\n",
      "    cov = np.zeros((k,k))\n",
      "    cov[np.triu_indices_from(cov)] = x[k:]\n",
      "    cov += cov.T # symmetrize\n",
      "    cov[np.diag_indices_from(cov)] /= 2 # correct diagonal\n",
      "    return x[:k], cov\n",
      "\n",
      "def kl(apmf):\n",
      "    k = apmf.approx_dim\n",
      "    def inner(x):\n",
      "        mean, cov = unstack_kl(x, k)\n",
      "        if np.any(cov != cov.T) or np.any(scipy.linalg.eigvalsh(cov) <= 0):\n",
      "            raise ValueError(\"covariance must be positive definite\")\n",
      "        return apmf.kl_divergence(mean, cov)\n",
      "    return inner\n",
      "\n",
      "def grad_kl(apmf, norm_grad=nexps.normal_gradient):\n",
      "    k = apmf.approx_dim\n",
      "    a = deepcopy(apmf)\n",
      "    def inner(x):\n",
      "        a.mean, a.cov = unstack_kl(x, k)\n",
      "        return stack_kl(*norm_grad(a))\n",
      "    return inner"
     ],
     "language": "python",
     "metadata": {},
     "outputs": [],
     "prompt_number": 6
    },
    {
     "cell_type": "code",
     "collapsed": false,
     "input": [
      "# (to reload after changes)\n",
      "from imp import reload\n",
      "reload(nexps); reload(nexps_cy); reload(mnexps_cy)\n",
      "reload(pmf_pure); reload(pmf_cy)\n",
      "reload(active_pmf); reload(mn_active_pmf)"
     ],
     "language": "python",
     "metadata": {},
     "outputs": [
      {
       "output_type": "pyout",
       "prompt_number": 7,
       "text": [
        "<module 'mn_active_pmf' from './mn_active_pmf.py'>"
       ]
      }
     ],
     "prompt_number": 7
    },
    {
     "cell_type": "code",
     "collapsed": true,
     "input": [
      "apmf = active_pmf.ActivePMF(data['_ratings'], 1, data['_rating_vals'], True)\n",
      "apmf.initialize_approx()"
     ],
     "language": "python",
     "metadata": {},
     "outputs": [],
     "prompt_number": 8
    },
    {
     "cell_type": "code",
     "collapsed": false,
     "input": [
      "x_kl = stack_kl(apmf.mean, apmf.cov)\n",
      "check_grad(kl(apmf), grad_kl(apmf, nexps.normal_gradient), x_kl)"
     ],
     "language": "python",
     "metadata": {},
     "outputs": [
      {
       "output_type": "pyout",
       "prompt_number": 9,
       "text": [
        "295.00451836754723"
       ]
      }
     ],
     "prompt_number": 9
    },
    {
     "cell_type": "code",
     "collapsed": false,
     "input": [
      "approx = approx_fprime(x_kl, kl(apmf), np.sqrt(np.finfo(float).eps))\n",
      "calc = grad_kl(apmf, nexps_cy.normal_gradient)(x_kl)\n",
      "np.mean(np.abs((calc - approx) / calc))"
     ],
     "language": "python",
     "metadata": {},
     "outputs": [
      {
       "output_type": "pyout",
       "prompt_number": 10,
       "text": [
        "0.0078302104927496004"
       ]
      }
     ],
     "prompt_number": 10
    },
    {
     "cell_type": "code",
     "collapsed": false,
     "input": [],
     "language": "python",
     "metadata": {},
     "outputs": [],
     "prompt_number": 10
    },
    {
     "cell_type": "code",
     "collapsed": false,
     "input": [
      "def stack_mn_kl(mean, cov_useritems, cov_latents):\n",
      "    return np.hstack((mean.ravel(),\n",
      "                      cov_useritems[np.triu_indices_from(cov_useritems)],\n",
      "                      cov_latents[np.triu_indices_from(cov_latents)]))\n",
      "\n",
      "def _unstack_cov(vals, dim):\n",
      "    cov = np.zeros((dim, dim))\n",
      "    cov[np.triu_indices_from(cov)] = vals\n",
      "    cov += cov.T\n",
      "    cov[np.diag_indices_from(cov)] /= 2\n",
      "    return cov\n",
      "\n",
      "def unstack_mn_kl(x, n_useritems, latent_d):\n",
      "    num_mean = n_useritems * latent_d\n",
      "    num_useritems = n_useritems * (n_useritems + 1) // 2\n",
      "    num_latents = latent_d * (latent_d + 1) // 2\n",
      "    assert num_mean + num_useritems + num_latents == x.size, \\\n",
      "           (num_mean, num_useritems, num_latents, x.size)\n",
      "    \n",
      "    mean = x[:num_mean].reshape((n_useritems, latent_d))\n",
      "    cov_useritems = _unstack_cov(x[num_mean:-num_latents], n_useritems)\n",
      "    cov_latents = _unstack_cov(x[-num_latents:], latent_d)\n",
      "    return mean, cov_useritems, cov_latents\n",
      "\n",
      "def _check_cov(cov):\n",
      "    if np.any(cov != cov.T) or np.any(scipy.linalg.eigvalsh(cov) <= 0):\n",
      "       raise ValueError(\"covariance must be positive definite\")\n",
      "    \n",
      "def mn_kl(mn_apmf):\n",
      "    n_useritems = mn_apmf.num_users + mn_apmf.num_items\n",
      "    latent_d = mn_apmf.latent_d\n",
      "    def inner(x):\n",
      "        mean, cov_useritems, cov_latents = unstack_mn_kl(x, n_useritems, latent_d)\n",
      "        _check_cov(cov_useritems)\n",
      "        _check_cov(cov_latents)\n",
      "        return mn_apmf.kl_divergence(mean, cov_useritems, cov_latents)\n",
      "    return inner\n",
      "\n",
      "def grad_mn_kl(mn_apmf, norm_grad=mnexps_cy.matrixnormal_gradient):\n",
      "    n_useritems = mn_apmf.num_users + mn_apmf.num_items\n",
      "    a = deepcopy(mn_apmf)\n",
      "    def inner(x):\n",
      "        a.mean, a.cov_useritems, a.cov_latents = unstack_mn_kl(x, n_useritems, a.latent_d)\n",
      "        return stack_mn_kl(*norm_grad(a))\n",
      "    return inner"
     ],
     "language": "python",
     "metadata": {},
     "outputs": [],
     "prompt_number": 4
    },
    {
     "cell_type": "code",
     "collapsed": false,
     "input": [],
     "language": "python",
     "metadata": {},
     "outputs": [],
     "prompt_number": 4
    },
    {
     "cell_type": "code",
     "collapsed": false,
     "input": [
      "mnapmf = mn_active_pmf.MNActivePMF(data['_ratings'], 2, data['_rating_vals'], True)\n",
      "mnapmf.initialize_approx(random_cov=True)\n",
      "np.linalg.eigvalsh(mnapmf.cov_useritems), np.linalg.eigvalsh(mnapmf.cov_latents)"
     ],
     "language": "python",
     "metadata": {},
     "outputs": [
      {
       "output_type": "pyout",
       "prompt_number": 6,
       "text": [
        "(array([  7.17346404e-03,   1.28274715e-01,   2.37682024e-01,\n",
        "         9.47558727e-01,   3.01013569e+00,   4.49390802e+00,\n",
        "         5.98717914e+00,   6.62986197e+00,   8.13915503e+00,\n",
        "         1.01339330e+01,   1.60341971e+01,   1.78555847e+01,\n",
        "         2.17449703e+01,   2.42339960e+01,   2.97760928e+01,\n",
        "         3.15654642e+01,   3.81569793e+01,   4.40635216e+01,\n",
        "         5.13381329e+01,   6.40600520e+01]),\n",
        " array([ 0.00650655,  2.07422675]))"
       ]
      }
     ],
     "prompt_number": 6
    },
    {
     "cell_type": "code",
     "collapsed": false,
     "input": [],
     "language": "python",
     "metadata": {},
     "outputs": [],
     "prompt_number": 5
    },
    {
     "cell_type": "code",
     "collapsed": false,
     "input": [],
     "language": "python",
     "metadata": {},
     "outputs": [],
     "prompt_number": 5
    },
    {
     "cell_type": "code",
     "collapsed": false,
     "input": [
      "def quadexp(n_users, n_items, latent_d, i, j, k, l, mult=1):\n",
      "    n_useritems = n_users + n_items\n",
      "    j_ = n_users + j\n",
      "    def inner(x):\n",
      "        mean, cov_useritems, cov_latents = unstack_mn_kl(x, n_useritems, latent_d)\n",
      "        #cov_useritems = active_pmf.project_psd(cov_useritems, min_eig=1e-3)\n",
      "        #cov_latents = active_pmf.project_psd(cov_latents, min_eig=1e-3)\n",
      "        _check_cov(cov_useritems)\n",
      "        _check_cov(cov_latents)\n",
      "        return mnexps_cy.quadexpect(mean, cov_useritems, cov_latents,\n",
      "                                    i, k,  j_, k,  i, l,  j_, l) * mult\n",
      "    return inner\n",
      "\n",
      "def grad_quadexp(n_users, n_items, latent_d, i, j, k, l, mult=1):\n",
      "    n_useritems = n_users + n_items\n",
      "    def inner(x):\n",
      "        mean, cov_useritems, cov_latents = unstack_mn_kl(x, n_useritems, latent_d)\n",
      "        _check_cov(cov_useritems)\n",
      "        _check_cov(cov_latents)\n",
      "        g_mean = np.zeros_like(mean)\n",
      "        g_cov_useritems = np.zeros_like(cov_useritems)\n",
      "        g_cov_latents = np.zeros_like(cov_latents)\n",
      "        mnexps_cy._quadexp_grad(n_users, mean, cov_useritems, cov_latents,\n",
      "                                g_mean, g_cov_useritems, g_cov_latents,\n",
      "                                i, j, k, l, mult)\n",
      "        return stack_mn_kl(g_mean, g_cov_useritems, g_cov_latents)\n",
      "    return inner\n",
      "\n",
      "\n",
      "i = 4\n",
      "j = 1\n",
      "k = 0\n",
      "l = 1\n",
      "\n",
      "quad = quadexp(mnapmf.num_users, mnapmf.num_items, mnapmf.latent_d, i, j, k, l)\n",
      "g_quad = grad_quadexp(mnapmf.num_users, mnapmf.num_items, mnapmf.latent_d, i, j, k, l)\n",
      "\n",
      "x_mn_kl = stack_mn_kl(mnapmf.mean, mnapmf.cov_useritems, mnapmf.cov_latents)\n",
      "\n",
      "approx = approx_fprime(x_mn_kl, quad, np.sqrt(np.finfo(float).eps))\n",
      "calc = g_quad(x_mn_kl)\n",
      "\n",
      "idx = (calc != 0) | (approx != 0)\n",
      "np.vstack((# np.arange(approx.size)[idx], \n",
      "           approx[idx], calc[idx])).T"
     ],
     "language": "python",
     "metadata": {},
     "outputs": [
      {
       "output_type": "pyout",
       "prompt_number": 9,
       "text": [
        "array([[  -66.83996582,   -66.8399917 ],\n",
        "       [  -10.72058105,   -10.72068997],\n",
        "       [  -34.99182129,   -34.99188246],\n",
        "       [   39.05834961,    39.05832168],\n",
        "       [  179.57897949,   179.57891358],\n",
        "       [  346.31652832,   346.31651931],\n",
        "       [  152.25085449,   152.2508345 ],\n",
        "       [  158.47131348,   158.47132305],\n",
        "       [-3311.99206543, -3311.99214757],\n",
        "       [  604.68823242,   604.68812988]])"
       ]
      }
     ],
     "prompt_number": 9
    },
    {
     "cell_type": "code",
     "collapsed": false,
     "input": [
      "np.transpose(np.triu_indices(mnapmf.num_users + mnapmf.num_items)) \\\n",
      "    [61 - (mnapmf.num_users + mnapmf.num_items) * mnapmf.latent_d]"
     ],
     "language": "python",
     "metadata": {},
     "outputs": [
      {
       "output_type": "pyout",
       "prompt_number": 21,
       "text": [
        "array([1, 2])"
       ]
      }
     ],
     "prompt_number": 21
    },
    {
     "cell_type": "code",
     "collapsed": false,
     "input": [],
     "language": "python",
     "metadata": {},
     "outputs": []
    },
    {
     "cell_type": "code",
     "collapsed": false,
     "input": [
      "def sqexp(n_users, n_items, latent_d, i, j, k, mult=1):\n",
      "    n_useritems = n_users + n_items\n",
      "    j_ = n_users + j\n",
      "    def inner(x):\n",
      "        mean, cov_useritems, cov_latents = unstack_mn_kl(x, n_useritems, latent_d)\n",
      "        #cov_useritems = active_pmf.project_psd(cov_useritems, min_eig=1e-3)\n",
      "        #cov_latents = active_pmf.project_psd(cov_latents, min_eig=1e-3)\n",
      "        _check_cov(cov_useritems)\n",
      "        _check_cov(cov_latents)\n",
      "        return mnexps_cy.exp_squared(mean, cov_useritems, cov_latents,\n",
      "                                    i, k,  j_, k) * mult\n",
      "    return inner\n",
      "\n",
      "def grad_sqexp(n_users, n_items, latent_d, i, j, k, mult=1):\n",
      "    n_useritems = n_users + n_items\n",
      "    def inner(x):\n",
      "        mean, cov_useritems, cov_latents = unstack_mn_kl(x, n_useritems, latent_d)\n",
      "        _check_cov(cov_useritems)\n",
      "        _check_cov(cov_latents)\n",
      "        g_mean = np.zeros_like(mean)\n",
      "        g_cov_useritems = np.zeros_like(cov_useritems)\n",
      "        g_cov_latents = np.zeros_like(cov_latents)\n",
      "        mnexps_cy._squareexp_grad(n_users, mean, cov_useritems, cov_latents,\n",
      "                                g_mean, g_cov_useritems, g_cov_latents,\n",
      "                                i, j, k, mult)\n",
      "        return stack_mn_kl(g_mean, g_cov_useritems, g_cov_latents)\n",
      "    return inner\n",
      "\n",
      "\n",
      "i = 4\n",
      "j = 1\n",
      "k = 0\n",
      "\n",
      "f = sqexp(mnapmf.num_users, mnapmf.num_items, mnapmf.latent_d, i, j, k, l)\n",
      "g = grad_sqexp(mnapmf.num_users, mnapmf.num_items, mnapmf.latent_d, i, j, k, l)\n",
      "\n",
      "x_mn_kl = stack_mn_kl(mnapmf.mean, mnapmf.cov_useritems, mnapmf.cov_latents)\n",
      "\n",
      "approx = approx_fprime(x_mn_kl, f, np.sqrt(np.finfo(float).eps))\n",
      "calc = g(x_mn_kl)\n",
      "\n",
      "idx = ((calc != 0) | (approx != 0)) & (np.isfinite(approx) | (calc != 0))\n",
      "np.vstack((# np.arange(approx.size)[idx], \n",
      "           approx[idx], calc[idx])).T"
     ],
     "language": "python",
     "metadata": {},
     "outputs": [
      {
       "output_type": "pyout",
       "prompt_number": 11,
       "text": [
        "array([[  156.64111328,   156.64142309],\n",
        "       [  132.19628906,   132.19644855],\n",
        "       [ 1002.65576172,  1002.65603923],\n",
        "       [ 1580.71606445,  1580.71623417],\n",
        "       [  856.06347656,   856.06370602],\n",
        "       [ 9066.7043457 ,  9066.70418788]])"
       ]
      }
     ],
     "prompt_number": 11
    },
    {
     "cell_type": "code",
     "collapsed": false,
     "input": [],
     "language": "python",
     "metadata": {},
     "outputs": []
    },
    {
     "cell_type": "code",
     "collapsed": false,
     "input": [
      "x_mn_kl = stack_mn_kl(mnapmf.mean, mnapmf.cov_useritems, mnapmf.cov_latents)\n",
      "approx = approx_fprime(x_mn_kl, mn_kl(mnapmf), np.sqrt(np.finfo(float).eps))\n",
      "calc = grad_mn_kl(mnapmf, mnexps_cy.matrixnormal_gradient)(x_mn_kl)\n",
      "np.mean((np.abs((calc - approx) / calc))[calc != 0])"
     ],
     "language": "python",
     "metadata": {},
     "outputs": [
      {
       "output_type": "pyout",
       "prompt_number": 7,
       "text": [
        "0.00011969052877497818"
       ]
      }
     ],
     "prompt_number": 7
    },
    {
     "cell_type": "code",
     "collapsed": false,
     "input": [
      "np.max(np.abs((calc - approx) / calc))"
     ],
     "language": "python",
     "metadata": {},
     "outputs": [
      {
       "output_type": "pyout",
       "prompt_number": 12,
       "text": [
        "0.0038858987793552011"
       ]
      }
     ],
     "prompt_number": 12
    },
    {
     "cell_type": "code",
     "collapsed": false,
     "input": [
      "n_useritems = mnapmf.num_users + mnapmf.num_items\n",
      "np.transpose(np.triu_indices(mnapmf.latent_d)) \\\n",
      "    [250 - n_useritems * mnapmf.latent_d - n_useritems * (n_useritems + 1) // 2]"
     ],
     "language": "python",
     "metadata": {},
     "outputs": [
      {
       "output_type": "pyout",
       "prompt_number": 9,
       "text": [
        "array([0, 0])"
       ]
      }
     ],
     "prompt_number": 9
    },
    {
     "cell_type": "code",
     "collapsed": false,
     "input": [
      "hist((calc - approx)[calc != 0] / calc[calc != 0], log=True, bins=50)\n",
      "None"
     ],
     "language": "python",
     "metadata": {},
     "outputs": [
      {
       "output_type": "display_data",
       "png": "[encoded data removed]"
      }
     ],
     "prompt_number": 10
    },
    {
     "cell_type": "code",
     "collapsed": false,
     "input": [
      "c_mean, c_cov_useritems, c_cov_latents = unstack_mn_kl(calc, mnapmf.num_users+mnapmf.num_items, mnapmf.latent_d)\n",
      "a_mean, a_cov_useritems, a_cov_latents = unstack_mn_kl(approx, mnapmf.num_users+mnapmf.num_items, mnapmf.latent_d)\n",
      "np.dstack((a_cov_latents, c_cov_latents))"
     ],
     "language": "python",
     "metadata": {},
     "outputs": [
      {
       "output_type": "pyout",
       "prompt_number": 26,
       "text": [
        "array([[[  29248.43359375,  115653.41222713],\n",
        "        [ -22837.59375   ,  -22837.59416095]],\n",
        "\n",
        "       [[ -22837.59375   ,  -22837.59416095],\n",
        "        [   9126.04296875,   31558.51833908]]])"
       ]
      }
     ],
     "prompt_number": 26
    },
    {
     "cell_type": "code",
     "collapsed": false,
     "input": [
      "20*1 + 20 * 21 // 2 + 1 * 2 // 2"
     ],
     "language": "python",
     "metadata": {},
     "outputs": [
      {
       "output_type": "pyout",
       "prompt_number": 29,
       "text": [
        "231"
       ]
      }
     ],
     "prompt_number": 29
    }
   ],
   "metadata": {}
  }
 ]
}