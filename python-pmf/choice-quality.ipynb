{
 "metadata": {
  "name": "choice-quality"
 }, 
 "nbformat": 2, 
 "worksheets": [
  {
   "cells": [
    {
     "cell_type": "code", 
     "collapsed": true, 
     "input": [
      "from bayes_pmf import *", 
      "from active_pmf import *", 
      "import pickle"
     ], 
     "language": "python", 
     "outputs": [], 
     "prompt_number": 2
    }, 
    {
     "cell_type": "code", 
     "collapsed": true, 
     "input": [
      "real = np.load('../results/10x10_r4_d4_k4_K36/run0/data.pkl')['_real']"
     ], 
     "language": "python", 
     "outputs": [], 
     "prompt_number": 4
    }, 
    {
     "cell_type": "code", 
     "collapsed": true, 
     "input": [
      "rmse = lambda exp, real=real: np.sqrt(((real - exp)**2).sum() / real.size)"
     ], 
     "language": "python", 
     "outputs": [], 
     "prompt_number": 31
    }, 
    {
     "cell_type": "code", 
     "collapsed": true, 
     "input": [
      "def random_known(m, n, num_nondiag):", 
      "    known = np.zeros((m, n), dtype=bool)", 
      "    for x in range(max(m, n)):", 
      "        known[x % m, x % n] = True", 
      "    ", 
      "    unknown = list(zip(*(known == 0).nonzero()))", 
      "    known[tuple(np.transpose(random.sample(unknown, num_nondiag)))] = 1", 
      "    return known"
     ], 
     "language": "python", 
     "outputs": [], 
     "prompt_number": 19
    }, 
    {
     "cell_type": "code", 
     "collapsed": true, 
     "input": [
      "def fit(real, known, ret_pmf=False, sig_u=1e10, sig_v=1e10, sig=1, do_bayes=False, burnin=10, samps=200):", 
      "    ratings = np.zeros((known.sum(), 3))", 
      "    for idx, (i, j) in enumerate(np.transpose(known.nonzero())):", 
      "        ratings[idx] = [i, j, real[i, j]]", 
      "    ", 
      "    pmf = ProbabilisticMatrixFactorization(ratings, 1)", 
      "    pmf.sigma_sq = sig", 
      "    pmf.sigma_u_sq = sig_u", 
      "    pmf.sigma_v_sq = sig_v", 
      "    pmf.stop_thresh = 1e-10", 
      "    pmf.min_learning_rate = 1e-20", 
      "    pmf.fit()", 
      "    ", 
      "    if not do_bayes:", 
      "        pred = pmf.predicted_matrix()", 
      "        return (pmf, pred) if ret_pmf else pred", 
      "    else:", 
      "        bpmf = BayesianPMF(ratings, 1)", 
      "        bpmf.__setstate__(pmf.__getstate__())", 
      "        sampler = bpmf.samples()", 
      "        ", 
      "        # do burn-in", 
      "        next(islice(sampler, burnin, burnin), None)", 
      "        ", 
      "        pred = bpmf.predict(islice(sampler, samps))", 
      "        return (bpmf, pred) if ret_pmf else pred"
     ], 
     "language": "python", 
     "outputs": [], 
     "prompt_number": 24
    }, 
    {
     "cell_type": "code", 
     "collapsed": true, 
     "input": [
      "init_known = random_known(10, 10, 7)"
     ], 
     "language": "python", 
     "outputs": [], 
     "prompt_number": 53
    }, 
    {
     "cell_type": "code", 
     "collapsed": false, 
     "input": [
      "init_known"
     ], 
     "language": "python", 
     "outputs": [
      {
       "output_type": "pyout", 
       "prompt_number": 71, 
       "text": [
        "array([[ True, False, False, False, False, False, False, False, False,", 
        "        False],", 
        "       [False,  True, False, False, False, False, False, False,  True,", 
        "        False],", 
        "       [False,  True,  True, False, False,  True, False, False, False,", 
        "        False],", 
        "       [False, False, False,  True, False,  True, False, False, False,", 
        "        False],", 
        "       [False, False,  True, False,  True, False, False, False, False,", 
        "        False],", 
        "       [False, False, False,  True, False,  True, False, False, False,", 
        "        False],", 
        "       [False, False, False, False, False, False,  True, False, False,", 
        "        False],", 
        "       [False, False, False, False, False, False, False,  True, False,", 
        "        False],", 
        "       [False, False, False, False, False, False, False, False,  True,", 
        "        False],", 
        "       [False, False, False, False, False,  True, False, False, False,", 
        "         True]], dtype=bool)"
       ]
      }
     ], 
     "prompt_number": 71
    }, 
    {
     "cell_type": "code", 
     "collapsed": false, 
     "input": [
      "init_fit = [fit(real, init_known, sig_u=1e2, sig_v=1e2) for x in range(3)]", 
      "init_rmses = sorted(map(rmse, init_fit))", 
      "print(', '.join(\"{:<5.4}\".format(r) for r in init_rmses))"
     ], 
     "language": "python", 
     "outputs": [
      {
       "output_type": "stream", 
       "stream": "stdout", 
       "text": [
        "3.765, 3.766, 3.766"
       ]
      }
     ], 
     "prompt_number": 61
    }, 
    {
     "cell_type": "code", 
     "collapsed": false, 
     "input": [
      "child_fits = {}", 
      "child_rmses = {}", 
      "for i, j in zip(* (init_known == 0).nonzero()):", 
      "    new_known = init_known.copy()", 
      "    new_known[i, j] = True", 
      "    child_fits[i, j] = new_fit = [fit(real, new_known, sig_u=1e2, sig_v=1e2) for x in range(3)]", 
      "    child_rmses[i, j] = new_rmses = sorted(map(rmse, new_fit))", 
      "    print(\"{:<2} {:<2} - [{}]\".format(i, j, ', '.join(\"{:<5.4}\".format(r) for r in new_rmses)))"
     ], 
     "language": "python", 
     "outputs": [
      {
       "output_type": "stream", 
       "stream": "stdout", 
       "text": [
        "0  1  - [4.028, 4.031, 4.031]", 
        "0  2  - [4.026, 4.027, 4.029]"
       ]
      }, 
      {
       "output_type": "stream", 
       "stream": "stdout", 
       "text": [
        "", 
        "0  3  - [4.186, 4.191, 4.191]"
       ]
      }, 
      {
       "output_type": "stream", 
       "stream": "stdout", 
       "text": [
        "", 
        "0  4  - [4.452, 4.464, 4.464]"
       ]
      }, 
      {
       "output_type": "stream", 
       "stream": "stdout", 
       "text": [
        "", 
        "0  5  - [4.221, 4.224, 4.224]"
       ]
      }, 
      {
       "output_type": "stream", 
       "stream": "stdout", 
       "text": [
        "", 
        "0  6  - [3.775, 3.777, 3.778]"
       ]
      }, 
      {
       "output_type": "stream", 
       "stream": "stdout", 
       "text": [
        "", 
        "0  7  - [3.746, 3.761, 3.765]"
       ]
      }, 
      {
       "output_type": "stream", 
       "stream": "stdout", 
       "text": [
        "", 
        "0  8  - [5.755, 5.761, 5.763]"
       ]
      }, 
      {
       "output_type": "stream", 
       "stream": "stdout", 
       "text": [
        "", 
        "0  9  - [3.908, 3.915, 3.916]"
       ]
      }, 
      {
       "output_type": "stream", 
       "stream": "stdout", 
       "text": [
        "", 
        "1  0  - [3.98 , 3.982, 3.982]"
       ]
      }, 
      {
       "output_type": "stream", 
       "stream": "stdout", 
       "text": [
        "", 
        "1  2  - [4.005, 4.005, 4.007]"
       ]
      }, 
      {
       "output_type": "stream", 
       "stream": "stdout", 
       "text": [
        "", 
        "1  3  - [3.525, 3.526, 3.526]"
       ]
      }, 
      {
       "output_type": "stream", 
       "stream": "stdout", 
       "text": [
        "", 
        "1  4  - [3.696, 3.696, 3.697]"
       ]
      }, 
      {
       "output_type": "stream", 
       "stream": "stdout", 
       "text": [
        "", 
        "1  5  - [2.04 , 2.041, 2.041]"
       ]
      }, 
      {
       "output_type": "stream", 
       "stream": "stdout", 
       "text": [
        "", 
        "1  6  - [3.892, 3.932, 3.934]"
       ]
      }, 
      {
       "output_type": "stream", 
       "stream": "stdout", 
       "text": [
        "", 
        "1  7  - [4.073, 4.074, 4.074]"
       ]
      }, 
      {
       "output_type": "stream", 
       "stream": "stdout", 
       "text": [
        "", 
        "1  9  - [1.96 , 1.96 , 1.96 ]"
       ]
      }, 
      {
       "output_type": "stream", 
       "stream": "stdout", 
       "text": [
        "", 
        "2  0  - [4.005, 4.007, 4.007]"
       ]
      }, 
      {
       "output_type": "stream", 
       "stream": "stdout", 
       "text": [
        "", 
        "2  3  - [2.16 , 2.162, 2.162]"
       ]
      }, 
      {
       "output_type": "stream", 
       "stream": "stdout", 
       "text": [
        "", 
        "2  4  - [3.669, 3.67 , 3.672]"
       ]
      }, 
      {
       "output_type": "stream", 
       "stream": "stdout", 
       "text": [
        "", 
        "2  6  - [3.842, 3.842, 3.844]"
       ]
      }, 
      {
       "output_type": "stream", 
       "stream": "stdout", 
       "text": [
        "", 
        "2  7  - [4.735, 4.737, 4.737]"
       ]
      }, 
      {
       "output_type": "stream", 
       "stream": "stdout", 
       "text": [
        "", 
        "2  8  - [2.971, 2.971, 2.972]"
       ]
      }, 
      {
       "output_type": "stream", 
       "stream": "stdout", 
       "text": [
        "", 
        "2  9  - [3.322, 3.326, 3.329]"
       ]
      }, 
      {
       "output_type": "stream", 
       "stream": "stdout", 
       "text": [
        "", 
        "3  0  - [3.922, 3.924, 3.929]"
       ]
      }, 
      {
       "output_type": "stream", 
       "stream": "stdout", 
       "text": [
        "", 
        "3  1  - [2.477, 2.478, 2.478]"
       ]
      }, 
      {
       "output_type": "stream", 
       "stream": "stdout", 
       "text": [
        "", 
        "3  2  - [2.747, 2.747, 2.747]"
       ]
      }, 
      {
       "output_type": "stream", 
       "stream": "stdout", 
       "text": [
        "", 
        "3  4  - [2.956, 2.956, 2.956]"
       ]
      }, 
      {
       "output_type": "stream", 
       "stream": "stdout", 
       "text": [
        "", 
        "3  6  - [3.802, 3.83 , 3.83 ]"
       ]
      }, 
      {
       "output_type": "stream", 
       "stream": "stdout", 
       "text": [
        "", 
        "3  7  - [3.966, 3.968, 3.969]"
       ]
      }, 
      {
       "output_type": "stream", 
       "stream": "stdout", 
       "text": [
        "", 
        "3  8  - [1.896, 1.899, 1.899]"
       ]
      }, 
      {
       "output_type": "stream", 
       "stream": "stdout", 
       "text": [
        "", 
        "3  9  - [3.764, 3.765, 3.765]"
       ]
      }, 
      {
       "output_type": "stream", 
       "stream": "stdout", 
       "text": [
        "", 
        "4  0  - [4.546, 4.547, 4.548]"
       ]
      }, 
      {
       "output_type": "stream", 
       "stream": "stdout", 
       "text": [
        "", 
        "4  1  - [3.885, 3.888, 3.89 ]"
       ]
      }, 
      {
       "output_type": "stream", 
       "stream": "stdout", 
       "text": [
        "", 
        "4  3  - [2.977, 2.979, 2.979]"
       ]
      }, 
      {
       "output_type": "stream", 
       "stream": "stdout", 
       "text": [
        "", 
        "4  5  - [2.964, 2.964, 2.964]"
       ]
      }, 
      {
       "output_type": "stream", 
       "stream": "stdout", 
       "text": [
        "", 
        "4  6  - [3.946, 3.949, 3.949]"
       ]
      }, 
      {
       "output_type": "stream", 
       "stream": "stdout", 
       "text": [
        "", 
        "4  7  - [3.753, 3.755, 3.757]"
       ]
      }, 
      {
       "output_type": "stream", 
       "stream": "stdout", 
       "text": [
        "", 
        "4  8  - [3.608, 3.624, 3.627]"
       ]
      }, 
      {
       "output_type": "stream", 
       "stream": "stdout", 
       "text": [
        "", 
        "4  9  - [3.052, 3.052, 3.053]"
       ]
      }, 
      {
       "output_type": "stream", 
       "stream": "stdout", 
       "text": [
        "", 
        "5  0  - [3.929, 3.931, 3.934]"
       ]
      }, 
      {
       "output_type": "stream", 
       "stream": "stdout", 
       "text": [
        "", 
        "5  1  - [2.499, 2.5  , 2.501]"
       ]
      }, 
      {
       "output_type": "stream", 
       "stream": "stdout", 
       "text": [
        "", 
        "5  2  - [2.82 , 2.82 , 2.821]"
       ]
      }, 
      {
       "output_type": "stream", 
       "stream": "stdout", 
       "text": [
        "", 
        "5  4  - [2.811, 2.811, 2.811]"
       ]
      }, 
      {
       "output_type": "stream", 
       "stream": "stdout", 
       "text": [
        "", 
        "5  6  - [4.029, 4.029, 4.031]"
       ]
      }, 
      {
       "output_type": "stream", 
       "stream": "stdout", 
       "text": [
        "", 
        "5  7  - [4.184, 4.303, 4.305]"
       ]
      }, 
      {
       "output_type": "stream", 
       "stream": "stdout", 
       "text": [
        "", 
        "5  8  - [2.714, 2.719, 2.72 ]"
       ]
      }, 
      {
       "output_type": "stream", 
       "stream": "stdout", 
       "text": [
        "", 
        "5  9  - [3.763, 3.766, 3.767]"
       ]
      }, 
      {
       "output_type": "stream", 
       "stream": "stdout", 
       "text": [
        "", 
        "6  0  - [3.768, 3.772, 3.776]"
       ]
      }, 
      {
       "output_type": "stream", 
       "stream": "stdout", 
       "text": [
        "", 
        "6  1  - [3.918, 3.923, 3.929]"
       ]
      }, 
      {
       "output_type": "stream", 
       "stream": "stdout", 
       "text": [
        "", 
        "6  2  - [3.76 , 3.773, 3.773]"
       ]
      }, 
      {
       "output_type": "stream", 
       "stream": "stdout", 
       "text": [
        "", 
        "6  3  - [3.828, 3.829, 3.83 ]"
       ]
      }, 
      {
       "output_type": "stream", 
       "stream": "stdout", 
       "text": [
        "", 
        "6  4  - [3.854, 3.854, 3.854]"
       ]
      }, 
      {
       "output_type": "stream", 
       "stream": "stdout", 
       "text": [
        "", 
        "6  5  - [4.063, 4.064, 4.065]"
       ]
      }, 
      {
       "output_type": "stream", 
       "stream": "stdout", 
       "text": [
        "", 
        "6  7  - [3.769, 3.773, 3.774]"
       ]
      }, 
      {
       "output_type": "stream", 
       "stream": "stdout", 
       "text": [
        "", 
        "6  8  - [4.11 , 4.112, 4.112]"
       ]
      }, 
      {
       "output_type": "stream", 
       "stream": "stdout", 
       "text": [
        "", 
        "6  9  - [3.988, 3.989, 3.991]"
       ]
      }, 
      {
       "output_type": "stream", 
       "stream": "stdout", 
       "text": [
        "", 
        "7  0  - [4.447, 4.448, 4.448]"
       ]
      }, 
      {
       "output_type": "stream", 
       "stream": "stdout", 
       "text": [
        "", 
        "7  1  - [4.215, 4.326, 4.33 ]"
       ]
      }, 
      {
       "output_type": "stream", 
       "stream": "stdout", 
       "text": [
        "", 
        "7  2  - [4.47 , 4.47 , 4.473]"
       ]
      }, 
      {
       "output_type": "stream", 
       "stream": "stdout", 
       "text": [
        "", 
        "7  3  - [3.762, 3.764, 3.765]"
       ]
      }, 
      {
       "output_type": "stream", 
       "stream": "stdout", 
       "text": [
        "", 
        "7  4  - [3.878, 3.918, 3.92 ]"
       ]
      }, 
      {
       "output_type": "stream", 
       "stream": "stdout", 
       "text": [
        "", 
        "7  5  - [4.057, 4.061, 4.061]"
       ]
      }, 
      {
       "output_type": "stream", 
       "stream": "stdout", 
       "text": [
        "", 
        "7  6  - [3.759, 3.768, 3.768]"
       ]
      }, 
      {
       "output_type": "stream", 
       "stream": "stdout", 
       "text": [
        "", 
        "7  8  - [4.325, 4.327, 4.327]"
       ]
      }, 
      {
       "output_type": "stream", 
       "stream": "stdout", 
       "text": [
        "", 
        "7  9  - [3.984, 3.987, 3.988]"
       ]
      }, 
      {
       "output_type": "stream", 
       "stream": "stdout", 
       "text": [
        "", 
        "8  0  - [3.768, 3.784, 3.784]"
       ]
      }, 
      {
       "output_type": "stream", 
       "stream": "stdout", 
       "text": [
        "", 
        "8  1  - [2.472, 2.474, 2.474]"
       ]
      }, 
      {
       "output_type": "stream", 
       "stream": "stdout", 
       "text": [
        "", 
        "8  2  - [2.741, 2.742, 2.742]"
       ]
      }, 
      {
       "output_type": "stream", 
       "stream": "stdout", 
       "text": [
        "", 
        "8  3  - [2.344, 2.344, 2.345]"
       ]
      }, 
      {
       "output_type": "stream", 
       "stream": "stdout", 
       "text": [
        "", 
        "8  4  - [3.881, 3.883, 3.885]"
       ]
      }, 
      {
       "output_type": "stream", 
       "stream": "stdout", 
       "text": [
        "", 
        "8  5  - [3.523, 3.523, 3.524]"
       ]
      }, 
      {
       "output_type": "stream", 
       "stream": "stdout", 
       "text": [
        "", 
        "8  6  - [4.131, 4.132, 4.133]"
       ]
      }, 
      {
       "output_type": "stream", 
       "stream": "stdout", 
       "text": [
        "", 
        "8  7  - [3.786, 3.787, 3.787]"
       ]
      }, 
      {
       "output_type": "stream", 
       "stream": "stdout", 
       "text": [
        "", 
        "8  9  - [2.141, 2.142, 2.142]"
       ]
      }, 
      {
       "output_type": "stream", 
       "stream": "stdout", 
       "text": [
        "", 
        "9  0  - [3.769, 3.77 , 3.774]"
       ]
      }, 
      {
       "output_type": "stream", 
       "stream": "stdout", 
       "text": [
        "", 
        "9  1  - [4.55 , 4.552, 4.554]"
       ]
      }, 
      {
       "output_type": "stream", 
       "stream": "stdout", 
       "text": [
        "", 
        "9  2  - [3.274, 3.286, 3.286]"
       ]
      }, 
      {
       "output_type": "stream", 
       "stream": "stdout", 
       "text": [
        "", 
        "9  3  - [3.758, 3.759, 3.759]"
       ]
      }, 
      {
       "output_type": "stream", 
       "stream": "stdout", 
       "text": [
        "", 
        "9  4  - [2.897, 2.9  , 2.9  ]"
       ]
      }, 
      {
       "output_type": "stream", 
       "stream": "stdout", 
       "text": [
        "", 
        "9  6  - [3.778, 3.782, 3.783]"
       ]
      }, 
      {
       "output_type": "stream", 
       "stream": "stdout", 
       "text": [
        "", 
        "9  7  - [3.853, 3.858, 3.87 ]"
       ]
      }, 
      {
       "output_type": "stream", 
       "stream": "stdout", 
       "text": [
        "", 
        "9  8  - [2.071, 2.074, 2.074]"
       ]
      }, 
      {
       "output_type": "stream", 
       "stream": "stdout", 
       "text": []
      }
     ], 
     "prompt_number": 59
    }, 
    {
     "cell_type": "code", 
     "collapsed": false, 
     "input": [
      "hist(np.array([np.median(rmses) for rmses in child_rmses]) - np.median(init_rmses), bins=25)"
     ], 
     "language": "python", 
     "outputs": [
      {
       "output_type": "pyout", 
       "prompt_number": 70, 
       "text": [
        "(array([2, 2, 0, 3, 4, 0, 6, 5, 0, 7, 6, 0, 9, 0, 8, 8, 0, 6, 6, 0, 3, 4, 0,", 
        "       2, 2]),", 
        " array([-3.2657901, -2.9457901, -2.6257901, -2.3057901, -1.9857901,", 
        "       -1.6657901, -1.3457901, -1.0257901, -0.7057901, -0.3857901,", 
        "       -0.0657901,  0.2542099,  0.5742099,  0.8942099,  1.2142099,", 
        "        1.5342099,  1.8542099,  2.1742099,  2.4942099,  2.8142099,", 
        "        3.1342099,  3.4542099,  3.7742099,  4.0942099,  4.4142099,", 
        "        4.7342099]),", 
        " &lt;a list of 25 Patch objects&gt;)"
       ]
      }, 
      {
       "output_type": "display_data", 
       "png": "[encoded data removed]"
      }
     ], 
     "prompt_number": 70
    }, 
    {
     "cell_type": "code", 
     "collapsed": true, 
     "input": [], 
     "language": "python", 
     "outputs": [], 
     "prompt_number": "&nbsp;"
    }
   ]
  }
 ]
}