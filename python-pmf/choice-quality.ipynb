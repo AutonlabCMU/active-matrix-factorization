{
 "metadata": {
  "name": "choice-quality"
 }, 
 "nbformat": 2, 
 "worksheets": [
  {
   "cells": [
    {
     "cell_type": "code", 
     "collapsed": true, 
     "input": [
      "from bayes_pmf import *", 
      "from active_pmf import *", 
      "import pickle", 
      "", 
      "import sys", 
      "if '..' not in sys.path:", 
      "    sys.path.append('..')", 
      "import generate"
     ], 
     "language": "python", 
     "outputs": [], 
     "prompt_number": 70
    }, 
    {
     "cell_type": "code", 
     "collapsed": true, 
     "input": [
      "rmse = lambda exp, real: np.sqrt(((real - exp)**2).sum() / real.size)"
     ], 
     "language": "python", 
     "outputs": [], 
     "prompt_number": 2
    }, 
    {
     "cell_type": "code", 
     "collapsed": true, 
     "input": [
      "def random_known(m, n, num_nondiag):", 
      "    known = np.zeros((m, n), dtype=bool)", 
      "    for x in range(max(m, n)):", 
      "        known[x % m, x % n] = True", 
      "    ", 
      "    unknown = list(zip(*(known == 0).nonzero()))", 
      "    known[tuple(np.transpose(random.sample(unknown, num_nondiag)))] = 1", 
      "    return known"
     ], 
     "language": "python", 
     "outputs": [], 
     "prompt_number": 3
    }, 
    {
     "cell_type": "code", 
     "collapsed": true, 
     "input": [
      "def fit(real, known, latent_d=1, ret_pmf=False, subtract_mean=False,", 
      "        sig_u=1e10, sig_v=1e10, sig=1, ", 
      "        do_bayes=False, burnin=10, samps=200,", 
      "        stop_thresh=1e-10, min_learning_rate=1e-20):", 
      "    ratings = np.zeros((known.sum(), 3))", 
      "    for idx, (i, j) in enumerate(np.transpose(known.nonzero())):", 
      "        ratings[idx] = [i, j, real[i, j]]", 
      "    ", 
      "    pmf = ProbabilisticMatrixFactorization(ratings, latent_d, subtract_mean)", 
      "    pmf.sigma_sq = sig", 
      "    pmf.sigma_u_sq = sig_u", 
      "    pmf.sigma_v_sq = sig_v", 
      "    pmf.stop_thresh = stop_thresh", 
      "    pmf.min_learning_rate = min_learning_rate", 
      "    pmf.fit()", 
      "    ", 
      "    if not do_bayes:", 
      "        pred = pmf.predicted_matrix()", 
      "        return (pmf, pred) if ret_pmf else pred", 
      "    else:", 
      "        bpmf = BayesianPMF(ratings, 1)", 
      "        bpmf.__setstate__(pmf.__getstate__())", 
      "        sampler = bpmf.samples()", 
      "        ", 
      "        # do burn-in", 
      "        next(islice(sampler, burnin, burnin), None)", 
      "        ", 
      "        pred = bpmf.predict(islice(sampler, samps))", 
      "        return (bpmf, pred) if ret_pmf else pred"
     ], 
     "language": "python", 
     "outputs": [], 
     "prompt_number": 38
    }, 
    {
     "cell_type": "code", 
     "collapsed": true, 
     "input": [
      "real = np.load('../results/10x10_r4_d4_k4_K36/run0/data.pkl')['_real']", 
      "real_rmse = functools.partial(rmse, real=real)"
     ], 
     "language": "python", 
     "outputs": [], 
     "prompt_number": 77
    }, 
    {
     "cell_type": "code", 
     "collapsed": true, 
     "input": [
      "real, _, _ = make_fake_data(noise=0, num_users=10, num_items=10,", 
      "                            rank=1, mask_type='diag')", 
      "real_rmse = functools.partial(rmse, real=real)"
     ], 
     "language": "python", 
     "outputs": [], 
     "prompt_number": 85
    }, 
    {
     "cell_type": "code", 
     "collapsed": false, 
     "input": [
      "init_known = random_known(*real.shape, num_nondiag=7)", 
      "imshow(init_known, interpolation='nearest', cmap=cm.gray)"
     ], 
     "language": "python", 
     "outputs": [
      {
       "output_type": "pyout", 
       "prompt_number": 86, 
       "text": [
        "&lt;matplotlib.image.AxesImage at 0x10f55aa50&gt;"
       ]
      }, 
      {
       "output_type": "display_data", 
       "png": "[encoded data removed]"
      }
     ], 
     "prompt_number": 86
    }, 
    {
     "cell_type": "code", 
     "collapsed": true, 
     "input": [
      "fitter = functools.partial(fit, real=real, sig_u=1e2, sig_v=1e2, latent_d=4, stop_thresh=1e-4, min_learning_rate=1e-10)", 
      "num_fits = 3"
     ], 
     "language": "python", 
     "outputs": [], 
     "prompt_number": 87
    }, 
    {
     "cell_type": "code", 
     "collapsed": false, 
     "input": [
      "init_fit = [fitter(known=init_known) for x in range(num_fits)]", 
      "init_rmses = sorted(map(rmse_real, init_fit))", 
      "init_rmse = np.median(init_rmses)", 
      "print(', '.join(\"{:<5.4}\".format(r) for r in init_rmses))"
     ], 
     "language": "python", 
     "outputs": [
      {
       "output_type": "stream", 
       "stream": "stdout", 
       "text": [
        "3.913, 3.97 , 4.043"
       ]
      }
     ], 
     "prompt_number": 88
    }, 
    {
     "cell_type": "code", 
     "collapsed": false, 
     "input": [
      "child_fits = {}", 
      "child_rmses = {}", 
      "rmses_arr = np.empty(real.shape); rmses_arr.fill(np.nan)", 
      "", 
      "for i, j in zip(* (init_known == 0).nonzero()):", 
      "    new_known = init_known.copy()", 
      "    new_known[i, j] = True", 
      "    child_fits[i, j] = new_fit = [fitter(known=new_known) for x in range(num_fits)]", 
      "    child_rmses[i, j] = new_rmses = sorted(map(rmse_real, new_fit))", 
      "    rmses_arr[i, j] = np.median(new_rmses)", 
      "    #print(\"{:<2} {:<2} - [{}]\".format(i, j, ', '.join(\"{:<5.4}\".format(r) for r in new_rmses)))"
     ], 
     "language": "python", 
     "outputs": [], 
     "prompt_number": 89
    }, 
    {
     "cell_type": "code", 
     "collapsed": false, 
     "input": [
      "hist(np.array([np.median(rmses) for rmses in child_rmses.values()]) - init_rmse, bins=30, histtype='stepfilled')", 
      "None"
     ], 
     "language": "python", 
     "outputs": [
      {
       "output_type": "display_data", 
       "png": "[encoded data removed]"
      }
     ], 
     "prompt_number": 90
    }, 
    {
     "cell_type": "code", 
     "collapsed": false, 
     "input": [
      "imshow(-(rmses_arr - init_rmse), interpolation='nearest')", 
      "colorbar()"
     ], 
     "language": "python", 
     "outputs": [
      {
       "output_type": "pyout", 
       "prompt_number": 93, 
       "text": [
        "&lt;matplotlib.colorbar.Colorbar at 0x10fcab590&gt;"
       ]
      }, 
      {
       "output_type": "display_data", 
       "png": "[encoded data removed]"
      }
     ], 
     "prompt_number": 93
    }, 
    {
     "cell_type": "code", 
     "collapsed": false, 
     "input": [
      "imshow(real, interpolation='nearest')", 
      "colorbar()"
     ], 
     "language": "python", 
     "outputs": [
      {
       "output_type": "pyout", 
       "prompt_number": 92, 
       "text": [
        "&lt;matplotlib.colorbar.Colorbar at 0x10f71c7d0&gt;"
       ]
      }, 
      {
       "output_type": "display_data", 
       "png": "[encoded data removed]"
      }
     ], 
     "prompt_number": 92
    }
   ]
  }
 ]
}