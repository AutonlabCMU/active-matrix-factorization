{
 "metadata": {
  "name": "bayes-plot-predictions"
 }, 
 "nbformat": 2, 
 "worksheets": [
  {
   "cells": [
    {
     "cell_type": "code", 
     "collapsed": true, 
     "input": [
      "from bayes_pmf import *", 
      "import pickle", 
      "from itertools import *"
     ], 
     "language": "python", 
     "outputs": [], 
     "prompt_number": 2
    }, 
    {
     "cell_type": "code", 
     "collapsed": false, 
     "input": [
      "d = pickle.load(open('../results/10x10_r4_d4_k4_K36/run0/data.pkl', 'rb'))", 
      "bpmf = BayesianPMF(d['_ratings'], 5)"
     ], 
     "language": "python", 
     "outputs": [], 
     "prompt_number": 3
    }, 
    {
     "cell_type": "code", 
     "collapsed": false, 
     "input": [
      "bpmf.fit()"
     ], 
     "language": "python", 
     "outputs": [], 
     "prompt_number": 4
    }, 
    {
     "cell_type": "code", 
     "collapsed": false, 
     "input": [
      "samps = list(islice(bpmf.samples(), 2000))", 
      "preds = [bpmf.sample_pred(u, v) for u, v in samps]"
     ], 
     "language": "python", 
     "outputs": [], 
     "prompt_number": 9
    }, 
    {
     "cell_type": "code", 
     "collapsed": true, 
     "input": [
      "def get_preds(ij, preds):", 
      "    if isinstance(ij, tuple) and len(ij) == 2 and isinstance(ij[0], int):", 
      "        return [p[ij] for p in preds]", 
      "    else:", 
      "        return [[p[x] for p in preds] for x in ij]", 
      "", 
      "def plot_dist(ij, preds, normed=True, **kwargs):", 
      "    if 'bins' in kwargs:", 
      "        bins = kwargs.pop('bins')", 
      "    else:", 
      "        bins = [-1000] + list(np.linspace(-1, 8, 50)) + [1000]", 
      "    data = get_preds(ij, preds)", 
      "    hist(data, bins=bins, normed=normed, label=['{},{}'.format(*x) for x in ij], **kwargs)", 
      "    xlim(-1.5, 7.5)", 
      "    legend()"
     ], 
     "language": "python", 
     "outputs": [], 
     "prompt_number": 81
    }, 
    {
     "cell_type": "code", 
     "collapsed": false, 
     "input": [
      "clf(); plot_dist([(0,0), (0,1), (1,0), (1,1)], preds, histtype='step')"
     ], 
     "language": "python", 
     "outputs": [], 
     "prompt_number": 88
    }
   ]
  }
 ]
}