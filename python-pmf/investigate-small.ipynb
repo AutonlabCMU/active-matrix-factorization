{
 "metadata": {
  "name": "investigate-small"
 }, 
 "nbformat": 2, 
 "worksheets": [
  {
   "cells": [
    {
     "cell_type": "code", 
     "collapsed": true, 
     "input": [
      "from active_pmf import *", 
      "from bayes_pmf import *", 
      "from matplotlib import pyplot as plt", 
      "import matplotlib", 
      "import itertools", 
      "import os", 
      "import tempfile"
     ], 
     "language": "python", 
     "outputs": [], 
     "prompt_number": 1
    }, 
    {
     "cell_type": "code", 
     "collapsed": true, 
     "input": [
      "def fit(real, known, ret_pmf=False):", 
      "    ratings = np.zeros((known.sum(), 3))", 
      "    for idx, (i, j) in enumerate(np.transpose(known.nonzero())):", 
      "        ratings[idx] = [i, j, real[i, j]]", 
      "    ", 
      "    pmf = ProbabilisticMatrixFactorization(ratings, 1)", 
      "    pmf.sigma_u_sq = pmf.sigma_v_sq = 1e10", 
      "    pmf.stop_thresh = 1e-30 #1e-10", 
      "    pmf.min_learning_rate = 1e-30 # 1e-20", 
      "    ", 
      "    pmf.fit()", 
      "    return pmf.predicted_matrix() if not ret_pmf else pmf"
     ], 
     "language": "python", 
     "outputs": [], 
     "prompt_number": 60
    }, 
    {
     "cell_type": "code", 
     "collapsed": true, 
     "input": [
      "rmse = lambda exp, real: np.sqrt(((real - exp)**2).sum() / real.size)"
     ], 
     "language": "python", 
     "outputs": [], 
     "prompt_number": 3
    }, 
    {
     "cell_type": "code", 
     "collapsed": true, 
     "input": [
      "def subplot_config(n):", 
      "    if n <= 3:", 
      "        return 1, n", 
      "    nc = np.ceil(np.sqrt(n))", 
      "    nr = np.ceil(n / nc)", 
      "    return int(nr), int(nc)"
     ], 
     "language": "python", 
     "outputs": [], 
     "prompt_number": 4
    }, 
    {
     "cell_type": "code", 
     "collapsed": true, 
     "input": [
      "def possibilities(n_users, n_items):", 
      "    shape = (n_users, n_items)", 
      "    larger = max(n_users, n_items)", 
      "    total = n_users * n_items", 
      "    diag = frozenset((i % n_users)*n_items + (i % n_items) for i in range(larger))", 
      "    ", 
      "    for length in range(larger, total+1):", 
      "        for picked in itertools.combinations(range(total), length):", 
      "            if diag.issubset(picked):", 
      "                k = np.zeros(shape)", 
      "                k[np.unravel_index(picked, shape)] = 1", 
      "                yield k"
     ], 
     "language": "python", 
     "outputs": [], 
     "prompt_number": 5
    }, 
    {
     "cell_type": "code", 
     "collapsed": true, 
     "input": [
      "def fill_dict(real, d=None, num=None):", 
      "    import sys", 
      "    if d is None:", 
      "        d = {}", 
      "    ", 
      "    for i, k in enumerate(possibilities(*real.shape)):", 
      "        s = k.tostring()", 
      "        val = d.get(s, [])", 
      "        ", 
      "        if num is None:", 
      "            if val == []: continue", 
      "        else:", 
      "            if len(val) >= num: continue", 
      "        ", 
      "        val = list(val) if val is not None else []", 
      "        print(\"\\rdoing #{}\".format(i), end='  ')", 
      "        sys.stdout.flush()", 
      "        ", 
      "        if num is None:", 
      "            d[s] = fit(real, k)", 
      "        else:", 
      "            while len(val) < num:", 
      "                val.append(fit(real, k))", 
      "            d[s] = val", 
      "    print()", 
      "    return d"
     ], 
     "language": "python", 
     "outputs": [], 
     "prompt_number": 6
    }, 
    {
     "cell_type": "code", 
     "collapsed": true, 
     "input": [
      "def get_norm(real):", 
      "    vmean = real.mean()", 
      "    vmin = (real - vmean).min() * 2 + vmean", 
      "    vmax = (real - vmean).max() * 2 + vmean", 
      "    return Normalize(vmin, vmax)"
     ], 
     "language": "python", 
     "outputs": [], 
     "prompt_number": 7
    }, 
    {
     "cell_type": "code", 
     "collapsed": true, 
     "input": [
      "def show(pred, norm=None, title=None, colorbar=True, known=None, s=None):", 
      "    if isinstance(pred, list):", 
      "        pred = np.mean(pred, axis=0)", 
      "    plt.imshow(pred, interpolation='nearest', cmap=cm.jet, origin='lower', aspect='equal', norm=norm)", 
      "    plt.grid()", 
      "    if s is not None:", 
      "        width, height = s", 
      "        f = plt.gcf()", 
      "        f.set_figwidth(width)", 
      "        f.set_figheight(height)", 
      "    plt.xticks([], [])", 
      "    plt.yticks([], [])", 
      "    if title:", 
      "        plt.title(title)", 
      "    if colorbar:", 
      "        plt.colorbar()", 
      "    if known is not None:", 
      "        k_i, k_j = known.nonzero()", 
      "        plt.scatter(k_j, k_i, marker='s', c='white', s=15)"
     ], 
     "language": "python", 
     "outputs": [], 
     "prompt_number": 8
    }, 
    {
     "cell_type": "code", 
     "collapsed": true, 
     "input": [
      "# show a grid of all the possibilities", 
      "def plot_possibilities_grid(d, n_users, n_items, real):", 
      "    assert len(d) >= 2**(n_users * n_items - max(n_users, n_items))", 
      "    ", 
      "    from mpl_toolkits.axes_grid1 import ImageGrid", 
      "    fig = plt.figure()", 
      "    nr, nc = subplot_config(2 ** (n_items * n_users - max(n_items, n_users)))", 
      "    grid = ImageGrid(fig, 111, nrows_ncols=(nr,nc), axes_pad=.2,", 
      "                     cbar_location='right', cbar_mode='single')", 
      "", 
      "    xticks = np.linspace(-.5, n_items - .5, n_items + 1)", 
      "    yticks = np.linspace(-.5, n_users - .5, n_users + 1)", 
      "", 
      "    #vmin = min(vals[np.isfinite(vals)].min() for vals in d.values())", 
      "    #vmax = max(vals[np.isfinite(vals)].max() for vals in d.values())", 
      "    #norm = Normalize(vmin, vmax)", 
      "    norm = get_norm(real)", 
      "", 
      "    for i, k in enumerate(possibilities(n_users, n_items)):", 
      "        pred = d[k.tostring()]", 
      "        grid[i].set_title(\"{:.3}\".format(rmse(real, pred)))", 
      "        im = grid[i].imshow(pred, interpolation='nearest', cmap=cm.jet, origin='lower', aspect='equal', norm=norm)", 
      "    ", 
      "        grid[i].set_xticks(xticks)", 
      "        grid[i].set_yticks(yticks)", 
      "        grid[i].set_xticklabels([])", 
      "        grid[i].set_yticklabels([])", 
      "        grid[i].set_xlim(xticks[0], xticks[-1])", 
      "        grid[i].set_ylim(yticks[0], yticks[-1])", 
      "        grid[i].grid()", 
      "    ", 
      "        k_i, k_j = k.nonzero()", 
      "        grid[i].scatter(k_j, k_i, marker='s', c='white', s=15)", 
      "", 
      "    for i in range(i+1, nr*nc):", 
      "        grid[i].set_visible(False)", 
      "", 
      "    grid.cbar_axes[0].colorbar(im)", 
      "    return norm"
     ], 
     "language": "python", 
     "outputs": [], 
     "prompt_number": 9
    }, 
    {
     "cell_type": "code", 
     "collapsed": true, 
     "input": [
      "def write_pics_to_dir(dirname, n_users, n_items, d, norm):", 
      "    for i, k in enumerate(possibilities(n_users, n_items)):", 
      "        pred = d[k.tostring()]", 
      "        if isinstance(pred, list):", 
      "            for idx, p in enumerate(pred):", 
      "                fig = plt.figure()", 
      "                show(p, norm=norm, colorbar=False, known=k, s=(1,1))", 
      "                fig.savefig(os.path.join(dirname, \"node_{}_{}.png\".format(i, idx)), bbox_inches='tight', pad_inches=0)", 
      "                plt.close(fig)", 
      "        else:", 
      "            fig = plt.figure()", 
      "            show(pred, norm=norm, colorbar=False, known=k, s=(1,1))", 
      "            fig.savefig(os.path.join(dirname, \"node_{}.png\".format(idx)), bbox_inches='tight', pad_inches=0)", 
      "            plt.close(fig)"
     ], 
     "language": "python", 
     "outputs": [], 
     "prompt_number": 10
    }, 
    {
     "cell_type": "code", 
     "collapsed": true, 
     "input": [
      "def make_dot_tree(dirname, d, real):", 
      "    n_users, n_items = real.shape", 
      "    poss = {k.tostring(): i for i, k in enumerate(possibilities(n_users, n_items))}", 
      "    ", 
      "    nodes = []", 
      "    node_p = 'n_{}[shape=none,label=<<table><tr><td>{:.2} to {:.2}</td></tr><tr><td>{:.4}</td></tr>' \\", 
      "             '<tr><td><img src=\"{}\" /></td></tr></table>>];'", 
      "    for s, i in poss.items():", 
      "        rmses = [rmse(v, real) for v in d[s]]", 
      "        argsorted = np.argsort(rmses)", 
      "        med = argsorted[len(argsorted) // 2]", 
      "        fname = os.path.join(dirname, 'node_{}_{}.png'.format(i, med))", 
      "        nodes.append(node_p.format(i, np.min(rmses), np.max(rmses), np.median(rmses), fname))", 
      "    ", 
      "    conns = []", 
      "    for s, idx in poss.items():", 
      "        k = np.fromstring(s) # 1d", 
      "        for i in (k == 0).nonzero()[0].flat:", 
      "            kprime = k.copy()", 
      "            assert kprime[i] == 0", 
      "            kprime[i] = 1", 
      "            conns.append((idx, poss[kprime.tostring()]))", 
      "    edges = ['n_{} -> n_{};'.format(fr, to) for fr, to in conns]", 
      "    ", 
      "    return 'digraph {\\n' + '\\n'.join(nodes) + '\\n\\n\\n' + '\\n'.join(edges) + '\\n\\n\\n' + '}'"
     ], 
     "language": "python", 
     "outputs": [], 
     "prompt_number": 11
    }, 
    {
     "cell_type": "code", 
     "collapsed": true, 
     "input": [
      "def plot_tree(dirname, outname, d, real):", 
      "    import subprocess", 
      "    dot = make_dot_tree(dirname, d, real)", 
      "    p = subprocess.Popen(['dot', '-Tpng', '-o', outname], stdin=subprocess.PIPE)", 
      "    p.communicate(dot.encode())"
     ], 
     "language": "python", 
     "outputs": [], 
     "prompt_number": 12
    }, 
    {
     "cell_type": "code", 
     "collapsed": true, 
     "input": [
      "n_users = n_items = 3", 
      "real, _, _ = make_fake_data(noise=0, num_users=n_users, num_items=n_items,", 
      "                            rank=1, mask_type='diag')", 
      "d = {}"
     ], 
     "language": "python", 
     "outputs": [], 
     "prompt_number": 13
    }, 
    {
     "cell_type": "code", 
     "collapsed": false, 
     "input": [
      "fill_dict(real, d, 5); None"
     ], 
     "language": "python", 
     "outputs": [
      {
       "output_type": "stream", 
       "stream": "stdout", 
       "text": [
        "", 
        "doing #0  "
       ]
      }, 
      {
       "output_type": "stream", 
       "stream": "stdout", 
       "text": [
        "", 
        "doing #1  "
       ]
      }, 
      {
       "output_type": "stream", 
       "stream": "stdout", 
       "text": [
        "", 
        "doing #2  "
       ]
      }, 
      {
       "output_type": "stream", 
       "stream": "stdout", 
       "text": [
        "", 
        "doing #3  "
       ]
      }, 
      {
       "output_type": "stream", 
       "stream": "stdout", 
       "text": [
        "", 
        "doing #4  "
       ]
      }, 
      {
       "output_type": "stream", 
       "stream": "stdout", 
       "text": [
        "", 
        "doing #5  "
       ]
      }, 
      {
       "output_type": "stream", 
       "stream": "stdout", 
       "text": [
        "", 
        "doing #6  "
       ]
      }, 
      {
       "output_type": "stream", 
       "stream": "stdout", 
       "text": [
        "", 
        "doing #7  "
       ]
      }, 
      {
       "output_type": "stream", 
       "stream": "stdout", 
       "text": [
        "", 
        "doing #8  "
       ]
      }, 
      {
       "output_type": "stream", 
       "stream": "stdout", 
       "text": [
        "", 
        "doing #9  "
       ]
      }, 
      {
       "output_type": "stream", 
       "stream": "stdout", 
       "text": [
        "", 
        "doing #10  "
       ]
      }, 
      {
       "output_type": "stream", 
       "stream": "stdout", 
       "text": [
        "", 
        "doing #11  "
       ]
      }, 
      {
       "output_type": "stream", 
       "stream": "stdout", 
       "text": [
        "", 
        "doing #12  "
       ]
      }, 
      {
       "output_type": "stream", 
       "stream": "stdout", 
       "text": [
        "", 
        "doing #13  "
       ]
      }, 
      {
       "output_type": "stream", 
       "stream": "stdout", 
       "text": [
        "", 
        "doing #14  "
       ]
      }, 
      {
       "output_type": "stream", 
       "stream": "stdout", 
       "text": [
        "", 
        "doing #15  "
       ]
      }, 
      {
       "output_type": "stream", 
       "stream": "stdout", 
       "text": [
        "", 
        "doing #16  "
       ]
      }, 
      {
       "output_type": "stream", 
       "stream": "stdout", 
       "text": [
        "", 
        "doing #17  "
       ]
      }, 
      {
       "output_type": "stream", 
       "stream": "stdout", 
       "text": [
        "", 
        "doing #18  "
       ]
      }, 
      {
       "output_type": "stream", 
       "stream": "stdout", 
       "text": [
        "", 
        "doing #19  "
       ]
      }, 
      {
       "output_type": "stream", 
       "stream": "stdout", 
       "text": [
        "", 
        "doing #20  "
       ]
      }, 
      {
       "output_type": "stream", 
       "stream": "stdout", 
       "text": [
        "", 
        "doing #21  "
       ]
      }, 
      {
       "output_type": "stream", 
       "stream": "stdout", 
       "text": [
        "", 
        "doing #22  "
       ]
      }, 
      {
       "output_type": "stream", 
       "stream": "stdout", 
       "text": [
        "", 
        "doing #23  "
       ]
      }, 
      {
       "output_type": "stream", 
       "stream": "stdout", 
       "text": [
        "", 
        "doing #24  "
       ]
      }, 
      {
       "output_type": "stream", 
       "stream": "stdout", 
       "text": [
        "", 
        "doing #25  "
       ]
      }, 
      {
       "output_type": "stream", 
       "stream": "stdout", 
       "text": [
        "", 
        "doing #26  "
       ]
      }, 
      {
       "output_type": "stream", 
       "stream": "stdout", 
       "text": [
        "", 
        "doing #27  "
       ]
      }, 
      {
       "output_type": "stream", 
       "stream": "stdout", 
       "text": [
        "", 
        "doing #28  "
       ]
      }, 
      {
       "output_type": "stream", 
       "stream": "stdout", 
       "text": [
        "", 
        "doing #29  "
       ]
      }, 
      {
       "output_type": "stream", 
       "stream": "stdout", 
       "text": [
        "", 
        "doing #30  "
       ]
      }, 
      {
       "output_type": "stream", 
       "stream": "stdout", 
       "text": [
        "", 
        "doing #31  "
       ]
      }, 
      {
       "output_type": "stream", 
       "stream": "stdout", 
       "text": [
        "", 
        "doing #32  "
       ]
      }, 
      {
       "output_type": "stream", 
       "stream": "stdout", 
       "text": [
        "", 
        "doing #33  "
       ]
      }, 
      {
       "output_type": "stream", 
       "stream": "stdout", 
       "text": [
        "", 
        "doing #34  "
       ]
      }, 
      {
       "output_type": "stream", 
       "stream": "stdout", 
       "text": [
        "", 
        "doing #35  "
       ]
      }, 
      {
       "output_type": "stream", 
       "stream": "stdout", 
       "text": [
        "", 
        "doing #36  "
       ]
      }, 
      {
       "output_type": "stream", 
       "stream": "stdout", 
       "text": [
        "", 
        "doing #37  "
       ]
      }, 
      {
       "output_type": "stream", 
       "stream": "stdout", 
       "text": [
        "", 
        "doing #38  "
       ]
      }, 
      {
       "output_type": "stream", 
       "stream": "stdout", 
       "text": [
        "", 
        "doing #39  "
       ]
      }, 
      {
       "output_type": "stream", 
       "stream": "stdout", 
       "text": [
        "", 
        "doing #40  "
       ]
      }, 
      {
       "output_type": "stream", 
       "stream": "stdout", 
       "text": [
        "", 
        "doing #41  "
       ]
      }, 
      {
       "output_type": "stream", 
       "stream": "stdout", 
       "text": [
        "", 
        "doing #42  "
       ]
      }, 
      {
       "output_type": "stream", 
       "stream": "stdout", 
       "text": [
        "", 
        "doing #43  "
       ]
      }, 
      {
       "output_type": "stream", 
       "stream": "stdout", 
       "text": [
        "", 
        "doing #44  "
       ]
      }, 
      {
       "output_type": "stream", 
       "stream": "stdout", 
       "text": [
        "", 
        "doing #45  "
       ]
      }, 
      {
       "output_type": "stream", 
       "stream": "stdout", 
       "text": [
        "", 
        "doing #46  "
       ]
      }, 
      {
       "output_type": "stream", 
       "stream": "stdout", 
       "text": [
        "", 
        "doing #47  "
       ]
      }, 
      {
       "output_type": "stream", 
       "stream": "stdout", 
       "text": [
        "", 
        "doing #48  "
       ]
      }, 
      {
       "output_type": "stream", 
       "stream": "stdout", 
       "text": [
        "", 
        "doing #49  "
       ]
      }, 
      {
       "output_type": "stream", 
       "stream": "stdout", 
       "text": [
        "", 
        "doing #50  "
       ]
      }, 
      {
       "output_type": "stream", 
       "stream": "stdout", 
       "text": [
        "", 
        "doing #51  "
       ]
      }, 
      {
       "output_type": "stream", 
       "stream": "stdout", 
       "text": [
        "", 
        "doing #52  "
       ]
      }, 
      {
       "output_type": "stream", 
       "stream": "stdout", 
       "text": [
        "", 
        "doing #53  "
       ]
      }, 
      {
       "output_type": "stream", 
       "stream": "stdout", 
       "text": [
        "", 
        "doing #54  "
       ]
      }, 
      {
       "output_type": "stream", 
       "stream": "stdout", 
       "text": [
        "", 
        "doing #55  "
       ]
      }, 
      {
       "output_type": "stream", 
       "stream": "stdout", 
       "text": [
        "", 
        "doing #56  "
       ]
      }, 
      {
       "output_type": "stream", 
       "stream": "stdout", 
       "text": [
        "", 
        "doing #57  "
       ]
      }, 
      {
       "output_type": "stream", 
       "stream": "stdout", 
       "text": [
        "", 
        "doing #58  "
       ]
      }, 
      {
       "output_type": "stream", 
       "stream": "stdout", 
       "text": [
        "", 
        "doing #59  "
       ]
      }, 
      {
       "output_type": "stream", 
       "stream": "stdout", 
       "text": [
        "", 
        "doing #60  "
       ]
      }, 
      {
       "output_type": "stream", 
       "stream": "stdout", 
       "text": [
        "", 
        "doing #61  "
       ]
      }, 
      {
       "output_type": "stream", 
       "stream": "stdout", 
       "text": [
        "", 
        "doing #62  "
       ]
      }, 
      {
       "output_type": "stream", 
       "stream": "stdout", 
       "text": [
        "", 
        "doing #63  "
       ]
      }, 
      {
       "output_type": "stream", 
       "stream": "stdout", 
       "text": [
        ""
       ]
      }
     ], 
     "prompt_number": 14
    }, 
    {
     "cell_type": "code", 
     "collapsed": true, 
     "input": [
      "dir = tempfile.TemporaryDirectory()", 
      "norm = get_norm(real)", 
      "write_pics_to_dir(dir.name, n_users, n_items, d, norm)"
     ], 
     "language": "python", 
     "outputs": [], 
     "prompt_number": 15
    }, 
    {
     "cell_type": "code", 
     "collapsed": true, 
     "input": [
      "plot_tree(dir.name, 'tree.png', d, real)", 
      "!open tree.png", 
      "dir.cleanup()"
     ], 
     "language": "python", 
     "outputs": [], 
     "prompt_number": 16
    }, 
    {
     "cell_type": "code", 
     "collapsed": true, 
     "input": [
      "plt.figure()", 
      "show(real, norm, \"true values\")", 
      "plt.savefig('real.png')", 
      "plt.close()", 
      "!open real.png"
     ], 
     "language": "python", 
     "outputs": [], 
     "prompt_number": 17
    }, 
    {
     "cell_type": "code", 
     "collapsed": true, 
     "input": [
      "known = np.array([[0,0,1],[1,1,1],[1,1,0]])"
     ], 
     "language": "python", 
     "outputs": [], 
     "prompt_number": 47
    }, 
    {
     "cell_type": "code", 
     "collapsed": false, 
     "input": [
      "real"
     ], 
     "language": "python", 
     "outputs": [
      {
       "output_type": "pyout", 
       "prompt_number": 19, 
       "text": [
        "array([[-3.45269688, -2.64218162, -6.20329811],", 
        "       [ 0.25977792,  0.19879546,  0.46673078],", 
        "       [ 4.34752799,  3.32695252,  7.8109991 ]])"
       ]
      }
     ], 
     "prompt_number": 19
    }, 
    {
     "cell_type": "code", 
     "collapsed": false, 
     "input": [
      "pmf = fit(real,  known, True)", 
      "pmf.rmse(real)"
     ], 
     "language": "python", 
     "outputs": [
      {
       "output_type": "pyout", 
       "prompt_number": 53, 
       "text": [
        "24.2699953796763"
       ]
      }
     ], 
     "prompt_number": 53
    }, 
    {
     "cell_type": "code", 
     "collapsed": false, 
     "input": [
      "pmf.users, pmf.items"
     ], 
     "language": "python", 
     "outputs": [
      {
       "output_type": "pyout", 
       "prompt_number": 54, 
       "text": [
        "(array([[ 0.76951259],", 
        "       [-0.05400744],", 
        "       [ 8.04288961]]),", 
        " array([[ 0.5402584 ],", 
        "       [ 0.41343357],", 
        "       [-8.06115001]]))"
       ]
      }
     ], 
     "prompt_number": 54
    }, 
    {
     "cell_type": "code", 
     "collapsed": false, 
     "input": [
      "pmf.predicted_matrix()"
     ], 
     "language": "python", 
     "outputs": [
      {
       "output_type": "pyout", 
       "prompt_number": 55, 
       "text": [
        "array([[  4.15735640e-01,   3.18142341e-01,  -6.20315646e+00],", 
        "       [ -2.91779723e-02,  -2.23284884e-02,   4.35362067e-01],", 
        "       [  4.34523864e+00,   3.32520059e+00,  -6.48349396e+01]])"
       ]
      }
     ], 
     "prompt_number": 55
    }, 
    {
     "cell_type": "code", 
     "collapsed": false, 
     "input": [
      "((pmf.predicted_matrix() - real) * known) ** 2"
     ], 
     "language": "python", 
     "outputs": [
      {
       "output_type": "pyout", 
       "prompt_number": 62, 
       "text": [
        "array([[  0.00000000e+00,   0.00000000e+00,   2.00659406e-08],", 
        "       [  8.34955093e-02,   4.88957992e-02,   9.83996002e-04],", 
        "       [  5.24114215e-06,   3.06926488e-06,   0.00000000e+00]])"
       ]
      }
     ], 
     "prompt_number": 62
    }, 
    {
     "cell_type": "code", 
     "collapsed": false, 
     "input": [
      "pmf2 = fit(real, known, True)"
     ], 
     "language": "python", 
     "outputs": [
      {
       "ename": "KeyboardInterrupt", 
       "evalue": "", 
       "output_type": "pyerr", 
       "traceback": [
        "<span class=\"ansired\">---------------------------------------------------------------------------</span>\n<span class=\"ansired\">KeyboardInterrupt</span>                         Traceback (most recent call last)", 
        "<span class=\"ansigreen\">/Users/dsutherl/matrix-fact/python-pmf/&lt;ipython-input-63-359fad142f48&gt;</span> in <span class=\"ansicyan\">&lt;module&gt;</span><span class=\"ansiblue\">()</span>\n<span class=\"ansigreen\">----&gt; 1</span><span class=\"ansired\"> </span>pmf2 <span class=\"ansiblue\">=</span> fit<span class=\"ansiblue\">(</span>real<span class=\"ansiblue\">,</span> known<span class=\"ansiblue\">,</span> <span class=\"ansigreen\">True</span><span class=\"ansiblue\">)</span><span class=\"ansiblue\"></span>\n", 
        "<span class=\"ansigreen\">/Users/dsutherl/matrix-fact/python-pmf/&lt;ipython-input-60-f5149e0295c4&gt;</span> in <span class=\"ansicyan\">fit</span><span class=\"ansiblue\">(real, known, ret_pmf)</span>\n<span class=\"ansigreen\">      9</span>     pmf<span class=\"ansiblue\">.</span>min_learning_rate <span class=\"ansiblue\">=</span> <span class=\"ansicyan\">1e-30</span> <span class=\"ansired\"># 1e-20</span><span class=\"ansiblue\"></span>\n<span class=\"ansigreen\">     10</span> <span class=\"ansiblue\"></span>\n<span class=\"ansigreen\">---&gt; 11</span><span class=\"ansired\">     </span>pmf<span class=\"ansiblue\">.</span>fit<span class=\"ansiblue\">(</span><span class=\"ansiblue\">)</span><span class=\"ansiblue\"></span>\n<span class=\"ansigreen\">     12</span>     <span class=\"ansigreen\">return</span> pmf<span class=\"ansiblue\">.</span>predicted_matrix<span class=\"ansiblue\">(</span><span class=\"ansiblue\">)</span> <span class=\"ansigreen\">if</span> <span class=\"ansigreen\">not</span> ret_pmf <span class=\"ansigreen\">else</span> pmf<span class=\"ansiblue\"></span>\n", 
        "<span class=\"ansigreen\">/Users/dsutherl/matrix-fact/python-pmf/pmf_cy.so</span> in <span class=\"ansicyan\">pmf_cy.ProbabilisticMatrixFactorization.fit (pmf_cy.c:6879)</span><span class=\"ansiblue\">()</span>\n<span class=\"ansigreen\">    278</span>     <span class=\"ansigreen\">def</span> fit<span class=\"ansiblue\">(</span>self<span class=\"ansiblue\">)</span><span class=\"ansiblue\">:</span><span class=\"ansiblue\"></span>\n<span class=\"ansigreen\">    279</span>         cdef double ll<span class=\"ansiblue\"></span>\n<span class=\"ansigreen\">--&gt; 280</span><span class=\"ansired\">         </span><span class=\"ansigreen\">for</span> ll <span class=\"ansigreen\">in</span> self<span class=\"ansiblue\">.</span>fit_lls<span class=\"ansiblue\">(</span><span class=\"ansiblue\">)</span><span class=\"ansiblue\">:</span><span class=\"ansiblue\"></span>\n<span class=\"ansigreen\">    281</span>             <span class=\"ansigreen\">pass</span><span class=\"ansiblue\"></span>\n<span class=\"ansigreen\">    282</span> <span class=\"ansiblue\"></span>\n", 
        "<span class=\"ansigreen\">/Users/dsutherl/matrix-fact/python-pmf/pmf_cy.so</span> in <span class=\"ansicyan\">fit_lls (pmf_cy.c:6645)</span><span class=\"ansiblue\">()</span>\n<span class=\"ansigreen\">    256</span>                 new_users <span class=\"ansiblue\">=</span> self<span class=\"ansiblue\">.</span>users <span class=\"ansiblue\">+</span> lr <span class=\"ansiblue\">*</span> grad_u<span class=\"ansiblue\"></span>\n<span class=\"ansigreen\">    257</span>                 new_items <span class=\"ansiblue\">=</span> self<span class=\"ansiblue\">.</span>items <span class=\"ansiblue\">+</span> lr <span class=\"ansiblue\">*</span> grad_v<span class=\"ansiblue\"></span>\n<span class=\"ansigreen\">--&gt; 258</span><span class=\"ansired\">                 </span>new_ll <span class=\"ansiblue\">=</span> self<span class=\"ansiblue\">.</span>log_likelihood<span class=\"ansiblue\">(</span>new_users<span class=\"ansiblue\">,</span> new_items<span class=\"ansiblue\">)</span><span class=\"ansiblue\"></span>\n<span class=\"ansigreen\">    259</span> <span class=\"ansiblue\"></span>\n<span class=\"ansigreen\">    260</span>                 <span class=\"ansigreen\">if</span> new_ll <span class=\"ansiblue\">&gt;</span> old_ll<span class=\"ansiblue\">:</span><span class=\"ansiblue\"></span>\n", 
        "<span class=\"ansigreen\">/Users/dsutherl/matrix-fact/python-pmf/pmf_cy.so</span> in <span class=\"ansicyan\">pmf_cy.ProbabilisticMatrixFactorization.log_likelihood (pmf_cy.c:4786)</span><span class=\"ansiblue\">()</span>\n<span class=\"ansigreen\">    171</span>             sq_error <span class=\"ansiblue\">+=</span> <span class=\"ansiblue\">(</span>rating <span class=\"ansiblue\">-</span> r_hat<span class=\"ansiblue\">)</span><span class=\"ansiblue\">**</span><span class=\"ansicyan\">2</span><span class=\"ansiblue\"></span>\n<span class=\"ansigreen\">    172</span> <span class=\"ansiblue\"></span>\n<span class=\"ansigreen\">--&gt; 173</span><span class=\"ansired\">         </span>cdef double user_norm2 <span class=\"ansiblue\">=</span> np<span class=\"ansiblue\">.</span>sum<span class=\"ansiblue\">(</span>users <span class=\"ansiblue\">*</span> users<span class=\"ansiblue\">)</span><span class=\"ansiblue\"></span>\n<span class=\"ansigreen\">    174</span>         cdef double item_norm2 <span class=\"ansiblue\">=</span> np<span class=\"ansiblue\">.</span>sum<span class=\"ansiblue\">(</span>items <span class=\"ansiblue\">*</span> items<span class=\"ansiblue\">)</span><span class=\"ansiblue\"></span>\n<span class=\"ansigreen\">    175</span> <span class=\"ansiblue\"></span>\n", 
        "<span class=\"ansigreen\">/Library/Frameworks/Python.framework/Versions/3.2/lib/python3.2/site-packages/numpy/core/fromnumeric.py</span> in <span class=\"ansicyan\">sum</span><span class=\"ansiblue\">(a, axis, dtype, out)</span>\n<span class=\"ansigreen\">   1453</span>     <span class=\"ansigreen\">except</span> AttributeError<span class=\"ansiblue\">:</span><span class=\"ansiblue\"></span>\n<span class=\"ansigreen\">   1454</span>         <span class=\"ansigreen\">return</span> _wrapit<span class=\"ansiblue\">(</span>a<span class=\"ansiblue\">,</span> <span class=\"ansiblue\">&apos;sum&apos;</span><span class=\"ansiblue\">,</span> axis<span class=\"ansiblue\">,</span> dtype<span class=\"ansiblue\">,</span> out<span class=\"ansiblue\">)</span><span class=\"ansiblue\"></span>\n<span class=\"ansigreen\">-&gt; 1455</span><span class=\"ansired\">     </span><span class=\"ansigreen\">return</span> sum<span class=\"ansiblue\">(</span>axis<span class=\"ansiblue\">,</span> dtype<span class=\"ansiblue\">,</span> out<span class=\"ansiblue\">)</span><span class=\"ansiblue\"></span>\n<span class=\"ansigreen\">   1456</span> <span class=\"ansiblue\"></span>\n<span class=\"ansigreen\">   1457</span> <span class=\"ansiblue\"></span>\n", 
        "<span class=\"ansired\">KeyboardInterrupt</span>: "
       ]
      }
     ], 
     "prompt_number": 63
    }, 
    {
     "cell_type": "code", 
     "collapsed": false, 
     "input": [
      "ratings = np.zeros((known.sum(), 3))", 
      "for idx, (i, j) in enumerate(np.transpose(known.nonzero())):", 
      "    ratings[idx] = [i, j, real[i, j]]", 
      "    ", 
      "pmf2 = ProbabilisticMatrixFactorization(ratings, 1)", 
      "pmf2.sigma_u_sq = pmf.sigma_v_sq = 1", 
      "pmf2.stop_thresh = 1e-30 #1e-10", 
      "pmf2.min_learning_rate = 1e-30 # 1e-20", 
      "fitter = pmf2.fit_lls()"
     ], 
     "language": "python", 
     "outputs": [], 
     "prompt_number": 526
    }, 
    {
     "cell_type": "code", 
     "collapsed": false, 
     "input": [
      "old_users, old_items = pmf2.users, pmf2.items", 
      "list(islice(fitter, 10000))", 
      "np.linalg.norm(pmf2.users - old_users), np.linalg.norm(pmf2.items - old_items), next(fitter), pmf2.rmse(real)"
     ], 
     "language": "python", 
     "outputs": [
      {
       "ename": "StopIteration", 
       "evalue": "", 
       "output_type": "pyerr", 
       "traceback": [
        "<span class=\"ansired\">---------------------------------------------------------------------------</span>\n<span class=\"ansired\">StopIteration</span>                             Traceback (most recent call last)", 
        "<span class=\"ansigreen\">/Users/dsutherl/matrix-fact/python-pmf/&lt;ipython-input-527-a5f5048896e5&gt;</span> in <span class=\"ansicyan\">&lt;module&gt;</span><span class=\"ansiblue\">()</span>\n<span class=\"ansigreen\">      1</span> old_users<span class=\"ansiblue\">,</span> old_items <span class=\"ansiblue\">=</span> pmf2<span class=\"ansiblue\">.</span>users<span class=\"ansiblue\">,</span> pmf2<span class=\"ansiblue\">.</span>items<span class=\"ansiblue\"></span>\n<span class=\"ansigreen\">      2</span> list<span class=\"ansiblue\">(</span>islice<span class=\"ansiblue\">(</span>fitter<span class=\"ansiblue\">,</span> <span class=\"ansicyan\">10000</span><span class=\"ansiblue\">)</span><span class=\"ansiblue\">)</span><span class=\"ansiblue\"></span>\n<span class=\"ansigreen\">----&gt; 3</span><span class=\"ansired\"> </span>np<span class=\"ansiblue\">.</span>linalg<span class=\"ansiblue\">.</span>norm<span class=\"ansiblue\">(</span>pmf2<span class=\"ansiblue\">.</span>users <span class=\"ansiblue\">-</span> old_users<span class=\"ansiblue\">)</span><span class=\"ansiblue\">,</span> np<span class=\"ansiblue\">.</span>linalg<span class=\"ansiblue\">.</span>norm<span class=\"ansiblue\">(</span>pmf2<span class=\"ansiblue\">.</span>items <span class=\"ansiblue\">-</span> old_items<span class=\"ansiblue\">)</span><span class=\"ansiblue\">,</span> next<span class=\"ansiblue\">(</span>fitter<span class=\"ansiblue\">)</span><span class=\"ansiblue\">,</span> pmf2<span class=\"ansiblue\">.</span>rmse<span class=\"ansiblue\">(</span>real<span class=\"ansiblue\">)</span><span class=\"ansiblue\"></span>\n", 
        "<span class=\"ansired\">StopIteration</span>: "
       ]
      }
     ], 
     "prompt_number": 527
    }, 
    {
     "cell_type": "code", 
     "collapsed": false, 
     "input": [
      "pmf2.log_likelihood(), pmf2.rmse(real)"
     ], 
     "language": "python", 
     "outputs": [
      {
       "output_type": "pyout", 
       "prompt_number": 533, 
       "text": [
        "(-3.600396653364947, 0.8574212376112251)"
       ]
      }
     ], 
     "prompt_number": 533
    }, 
    {
     "cell_type": "code", 
     "collapsed": false, 
     "input": [
      "(pmf2.predicted_matrix() - real) * known"
     ], 
     "language": "python", 
     "outputs": [
      {
       "output_type": "pyout", 
       "prompt_number": 536, 
       "text": [
        "array([[-0.        , -0.        ,  0.31402383],", 
        "       [ 0.03704924,  0.02835199, -0.06481619],", 
        "       [-0.25247822, -0.19320935, -0.        ]])"
       ]
      }
     ], 
     "prompt_number": 536
    }, 
    {
     "cell_type": "code", 
     "collapsed": false, 
     "input": [
      "pmf2.users, pmf2.items"
     ], 
     "language": "python", 
     "outputs": [
      {
       "output_type": "pyout", 
       "prompt_number": 529, 
       "text": [
        "(array([[-1.35991635],", 
        "       [ 0.09280774],", 
        "       [ 1.28038251]]),", 
        " array([[ 3.19830188],", 
        "       [ 2.44750546],", 
        "       [ 4.3306151 ]]))"
       ]
      }
     ], 
     "prompt_number": 529
    }, 
    {
     "cell_type": "code", 
     "collapsed": false, 
     "input": [
      "pmf2.gradient()"
     ], 
     "language": "python", 
     "outputs": [
      {
       "output_type": "pyout", 
       "prompt_number": 537, 
       "text": [
        "(array([[  2.08167763e-08],", 
        "       [ -4.19637143e-08],", 
        "       [ -1.78456673e-08]]),", 
        " array([[  4.86289662e-08],", 
        "       [  3.72133911e-08],", 
        "       [  7.15180693e-08]]))"
       ]
      }
     ], 
     "prompt_number": 537
    }, 
    {
     "cell_type": "code", 
     "collapsed": true, 
     "input": [
      "bpmf = BayesianPMF(ratings, 1)", 
      "bpmf.users = pmf2.users", 
      "bpmf.items = pmf2.items"
     ], 
     "language": "python", 
     "outputs": [], 
     "prompt_number": 538
    }, 
    {
     "cell_type": "code", 
     "collapsed": false, 
     "input": [
      "sampler = bpmf.samples()"
     ], 
     "language": "python", 
     "outputs": [], 
     "prompt_number": 540
    }, 
    {
     "cell_type": "code", 
     "collapsed": false, 
     "input": [
      "list(islice(sampler, 1000))"
     ], 
     "language": "python", 
     "outputs": [
      {
       "ename": "IndexError", 
       "evalue": "tuple index out of range", 
       "output_type": "pyerr", 
       "traceback": [
        "<span class=\"ansired\">---------------------------------------------------------------------------</span>\n<span class=\"ansired\">IndexError</span>                                Traceback (most recent call last)", 
        "<span class=\"ansigreen\">/Users/dsutherl/matrix-fact/python-pmf/&lt;ipython-input-541-8bdbcdf1baa0&gt;</span> in <span class=\"ansicyan\">&lt;module&gt;</span><span class=\"ansiblue\">()</span>\n<span class=\"ansigreen\">----&gt; 1</span><span class=\"ansired\"> </span>list<span class=\"ansiblue\">(</span>islice<span class=\"ansiblue\">(</span>sampler<span class=\"ansiblue\">,</span> <span class=\"ansicyan\">1000</span><span class=\"ansiblue\">)</span><span class=\"ansiblue\">)</span><span class=\"ansiblue\"></span>\n", 
        "<span class=\"ansigreen\">/Users/dsutherl/matrix-fact/python-pmf/bayes_pmf.py</span> in <span class=\"ansicyan\">samples</span><span class=\"ansiblue\">(self, num_gibbs, pool, multiproc_mode, fit_first)</span>\n<span class=\"ansigreen\">    240</span> <span class=\"ansiblue\"></span>\n<span class=\"ansigreen\">    241</span>         <span class=\"ansired\"># alpha is the inverse covariance among latent dimensions</span>\n<span class=\"ansiblue\"></span>\n<span class=\"ansigreen\">--&gt; 242</span><span class=\"ansired\">         </span>alpha_u <span class=\"ansiblue\">=</span> np<span class=\"ansiblue\">.</span>linalg<span class=\"ansiblue\">.</span>inv<span class=\"ansiblue\">(</span>np<span class=\"ansiblue\">.</span>cov<span class=\"ansiblue\">(</span>user_sample<span class=\"ansiblue\">,</span> rowvar<span class=\"ansiblue\">=</span><span class=\"ansicyan\">0</span><span class=\"ansiblue\">)</span><span class=\"ansiblue\">)</span><span class=\"ansiblue\"></span>\n<span class=\"ansigreen\">    243</span>         alpha_v <span class=\"ansiblue\">=</span> np<span class=\"ansiblue\">.</span>linalg<span class=\"ansiblue\">.</span>inv<span class=\"ansiblue\">(</span>np<span class=\"ansiblue\">.</span>cov<span class=\"ansiblue\">(</span>item_sample<span class=\"ansiblue\">,</span> rowvar<span class=\"ansiblue\">=</span><span class=\"ansicyan\">0</span><span class=\"ansiblue\">)</span><span class=\"ansiblue\">)</span><span class=\"ansiblue\"></span>\n<span class=\"ansigreen\">    244</span> <span class=\"ansiblue\"></span>\n", 
        "<span class=\"ansigreen\">/Library/Frameworks/Python.framework/Versions/3.2/lib/python3.2/site-packages/numpy/linalg/linalg.py</span> in <span class=\"ansicyan\">inv</span><span class=\"ansiblue\">(a)</span>\n<span class=\"ansigreen\">    443</span>     &quot;&quot;&quot;\n<span class=\"ansigreen\">    444</span>     a<span class=\"ansiblue\">,</span> wrap <span class=\"ansiblue\">=</span> _makearray<span class=\"ansiblue\">(</span>a<span class=\"ansiblue\">)</span><span class=\"ansiblue\"></span>\n<span class=\"ansigreen\">--&gt; 445</span><span class=\"ansired\">     </span><span class=\"ansigreen\">return</span> wrap<span class=\"ansiblue\">(</span>solve<span class=\"ansiblue\">(</span>a<span class=\"ansiblue\">,</span> identity<span class=\"ansiblue\">(</span>a<span class=\"ansiblue\">.</span>shape<span class=\"ansiblue\">[</span><span class=\"ansicyan\">0</span><span class=\"ansiblue\">]</span><span class=\"ansiblue\">,</span> dtype<span class=\"ansiblue\">=</span>a<span class=\"ansiblue\">.</span>dtype<span class=\"ansiblue\">)</span><span class=\"ansiblue\">)</span><span class=\"ansiblue\">)</span><span class=\"ansiblue\"></span>\n<span class=\"ansigreen\">    446</span> <span class=\"ansiblue\"></span>\n<span class=\"ansigreen\">    447</span> <span class=\"ansiblue\"></span>\n", 
        "<span class=\"ansired\">IndexError</span>: tuple index out of range"
       ]
      }
     ], 
     "prompt_number": 541
    }
   ]
  }
 ]
}