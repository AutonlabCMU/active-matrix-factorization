{
 "metadata": {
  "name": "investigate-small"
 }, 
 "nbformat": 2, 
 "worksheets": [
  {
   "cells": [
    {
     "cell_type": "code", 
     "collapsed": true, 
     "input": [
      "from active_pmf import *", 
      "from bayes_pmf import *", 
      "from matplotlib import pyplot as plt", 
      "import matplotlib", 
      "import itertools", 
      "import os", 
      "import tempfile"
     ], 
     "language": "python", 
     "outputs": [], 
     "prompt_number": 1
    }, 
    {
     "cell_type": "code", 
     "collapsed": true, 
     "input": [
      "def fit(real, known):", 
      "    ratings = np.zeros((known.sum(), 3))", 
      "    for idx, (i, j) in enumerate(np.transpose(known.nonzero())):", 
      "        ratings[idx] = [i, j, real[i, j]]", 
      "    ", 
      "    pmf = ProbabilisticMatrixFactorization(ratings, 1)", 
      "    pmf.sigma_u_sq = pmf.sigma_v_sq = 1e10", 
      "    pmf.stop_thresh = 1e-10", 
      "    pmf.min_learning_rate = 1e-20", 
      "    ", 
      "    pmf.fit()", 
      "    return pmf.predicted_matrix()"
     ], 
     "language": "python", 
     "outputs": [], 
     "prompt_number": 2
    }, 
    {
     "cell_type": "code", 
     "collapsed": true, 
     "input": [
      "rmse = lambda exp, real: np.sqrt(((real - exp)**2).sum() / real.size)"
     ], 
     "language": "python", 
     "outputs": [], 
     "prompt_number": 3
    }, 
    {
     "cell_type": "code", 
     "collapsed": true, 
     "input": [
      "def subplot_config(n):", 
      "    if n <= 3:", 
      "        return 1, n", 
      "    nc = np.ceil(np.sqrt(n))", 
      "    nr = np.ceil(n / nc)", 
      "    return int(nr), int(nc)"
     ], 
     "language": "python", 
     "outputs": [], 
     "prompt_number": 4
    }, 
    {
     "cell_type": "code", 
     "collapsed": true, 
     "input": [
      "def possibilities(n_users, n_items):", 
      "    shape = (n_users, n_items)", 
      "    larger = max(n_users, n_items)", 
      "    total = n_users * n_items", 
      "    diag = frozenset((i % n_users)*n_items + (i % n_items) for i in range(larger))", 
      "    ", 
      "    for length in range(larger, total+1):", 
      "        for picked in itertools.combinations(range(total), length):", 
      "            if diag.issubset(picked):", 
      "                k = np.zeros(shape)", 
      "                k[np.unravel_index(picked, shape)] = 1", 
      "                yield k"
     ], 
     "language": "python", 
     "outputs": [], 
     "prompt_number": 5
    }, 
    {
     "cell_type": "code", 
     "collapsed": false, 
     "input": [
      "def fill_dict(real, d=None, num=None):", 
      "    import sys", 
      "    if d is None:", 
      "        d = {}", 
      "    ", 
      "    for i, k in enumerate(possibilities(*real.shape)):", 
      "        s = k.tostring()", 
      "        val = d.get(s, [])", 
      "        ", 
      "        if num is None:", 
      "            if val == []: continue", 
      "        else:", 
      "            if len(val) >= num: continue", 
      "        ", 
      "        val = list(val) if val is not None else []", 
      "        print(\"\\rdoing #{}\".format(i), end='  ')", 
      "        sys.stdout.flush()", 
      "        ", 
      "        if num is None:", 
      "            d[s] = fit(real, k)", 
      "        else:", 
      "            while len(val) < num:", 
      "                val.append(fit(real, k))", 
      "            d[s] = val", 
      "    print()", 
      "    return d"
     ], 
     "language": "python", 
     "outputs": [], 
     "prompt_number": 50
    }, 
    {
     "cell_type": "code", 
     "collapsed": true, 
     "input": [
      "def get_norm(real):", 
      "    vmean = real.mean()", 
      "    vmin = (real - vmean).min() * 2 + vmean", 
      "    vmax = (real - vmean).max() * 2 + vmean", 
      "    return Normalize(vmin, vmax)"
     ], 
     "language": "python", 
     "outputs": [], 
     "prompt_number": 7
    }, 
    {
     "cell_type": "code", 
     "collapsed": true, 
     "input": [
      "def show(pred, norm=None, title=None, colorbar=True, known=None, s=None):", 
      "    if isinstance(pred, list):", 
      "        pred = np.mean(pred, axis=0)", 
      "    plt.imshow(pred, interpolation='nearest', cmap=cm.jet, origin='lower', aspect='equal', norm=norm)", 
      "    plt.grid()", 
      "    if s is not None:", 
      "        width, height = s", 
      "        f = plt.gcf()", 
      "        f.set_figwidth(width)", 
      "        f.set_figheight(height)", 
      "    plt.xticks([], [])", 
      "    plt.yticks([], [])", 
      "    if title:", 
      "        plt.title(title)", 
      "    if colorbar:", 
      "        plt.colorbar()", 
      "    if known is not None:", 
      "        k_i, k_j = known.nonzero()", 
      "        plt.scatter(k_j, k_i, marker='s', c='white', s=15)"
     ], 
     "language": "python", 
     "outputs": [], 
     "prompt_number": 60
    }, 
    {
     "cell_type": "code", 
     "collapsed": true, 
     "input": [
      "# show a grid of all the possibilities", 
      "def plot_possibilities_grid(d, n_users, n_items, real):", 
      "    assert len(d) >= 2**(n_users * n_items - max(n_users, n_items))", 
      "    ", 
      "    from mpl_toolkits.axes_grid1 import ImageGrid", 
      "    fig = plt.figure()", 
      "    nr, nc = subplot_config(2 ** (n_items * n_users - max(n_items, n_users)))", 
      "    grid = ImageGrid(fig, 111, nrows_ncols=(nr,nc), axes_pad=.2,", 
      "                     cbar_location='right', cbar_mode='single')", 
      "", 
      "    xticks = np.linspace(-.5, n_items - .5, n_items + 1)", 
      "    yticks = np.linspace(-.5, n_users - .5, n_users + 1)", 
      "", 
      "    #vmin = min(vals[np.isfinite(vals)].min() for vals in d.values())", 
      "    #vmax = max(vals[np.isfinite(vals)].max() for vals in d.values())", 
      "    #norm = Normalize(vmin, vmax)", 
      "    norm = get_norm(real)", 
      "", 
      "    for i, k in enumerate(possibilities(n_users, n_items)):", 
      "        pred = d[k.tostring()]", 
      "        grid[i].set_title(\"{:.3}\".format(rmse(real, pred)))", 
      "        im = grid[i].imshow(pred, interpolation='nearest', cmap=cm.jet, origin='lower', aspect='equal', norm=norm)", 
      "    ", 
      "        grid[i].set_xticks(xticks)", 
      "        grid[i].set_yticks(yticks)", 
      "        grid[i].set_xticklabels([])", 
      "        grid[i].set_yticklabels([])", 
      "        grid[i].set_xlim(xticks[0], xticks[-1])", 
      "        grid[i].set_ylim(yticks[0], yticks[-1])", 
      "        grid[i].grid()", 
      "    ", 
      "        k_i, k_j = k.nonzero()", 
      "        grid[i].scatter(k_j, k_i, marker='s', c='white', s=15)", 
      "", 
      "    for i in range(i+1, nr*nc):", 
      "        grid[i].set_visible(False)", 
      "", 
      "    grid.cbar_axes[0].colorbar(im)", 
      "    return norm"
     ], 
     "language": "python", 
     "outputs": [], 
     "prompt_number": 9
    }, 
    {
     "cell_type": "code", 
     "collapsed": false, 
     "input": [
      "def write_pics_to_dir(dirname, n_users, n_items, d, norm):", 
      "    for i, k in enumerate(possibilities(n_users, n_items)):", 
      "        pred = d[k.tostring()]", 
      "        if isinstance(pred, list):", 
      "            for idx, p in enumerate(pred):", 
      "                fig = plt.figure()", 
      "                show(p, norm=norm, colorbar=False, known=k, s=(1,1))", 
      "                fig.savefig(os.path.join(dirname, \"node_{}_{}.png\".format(i, idx)), bbox_inches='tight', pad_inches=0)", 
      "                plt.close(fig)", 
      "        else:", 
      "            fig = plt.figure()", 
      "            show(pred, norm=norm, colorbar=False, known=k, s=(1,1))", 
      "            fig.savefig(os.path.join(dirname, \"node_{}.png\".format(idx)), bbox_inches='tight', pad_inches=0)", 
      "            plt.close(fig)"
     ], 
     "language": "python", 
     "outputs": [], 
     "prompt_number": 80
    }, 
    {
     "cell_type": "code", 
     "collapsed": true, 
     "input": [
      "def make_dot_tree(dirname, d, real):", 
      "    n_users, n_items = real.shape", 
      "    poss = {k.tostring(): i for i, k in enumerate(possibilities(n_users, n_items))}", 
      "    ", 
      "    nodes = []", 
      "    node_p = 'n_{}[shape=none,label=<<table><tr><td>{:.2} to {:.2}</td></tr><tr><td>{:.4}</td></tr>' \\", 
      "             '<tr><td><img src=\"{}\" /></td></tr></table>>];'", 
      "    for s, i in poss.items():", 
      "        rmses = [rmse(v, real) for v in d[s]]", 
      "        argsorted = np.argsort(rmses)", 
      "        med = argsorted[len(argsorted) // 2]", 
      "        fname = os.path.join(dirname, 'node_{}_{}.png'.format(i, med))", 
      "        nodes.append(node_p.format(i, np.min(rmses), np.max(rmses), np.median(rmses), fname))", 
      "    ", 
      "    conns = []", 
      "    for s, idx in poss.items():", 
      "        k = np.fromstring(s) # 1d", 
      "        for i in (k == 0).nonzero()[0].flat:", 
      "            kprime = k.copy()", 
      "            assert kprime[i] == 0", 
      "            kprime[i] = 1", 
      "            conns.append((idx, poss[kprime.tostring()]))", 
      "    edges = ['n_{} -> n_{};'.format(fr, to) for fr, to in conns]", 
      "    ", 
      "    return 'digraph {\\n' + '\\n'.join(nodes) + '\\n\\n\\n' + '\\n'.join(edges) + '\\n\\n\\n' + '}'"
     ], 
     "language": "python", 
     "outputs": [], 
     "prompt_number": 77
    }, 
    {
     "cell_type": "code", 
     "collapsed": true, 
     "input": [
      "def plot_tree(dirname, outname, d, real):", 
      "    import subprocess", 
      "    dot = make_dot_tree(dirname, d, real)", 
      "    p = subprocess.Popen(['dot', '-Tpng', '-o', outname], stdin=subprocess.PIPE)", 
      "    p.communicate(dot.encode())"
     ], 
     "language": "python", 
     "outputs": [], 
     "prompt_number": 12
    }, 
    {
     "cell_type": "code", 
     "collapsed": true, 
     "input": [
      "n_users = n_items = 3", 
      "real, _, _ = make_fake_data(noise=0, num_users=n_users, num_items=n_items,", 
      "                            rank=1, mask_type='diag')", 
      "d = {}"
     ], 
     "language": "python", 
     "outputs": [], 
     "prompt_number": 13
    }, 
    {
     "cell_type": "code", 
     "collapsed": false, 
     "input": [
      "fill_dict(real, d, 5); None"
     ], 
     "language": "python", 
     "outputs": [
      {
       "output_type": "stream", 
       "stream": "stdout", 
       "text": [
        "", 
        "doing #0  "
       ]
      }, 
      {
       "output_type": "stream", 
       "stream": "stdout", 
       "text": [
        "", 
        "doing #1  "
       ]
      }, 
      {
       "output_type": "stream", 
       "stream": "stdout", 
       "text": [
        "", 
        "doing #2  "
       ]
      }, 
      {
       "output_type": "stream", 
       "stream": "stdout", 
       "text": [
        "", 
        "doing #3  "
       ]
      }, 
      {
       "output_type": "stream", 
       "stream": "stdout", 
       "text": [
        "", 
        "doing #4  "
       ]
      }, 
      {
       "output_type": "stream", 
       "stream": "stdout", 
       "text": [
        "", 
        "doing #5  "
       ]
      }, 
      {
       "output_type": "stream", 
       "stream": "stdout", 
       "text": [
        "", 
        "doing #6  "
       ]
      }, 
      {
       "output_type": "stream", 
       "stream": "stdout", 
       "text": [
        "", 
        "doing #7  "
       ]
      }, 
      {
       "output_type": "stream", 
       "stream": "stdout", 
       "text": [
        "", 
        "doing #8  "
       ]
      }, 
      {
       "output_type": "stream", 
       "stream": "stdout", 
       "text": [
        "", 
        "doing #9  "
       ]
      }, 
      {
       "output_type": "stream", 
       "stream": "stdout", 
       "text": [
        "", 
        "doing #10  "
       ]
      }, 
      {
       "output_type": "stream", 
       "stream": "stdout", 
       "text": [
        "", 
        "doing #11  "
       ]
      }, 
      {
       "output_type": "stream", 
       "stream": "stdout", 
       "text": [
        "", 
        "doing #12  "
       ]
      }, 
      {
       "output_type": "stream", 
       "stream": "stdout", 
       "text": [
        "", 
        "doing #13  "
       ]
      }, 
      {
       "output_type": "stream", 
       "stream": "stdout", 
       "text": [
        "", 
        "doing #14  "
       ]
      }, 
      {
       "output_type": "stream", 
       "stream": "stdout", 
       "text": [
        "", 
        "doing #15  "
       ]
      }, 
      {
       "output_type": "stream", 
       "stream": "stdout", 
       "text": [
        "", 
        "doing #16  "
       ]
      }, 
      {
       "output_type": "stream", 
       "stream": "stdout", 
       "text": [
        "", 
        "doing #17  "
       ]
      }, 
      {
       "output_type": "stream", 
       "stream": "stdout", 
       "text": [
        "", 
        "doing #18  "
       ]
      }, 
      {
       "output_type": "stream", 
       "stream": "stdout", 
       "text": [
        "", 
        "doing #19  "
       ]
      }, 
      {
       "output_type": "stream", 
       "stream": "stdout", 
       "text": [
        "", 
        "doing #20  "
       ]
      }, 
      {
       "output_type": "stream", 
       "stream": "stdout", 
       "text": [
        "", 
        "doing #21  "
       ]
      }, 
      {
       "output_type": "stream", 
       "stream": "stdout", 
       "text": [
        "", 
        "doing #22  "
       ]
      }, 
      {
       "output_type": "stream", 
       "stream": "stdout", 
       "text": [
        "", 
        "doing #23  "
       ]
      }, 
      {
       "output_type": "stream", 
       "stream": "stdout", 
       "text": [
        "", 
        "doing #24  "
       ]
      }, 
      {
       "output_type": "stream", 
       "stream": "stdout", 
       "text": [
        "", 
        "doing #25  "
       ]
      }, 
      {
       "output_type": "stream", 
       "stream": "stdout", 
       "text": [
        "", 
        "doing #26  "
       ]
      }, 
      {
       "output_type": "stream", 
       "stream": "stdout", 
       "text": [
        "", 
        "doing #27  "
       ]
      }, 
      {
       "output_type": "stream", 
       "stream": "stdout", 
       "text": [
        "", 
        "doing #28  "
       ]
      }, 
      {
       "output_type": "stream", 
       "stream": "stdout", 
       "text": [
        "", 
        "doing #29  "
       ]
      }, 
      {
       "output_type": "stream", 
       "stream": "stdout", 
       "text": [
        "", 
        "doing #30  "
       ]
      }, 
      {
       "output_type": "stream", 
       "stream": "stdout", 
       "text": [
        "", 
        "doing #31  "
       ]
      }, 
      {
       "output_type": "stream", 
       "stream": "stdout", 
       "text": [
        "", 
        "doing #32  "
       ]
      }, 
      {
       "output_type": "stream", 
       "stream": "stdout", 
       "text": [
        "", 
        "doing #33  "
       ]
      }, 
      {
       "output_type": "stream", 
       "stream": "stdout", 
       "text": [
        "", 
        "doing #34  "
       ]
      }, 
      {
       "output_type": "stream", 
       "stream": "stdout", 
       "text": [
        "", 
        "doing #35  "
       ]
      }, 
      {
       "output_type": "stream", 
       "stream": "stdout", 
       "text": [
        "", 
        "doing #36  "
       ]
      }, 
      {
       "output_type": "stream", 
       "stream": "stdout", 
       "text": [
        "", 
        "doing #37  "
       ]
      }, 
      {
       "output_type": "stream", 
       "stream": "stdout", 
       "text": [
        "", 
        "doing #38  "
       ]
      }, 
      {
       "output_type": "stream", 
       "stream": "stdout", 
       "text": [
        "", 
        "doing #39  "
       ]
      }, 
      {
       "output_type": "stream", 
       "stream": "stdout", 
       "text": [
        "", 
        "doing #40  "
       ]
      }, 
      {
       "output_type": "stream", 
       "stream": "stdout", 
       "text": [
        "", 
        "doing #41  "
       ]
      }, 
      {
       "output_type": "stream", 
       "stream": "stdout", 
       "text": [
        "", 
        "doing #42  "
       ]
      }, 
      {
       "output_type": "stream", 
       "stream": "stdout", 
       "text": [
        "", 
        "doing #43  "
       ]
      }, 
      {
       "output_type": "stream", 
       "stream": "stdout", 
       "text": [
        "", 
        "doing #44  "
       ]
      }, 
      {
       "output_type": "stream", 
       "stream": "stdout", 
       "text": [
        "", 
        "doing #45  "
       ]
      }, 
      {
       "output_type": "stream", 
       "stream": "stdout", 
       "text": [
        "", 
        "doing #46  "
       ]
      }, 
      {
       "output_type": "stream", 
       "stream": "stdout", 
       "text": [
        "", 
        "doing #47  "
       ]
      }, 
      {
       "output_type": "stream", 
       "stream": "stdout", 
       "text": [
        "", 
        "doing #48  "
       ]
      }, 
      {
       "output_type": "stream", 
       "stream": "stdout", 
       "text": [
        "", 
        "doing #49  "
       ]
      }, 
      {
       "output_type": "stream", 
       "stream": "stdout", 
       "text": [
        "", 
        "doing #50  "
       ]
      }, 
      {
       "output_type": "stream", 
       "stream": "stdout", 
       "text": [
        "", 
        "doing #51  "
       ]
      }, 
      {
       "output_type": "stream", 
       "stream": "stdout", 
       "text": [
        "", 
        "doing #52  "
       ]
      }, 
      {
       "output_type": "stream", 
       "stream": "stdout", 
       "text": [
        "", 
        "doing #53  "
       ]
      }, 
      {
       "output_type": "stream", 
       "stream": "stdout", 
       "text": [
        "", 
        "doing #54  "
       ]
      }, 
      {
       "output_type": "stream", 
       "stream": "stdout", 
       "text": [
        "", 
        "doing #55  "
       ]
      }, 
      {
       "output_type": "stream", 
       "stream": "stdout", 
       "text": [
        "", 
        "doing #56  "
       ]
      }, 
      {
       "output_type": "stream", 
       "stream": "stdout", 
       "text": [
        "", 
        "doing #57  "
       ]
      }, 
      {
       "output_type": "stream", 
       "stream": "stdout", 
       "text": [
        "", 
        "doing #58  "
       ]
      }, 
      {
       "output_type": "stream", 
       "stream": "stdout", 
       "text": [
        "", 
        "doing #59  "
       ]
      }, 
      {
       "output_type": "stream", 
       "stream": "stdout", 
       "text": [
        "", 
        "doing #60  "
       ]
      }, 
      {
       "output_type": "stream", 
       "stream": "stdout", 
       "text": [
        "", 
        "doing #61  "
       ]
      }, 
      {
       "output_type": "stream", 
       "stream": "stdout", 
       "text": [
        "", 
        "doing #62  "
       ]
      }, 
      {
       "output_type": "stream", 
       "stream": "stdout", 
       "text": [
        "", 
        "doing #63  "
       ]
      }, 
      {
       "output_type": "stream", 
       "stream": "stdout", 
       "text": [
        ""
       ]
      }
     ], 
     "prompt_number": 52
    }, 
    {
     "cell_type": "code", 
     "collapsed": false, 
     "input": [
      "dir = tempfile.TemporaryDirectory()", 
      "norm = get_norm(real)", 
      "write_pics_to_dir(dir.name, n_users, n_items, d, norm)"
     ], 
     "language": "python", 
     "outputs": [], 
     "prompt_number": 81
    }, 
    {
     "cell_type": "code", 
     "collapsed": false, 
     "input": [
      "plot_tree(dir.name, 'tree.png', d, real)", 
      "!open tree.png", 
      "dir.cleanup()"
     ], 
     "language": "python", 
     "outputs": [], 
     "prompt_number": 82
    }, 
    {
     "cell_type": "code", 
     "collapsed": true, 
     "input": [
      "plt.figure()", 
      "show(real, norm, \"true values\")", 
      "plt.savefig('real.png')", 
      "plt.close()", 
      "!open real.png"
     ], 
     "language": "python", 
     "outputs": [], 
     "prompt_number": 83
    }
   ]
  }
 ]
}