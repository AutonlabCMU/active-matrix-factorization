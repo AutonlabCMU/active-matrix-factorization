{
 "metadata": {
  "name": "investigate-small"
 }, 
 "nbformat": 2, 
 "worksheets": [
  {
   "cells": [
    {
     "cell_type": "code", 
     "collapsed": false, 
     "input": [
      "from active_pmf import *", 
      "from bayes_pmf import *", 
      "from matplotlib import pyplot as plt", 
      "import matplotlib", 
      "import itertools", 
      "import os", 
      "import tempfile"
     ], 
     "language": "python", 
     "outputs": [], 
     "prompt_number": 1
    }, 
    {
     "cell_type": "code", 
     "collapsed": true, 
     "input": [
      "def fit(real, known, ret_pmf=False, subtract_mean=False,", 
      "        sig_u=1e10, sig_v=1e10, sig=1, ", 
      "        do_bayes=False, burnin=10, samps=200, sample_fn=lambda bpmf: bpmf.samples(),", 
      "        stop_thresh=1e-10, min_learning_rate=1e-20):", 
      "    ratings = np.zeros((known.sum(), 3))", 
      "    for idx, (i, j) in enumerate(np.transpose(known.nonzero())):", 
      "        ratings[idx] = [i, j, real[i, j]]", 
      "    ", 
      "    pmf = ProbabilisticMatrixFactorization(ratings, 1, subtract_mean)", 
      "    pmf.sigma_sq = sig", 
      "    pmf.sigma_u_sq = sig_u", 
      "    pmf.sigma_v_sq = sig_v", 
      "    pmf.stop_thresh = stop_thresh", 
      "    pmf.min_learning_rate = min_learning_rate", 
      "    pmf.fit()", 
      "    ", 
      "    if not do_bayes:", 
      "        pred = pmf.predicted_matrix()", 
      "        return (pmf, pred) if ret_pmf else pred", 
      "    else:", 
      "        bpmf = BayesianPMF(ratings, 1)", 
      "        bpmf.__setstate__(pmf.__getstate__())", 
      "        sampler = sample_fn(bpmf)", 
      "        ", 
      "        # do burn-in", 
      "        next(islice(sampler, burnin, burnin), None)", 
      "        ", 
      "        pred = bpmf.predict(islice(sampler, samps))", 
      "        return (bpmf, pred) if ret_pmf else pred"
     ], 
     "language": "python", 
     "outputs": [], 
     "prompt_number": 2
    }, 
    {
     "cell_type": "code", 
     "collapsed": true, 
     "input": [
      "rmse = lambda exp, real: np.sqrt(((real - exp)**2).sum() / real.size)"
     ], 
     "language": "python", 
     "outputs": [], 
     "prompt_number": 3
    }, 
    {
     "cell_type": "code", 
     "collapsed": true, 
     "input": [
      "def subplot_config(n):", 
      "    if n <= 3:", 
      "        return 1, n", 
      "    nc = np.ceil(np.sqrt(n))", 
      "    nr = np.ceil(n / nc)", 
      "    return int(nr), int(nc)"
     ], 
     "language": "python", 
     "outputs": [], 
     "prompt_number": 4
    }, 
    {
     "cell_type": "code", 
     "collapsed": true, 
     "input": [
      "def possibilities(n_users, n_items):", 
      "    shape = (n_users, n_items)", 
      "    larger = max(n_users, n_items)", 
      "    total = n_users * n_items", 
      "    diag = frozenset((i % n_users)*n_items + (i % n_items) for i in range(larger))", 
      "    ", 
      "    for length in range(larger, total+1):", 
      "        for picked in itertools.combinations(range(total), length):", 
      "            if diag.issubset(picked):", 
      "                k = np.zeros(shape)", 
      "                k[np.unravel_index(picked, shape)] = 1", 
      "                yield k"
     ], 
     "language": "python", 
     "outputs": [], 
     "prompt_number": 5
    }, 
    {
     "cell_type": "code", 
     "collapsed": true, 
     "input": [
      "def fill_dict(real, d=None, num=None, fitter=fit):", 
      "    import sys", 
      "    if d is None:", 
      "        d = {}", 
      "    ", 
      "    for i, k in enumerate(possibilities(*real.shape)):", 
      "        s = k.tostring()", 
      "        val = d.get(s, [])", 
      "        ", 
      "        if num is None:", 
      "            if isinstance(val, np.ndarray) or val != []:", 
      "                continue", 
      "        else:", 
      "            if isinstance(val, list):", 
      "                if len(val) >= num:", 
      "                    continue", 
      "            else:", 
      "                val = [val]", 
      "        ", 
      "        print(\"{}\".format(i+1), end='  ')", 
      "        if (i+1) % 10 == 0:", 
      "            print()", 
      "        sys.stdout.flush()", 
      "        ", 
      "        if num is None:", 
      "            d[s] = fitter(real, k)", 
      "        else:", 
      "            while len(val) < num:", 
      "                val.append(fit(real, k))", 
      "            d[s] = val", 
      "    print()", 
      "    return d"
     ], 
     "language": "python", 
     "outputs": [], 
     "prompt_number": 6
    }, 
    {
     "cell_type": "code", 
     "collapsed": true, 
     "input": [
      "def get_norm(real):", 
      "    vmean = real.mean()", 
      "    vmin = (real - vmean).min() * 2 + vmean", 
      "    vmax = (real - vmean).max() * 2 + vmean", 
      "    return Normalize(vmin, vmax)"
     ], 
     "language": "python", 
     "outputs": [], 
     "prompt_number": 7
    }, 
    {
     "cell_type": "code", 
     "collapsed": true, 
     "input": [
      "def show(pred, norm=None, title=None, colorbar=True, known=None, s=None):", 
      "    if isinstance(pred, list):", 
      "        pred = np.mean(pred, axis=0)", 
      "    plt.imshow(pred, interpolation='nearest', cmap=cm.jet, origin='lower', aspect='equal', norm=norm)", 
      "    plt.grid()", 
      "    if s is not None:", 
      "        width, height = s", 
      "        f = plt.gcf()", 
      "        f.set_figwidth(width)", 
      "        f.set_figheight(height)", 
      "    plt.xticks([], [])", 
      "    plt.yticks([], [])", 
      "    if title:", 
      "        plt.title(title)", 
      "    if colorbar:", 
      "        plt.colorbar(use_gridspec=True)", 
      "    if known is not None:", 
      "        k_i, k_j = known.nonzero()", 
      "        plt.scatter(k_j, k_i, marker='s', c='white', s=15)"
     ], 
     "language": "python", 
     "outputs": [], 
     "prompt_number": 8
    }, 
    {
     "cell_type": "code", 
     "collapsed": true, 
     "input": [
      "# show a grid of all the possibilities", 
      "def plot_possibilities_grid(d, n_users, n_items, real):", 
      "    assert len(d) >= 2**(n_users * n_items - max(n_users, n_items))", 
      "    ", 
      "    from mpl_toolkits.axes_grid1 import ImageGrid", 
      "    fig = plt.figure()", 
      "    nr, nc = subplot_config(2 ** (n_items * n_users - max(n_items, n_users)))", 
      "    grid = ImageGrid(fig, 111, nrows_ncols=(nr,nc), axes_pad=.2,", 
      "                     cbar_location='right', cbar_mode='single')", 
      "", 
      "    xticks = np.linspace(-.5, n_items - .5, n_items + 1)", 
      "    yticks = np.linspace(-.5, n_users - .5, n_users + 1)", 
      "", 
      "    #vmin = min(vals[np.isfinite(vals)].min() for vals in d.values())", 
      "    #vmax = max(vals[np.isfinite(vals)].max() for vals in d.values())", 
      "    #norm = Normalize(vmin, vmax)", 
      "    norm = get_norm(real)", 
      "", 
      "    for i, k in enumerate(possibilities(n_users, n_items)):", 
      "        pred = d[k.tostring()]", 
      "        grid[i].set_title(\"{:.3}\".format(rmse(real, pred)))", 
      "        im = grid[i].imshow(pred, interpolation='nearest', cmap=cm.jet, origin='lower', aspect='equal', norm=norm)", 
      "    ", 
      "        grid[i].set_xticks(xticks)", 
      "        grid[i].set_yticks(yticks)", 
      "        grid[i].set_xticklabels([])", 
      "        grid[i].set_yticklabels([])", 
      "        grid[i].set_xlim(xticks[0], xticks[-1])", 
      "        grid[i].set_ylim(yticks[0], yticks[-1])", 
      "        grid[i].grid()", 
      "    ", 
      "        k_i, k_j = k.nonzero()", 
      "        grid[i].scatter(k_j, k_i, marker='s', c='white', s=15)", 
      "", 
      "    for i in range(i+1, nr*nc):", 
      "        grid[i].set_visible(False)", 
      "", 
      "    grid.cbar_axes[0].colorbar(im)", 
      "    return norm"
     ], 
     "language": "python", 
     "outputs": [], 
     "prompt_number": 9
    }, 
    {
     "cell_type": "code", 
     "collapsed": true, 
     "input": [
      "def write_pics_to_dir(dirname, n_users, n_items, d, norm):", 
      "    for i, k in enumerate(possibilities(n_users, n_items)):", 
      "        pred = d[k.tostring()]", 
      "        if isinstance(pred, list):", 
      "            for idx, p in enumerate(pred):", 
      "                fig = plt.figure()", 
      "                show(p, norm=norm, colorbar=False, known=k, s=(1,1))", 
      "                fig.savefig(os.path.join(dirname, \"node_{}_{}.png\".format(i, idx)), bbox_inches='tight', pad_inches=0)", 
      "                plt.close(fig)", 
      "        else:", 
      "            fig = plt.figure()", 
      "            show(pred, norm=norm, colorbar=False, known=k, s=(1,1))", 
      "            fig.savefig(os.path.join(dirname, \"node_{}.png\".format(i)), bbox_inches='tight', pad_inches=0)", 
      "            plt.close(fig)"
     ], 
     "language": "python", 
     "outputs": [], 
     "prompt_number": 10
    }, 
    {
     "cell_type": "code", 
     "collapsed": true, 
     "input": [
      "def make_dot_tree(dirname, d, real):", 
      "    n_users, n_items = real.shape", 
      "    poss = {k.tostring(): i for i, k in enumerate(possibilities(n_users, n_items))}", 
      "    ", 
      "    nodes = []", 
      "    node_p = 'n_{}[shape=none,label=<<table><tr><td>{:.2} to {:.2}</td></tr><tr><td>{:.4}</td></tr>' \\", 
      "             '<tr><td><img src=\"{}\" /></td></tr></table>>];'", 
      "    for s, i in poss.items():", 
      "        if isinstance(d[s], list):", 
      "            rmses = [rmse(v, real) for v in d[s]]", 
      "            argsorted = np.argsort(rmses)", 
      "            med = argsorted[len(argsorted) // 2]", 
      "            fname = os.path.join(dirname, 'node_{}_{}.png'.format(i, med))", 
      "            nodes.append(node_p.format(i, np.min(rmses), np.max(rmses), np.median(rmses), fname))", 
      "        else:", 
      "            r = rmse(d[s], real)", 
      "            fname = os.path.join(dirname, 'node_{}.png'.format(i))", 
      "            nodes.append(node_p.format(i, r, r, r, fname))", 
      "    ", 
      "    conns = []", 
      "    for s, idx in poss.items():", 
      "        k = np.fromstring(s) # 1d", 
      "        for i in (k == 0).nonzero()[0].flat:", 
      "            kprime = k.copy()", 
      "            assert kprime[i] == 0", 
      "            kprime[i] = 1", 
      "            conns.append((idx, poss[kprime.tostring()]))", 
      "    edges = ['n_{} -> n_{};'.format(fr, to) for fr, to in conns]", 
      "    ", 
      "    return 'digraph {\\n' + '\\n'.join(nodes) + '\\n\\n\\n' + '\\n'.join(edges) + '\\n\\n\\n' + '}'"
     ], 
     "language": "python", 
     "outputs": [], 
     "prompt_number": 11
    }, 
    {
     "cell_type": "code", 
     "collapsed": true, 
     "input": [
      "def plot_tree(dirname, outname, d, real):", 
      "    import subprocess", 
      "    dot = make_dot_tree(dirname, d, real)", 
      "    p = subprocess.Popen(['dot', '-Tpng', '-o', outname], stdin=subprocess.PIPE)", 
      "    p.communicate(dot.encode())"
     ], 
     "language": "python", 
     "outputs": [], 
     "prompt_number": 12
    }, 
    {
     "cell_type": "code", 
     "collapsed": false, 
     "input": [
      "def make_tree_plot(dct, real, outfile='tree.png'):", 
      "    import sys", 
      "    n_users, n_items = real.shape", 
      "    ", 
      "    with tempfile.TemporaryDirectory() as dir:", 
      "        norm = get_norm(real)", 
      "    ", 
      "        print(\"writing pictures\"); sys.stdout.flush()", 
      "        write_pics_to_dir(dir, n_users, n_items, dct, norm)", 
      "    ", 
      "        print(\"combining into tree plot\"); sys.stdout.flush()", 
      "        plot_tree(dir, outfile, dct, real)"
     ], 
     "language": "python", 
     "outputs": [], 
     "prompt_number": 13
    }, 
    {
     "cell_type": "code", 
     "collapsed": true, 
     "input": [
      "from operator import itemgetter", 
      "def worst_in_tree(dct, shape=(-1,), by=np.median):", 
      "    s, criterion = max(((k, by([rmse(v, real) for v in vs])) for k, vs in dct.items()), key=itemgetter(1))", 
      "    return np.fromstring(s).reshape(shape), criterion"
     ], 
     "language": "python", 
     "outputs": [], 
     "prompt_number": 14
    }, 
    {
     "cell_type": "markdown", 
     "source": [
      "<hr />", 
      "Making tree images:"
     ]
    }, 
    {
     "cell_type": "code", 
     "collapsed": true, 
     "input": [
      "n_users = n_items = 3", 
      "real, _, _ = make_fake_data(noise=0, num_users=n_users, num_items=n_items,", 
      "                            rank=1, mask_type='diag',", 
      "                            u_mean=5, v_mean=5) # XXX", 
      "d = {}", 
      "d_bayes = {}"
     ], 
     "language": "python", 
     "outputs": [], 
     "prompt_number": 15
    }, 
    {
     "cell_type": "code", 
     "collapsed": false, 
     "input": [
      "fill_dict(real, d, 3)", 
      "worst_in_tree(d, real.shape)"
     ], 
     "language": "python", 
     "outputs": [
      {
       "output_type": "stream", 
       "stream": "stdout", 
       "text": [
        "1  "
       ]
      }, 
      {
       "output_type": "stream", 
       "stream": "stdout", 
       "text": [
        "2  "
       ]
      }, 
      {
       "output_type": "stream", 
       "stream": "stdout", 
       "text": [
        "3  "
       ]
      }, 
      {
       "output_type": "stream", 
       "stream": "stdout", 
       "text": [
        "4  "
       ]
      }, 
      {
       "output_type": "stream", 
       "stream": "stdout", 
       "text": [
        "5  "
       ]
      }, 
      {
       "output_type": "stream", 
       "stream": "stdout", 
       "text": [
        "6  "
       ]
      }, 
      {
       "output_type": "stream", 
       "stream": "stdout", 
       "text": [
        "7  "
       ]
      }, 
      {
       "output_type": "stream", 
       "stream": "stdout", 
       "text": [
        "8  "
       ]
      }, 
      {
       "output_type": "stream", 
       "stream": "stdout", 
       "text": [
        "9  "
       ]
      }, 
      {
       "output_type": "stream", 
       "stream": "stdout", 
       "text": [
        "10  "
       ]
      }, 
      {
       "output_type": "stream", 
       "stream": "stdout", 
       "text": [
        "11  "
       ]
      }, 
      {
       "output_type": "stream", 
       "stream": "stdout", 
       "text": [
        "12  "
       ]
      }, 
      {
       "output_type": "stream", 
       "stream": "stdout", 
       "text": [
        "13  "
       ]
      }, 
      {
       "output_type": "stream", 
       "stream": "stdout", 
       "text": [
        "14  "
       ]
      }, 
      {
       "output_type": "stream", 
       "stream": "stdout", 
       "text": [
        "15  "
       ]
      }, 
      {
       "output_type": "stream", 
       "stream": "stdout", 
       "text": [
        "16  "
       ]
      }, 
      {
       "output_type": "stream", 
       "stream": "stdout", 
       "text": [
        "17  "
       ]
      }, 
      {
       "output_type": "stream", 
       "stream": "stdout", 
       "text": [
        "18  "
       ]
      }, 
      {
       "output_type": "stream", 
       "stream": "stdout", 
       "text": [
        "19  "
       ]
      }, 
      {
       "output_type": "stream", 
       "stream": "stdout", 
       "text": [
        "20  "
       ]
      }, 
      {
       "output_type": "stream", 
       "stream": "stdout", 
       "text": [
        "21  "
       ]
      }, 
      {
       "output_type": "stream", 
       "stream": "stdout", 
       "text": [
        "22  "
       ]
      }, 
      {
       "output_type": "stream", 
       "stream": "stdout", 
       "text": [
        "23  "
       ]
      }, 
      {
       "output_type": "stream", 
       "stream": "stdout", 
       "text": [
        "24  "
       ]
      }, 
      {
       "output_type": "stream", 
       "stream": "stdout", 
       "text": [
        "25  "
       ]
      }, 
      {
       "output_type": "stream", 
       "stream": "stdout", 
       "text": [
        "26  "
       ]
      }, 
      {
       "output_type": "stream", 
       "stream": "stdout", 
       "text": [
        "27  "
       ]
      }, 
      {
       "output_type": "stream", 
       "stream": "stdout", 
       "text": [
        "28  "
       ]
      }, 
      {
       "output_type": "stream", 
       "stream": "stdout", 
       "text": [
        "29  "
       ]
      }, 
      {
       "output_type": "stream", 
       "stream": "stdout", 
       "text": [
        "30  "
       ]
      }, 
      {
       "output_type": "stream", 
       "stream": "stdout", 
       "text": [
        "31  "
       ]
      }, 
      {
       "output_type": "stream", 
       "stream": "stdout", 
       "text": [
        "32  "
       ]
      }, 
      {
       "output_type": "stream", 
       "stream": "stdout", 
       "text": [
        "33  "
       ]
      }, 
      {
       "output_type": "stream", 
       "stream": "stdout", 
       "text": [
        "34  "
       ]
      }, 
      {
       "output_type": "stream", 
       "stream": "stdout", 
       "text": [
        "35  "
       ]
      }, 
      {
       "output_type": "stream", 
       "stream": "stdout", 
       "text": [
        "36  "
       ]
      }, 
      {
       "output_type": "stream", 
       "stream": "stdout", 
       "text": [
        "37  "
       ]
      }, 
      {
       "output_type": "stream", 
       "stream": "stdout", 
       "text": [
        "38  "
       ]
      }, 
      {
       "output_type": "stream", 
       "stream": "stdout", 
       "text": [
        "39  "
       ]
      }, 
      {
       "output_type": "stream", 
       "stream": "stdout", 
       "text": [
        "40  "
       ]
      }, 
      {
       "output_type": "stream", 
       "stream": "stdout", 
       "text": [
        "41  "
       ]
      }, 
      {
       "output_type": "stream", 
       "stream": "stdout", 
       "text": [
        "42  "
       ]
      }, 
      {
       "output_type": "stream", 
       "stream": "stdout", 
       "text": [
        "43  "
       ]
      }, 
      {
       "output_type": "stream", 
       "stream": "stdout", 
       "text": [
        "44  "
       ]
      }, 
      {
       "output_type": "stream", 
       "stream": "stdout", 
       "text": [
        "45  "
       ]
      }, 
      {
       "output_type": "stream", 
       "stream": "stdout", 
       "text": [
        "46  "
       ]
      }, 
      {
       "output_type": "stream", 
       "stream": "stdout", 
       "text": [
        "47  "
       ]
      }, 
      {
       "output_type": "stream", 
       "stream": "stdout", 
       "text": [
        "48  "
       ]
      }, 
      {
       "output_type": "stream", 
       "stream": "stdout", 
       "text": [
        "49  "
       ]
      }, 
      {
       "output_type": "stream", 
       "stream": "stdout", 
       "text": [
        "50  "
       ]
      }, 
      {
       "output_type": "stream", 
       "stream": "stdout", 
       "text": [
        "51  "
       ]
      }, 
      {
       "output_type": "stream", 
       "stream": "stdout", 
       "text": [
        "52  "
       ]
      }, 
      {
       "output_type": "stream", 
       "stream": "stdout", 
       "text": [
        "53  "
       ]
      }, 
      {
       "output_type": "stream", 
       "stream": "stdout", 
       "text": [
        "54  "
       ]
      }, 
      {
       "output_type": "stream", 
       "stream": "stdout", 
       "text": [
        "55  "
       ]
      }, 
      {
       "output_type": "stream", 
       "stream": "stdout", 
       "text": [
        "56  "
       ]
      }, 
      {
       "output_type": "stream", 
       "stream": "stdout", 
       "text": [
        "57  "
       ]
      }, 
      {
       "output_type": "stream", 
       "stream": "stdout", 
       "text": [
        "58  "
       ]
      }, 
      {
       "output_type": "stream", 
       "stream": "stdout", 
       "text": [
        "59  "
       ]
      }, 
      {
       "output_type": "stream", 
       "stream": "stdout", 
       "text": [
        "60  "
       ]
      }, 
      {
       "output_type": "stream", 
       "stream": "stdout", 
       "text": [
        "61  "
       ]
      }, 
      {
       "output_type": "stream", 
       "stream": "stdout", 
       "text": [
        "62  "
       ]
      }, 
      {
       "output_type": "stream", 
       "stream": "stdout", 
       "text": [
        "63  "
       ]
      }, 
      {
       "output_type": "stream", 
       "stream": "stdout", 
       "text": [
        "64  "
       ]
      }, 
      {
       "output_type": "stream", 
       "stream": "stdout", 
       "text": [
        ""
       ]
      }, 
      {
       "output_type": "pyout", 
       "prompt_number": 16, 
       "text": [
        "(array([[ 1.,  0.,  0.],", 
        "       [ 0.,  1.,  0.],", 
        "       [ 1.,  0.,  1.]]),", 
        " 11.535775818563069)"
       ]
      }
     ], 
     "prompt_number": 16
    }, 
    {
     "cell_type": "code", 
     "collapsed": false, 
     "input": [
      "fill_dict(real, d_bayes, 3, fitter=functools.partial(fit, do_bayes=True, burnin=0, samps=200))", 
      "worst_in_tree(d_bayes, real.shape)"
     ], 
     "language": "python", 
     "outputs": [
      {
       "output_type": "stream", 
       "stream": "stdout", 
       "text": [
        "1  "
       ]
      }, 
      {
       "output_type": "stream", 
       "stream": "stdout", 
       "text": [
        "2  "
       ]
      }, 
      {
       "output_type": "stream", 
       "stream": "stdout", 
       "text": [
        "3  "
       ]
      }, 
      {
       "output_type": "stream", 
       "stream": "stdout", 
       "text": [
        "4  "
       ]
      }, 
      {
       "output_type": "stream", 
       "stream": "stdout", 
       "text": [
        "5  "
       ]
      }, 
      {
       "output_type": "stream", 
       "stream": "stdout", 
       "text": [
        "6  "
       ]
      }, 
      {
       "output_type": "stream", 
       "stream": "stdout", 
       "text": [
        "7  "
       ]
      }, 
      {
       "output_type": "stream", 
       "stream": "stdout", 
       "text": [
        "8  "
       ]
      }, 
      {
       "output_type": "stream", 
       "stream": "stdout", 
       "text": [
        "9  "
       ]
      }, 
      {
       "output_type": "stream", 
       "stream": "stdout", 
       "text": [
        "10  "
       ]
      }, 
      {
       "output_type": "stream", 
       "stream": "stdout", 
       "text": [
        "11  "
       ]
      }, 
      {
       "output_type": "stream", 
       "stream": "stdout", 
       "text": [
        "12  "
       ]
      }, 
      {
       "output_type": "stream", 
       "stream": "stdout", 
       "text": [
        "13  "
       ]
      }, 
      {
       "output_type": "stream", 
       "stream": "stdout", 
       "text": [
        "14  "
       ]
      }, 
      {
       "output_type": "stream", 
       "stream": "stdout", 
       "text": [
        "15  "
       ]
      }, 
      {
       "output_type": "stream", 
       "stream": "stdout", 
       "text": [
        "16  "
       ]
      }, 
      {
       "output_type": "stream", 
       "stream": "stdout", 
       "text": [
        "17  "
       ]
      }, 
      {
       "output_type": "stream", 
       "stream": "stdout", 
       "text": [
        "18  "
       ]
      }, 
      {
       "output_type": "stream", 
       "stream": "stdout", 
       "text": [
        "19  "
       ]
      }, 
      {
       "output_type": "stream", 
       "stream": "stdout", 
       "text": [
        "20  "
       ]
      }, 
      {
       "output_type": "stream", 
       "stream": "stdout", 
       "text": [
        "21  "
       ]
      }, 
      {
       "output_type": "stream", 
       "stream": "stdout", 
       "text": [
        "22  "
       ]
      }, 
      {
       "output_type": "stream", 
       "stream": "stdout", 
       "text": [
        "23  "
       ]
      }, 
      {
       "output_type": "stream", 
       "stream": "stdout", 
       "text": [
        "24  "
       ]
      }, 
      {
       "output_type": "stream", 
       "stream": "stdout", 
       "text": [
        "25  "
       ]
      }, 
      {
       "output_type": "stream", 
       "stream": "stdout", 
       "text": [
        "26  "
       ]
      }, 
      {
       "output_type": "stream", 
       "stream": "stdout", 
       "text": [
        "27  "
       ]
      }, 
      {
       "output_type": "stream", 
       "stream": "stdout", 
       "text": [
        "28  "
       ]
      }, 
      {
       "output_type": "stream", 
       "stream": "stdout", 
       "text": [
        "29  "
       ]
      }, 
      {
       "output_type": "stream", 
       "stream": "stdout", 
       "text": [
        "30  "
       ]
      }, 
      {
       "output_type": "stream", 
       "stream": "stdout", 
       "text": [
        "31  "
       ]
      }, 
      {
       "output_type": "stream", 
       "stream": "stdout", 
       "text": [
        "32  "
       ]
      }, 
      {
       "output_type": "stream", 
       "stream": "stdout", 
       "text": [
        "33  "
       ]
      }, 
      {
       "output_type": "stream", 
       "stream": "stdout", 
       "text": [
        "34  "
       ]
      }, 
      {
       "output_type": "stream", 
       "stream": "stdout", 
       "text": [
        "35  "
       ]
      }, 
      {
       "output_type": "stream", 
       "stream": "stdout", 
       "text": [
        "36  "
       ]
      }, 
      {
       "output_type": "stream", 
       "stream": "stdout", 
       "text": [
        "37  "
       ]
      }, 
      {
       "output_type": "stream", 
       "stream": "stdout", 
       "text": [
        "38  "
       ]
      }, 
      {
       "output_type": "stream", 
       "stream": "stdout", 
       "text": [
        "39  "
       ]
      }, 
      {
       "output_type": "stream", 
       "stream": "stdout", 
       "text": [
        "40  "
       ]
      }, 
      {
       "output_type": "stream", 
       "stream": "stdout", 
       "text": [
        "41  "
       ]
      }, 
      {
       "output_type": "stream", 
       "stream": "stdout", 
       "text": [
        "42  "
       ]
      }, 
      {
       "output_type": "stream", 
       "stream": "stdout", 
       "text": [
        "43  "
       ]
      }, 
      {
       "output_type": "stream", 
       "stream": "stdout", 
       "text": [
        "44  "
       ]
      }, 
      {
       "output_type": "stream", 
       "stream": "stdout", 
       "text": [
        "45  "
       ]
      }, 
      {
       "output_type": "stream", 
       "stream": "stdout", 
       "text": [
        "46  "
       ]
      }, 
      {
       "output_type": "stream", 
       "stream": "stdout", 
       "text": [
        "47  "
       ]
      }, 
      {
       "output_type": "stream", 
       "stream": "stdout", 
       "text": [
        "48  "
       ]
      }, 
      {
       "output_type": "stream", 
       "stream": "stdout", 
       "text": [
        "49  "
       ]
      }, 
      {
       "output_type": "stream", 
       "stream": "stdout", 
       "text": [
        "50  "
       ]
      }, 
      {
       "output_type": "stream", 
       "stream": "stdout", 
       "text": [
        "51  "
       ]
      }, 
      {
       "output_type": "stream", 
       "stream": "stdout", 
       "text": [
        "52  "
       ]
      }, 
      {
       "output_type": "stream", 
       "stream": "stdout", 
       "text": [
        "53  "
       ]
      }, 
      {
       "output_type": "stream", 
       "stream": "stdout", 
       "text": [
        "54  "
       ]
      }, 
      {
       "output_type": "stream", 
       "stream": "stdout", 
       "text": [
        "55  "
       ]
      }, 
      {
       "output_type": "stream", 
       "stream": "stdout", 
       "text": [
        "56  "
       ]
      }, 
      {
       "output_type": "stream", 
       "stream": "stdout", 
       "text": [
        "57  "
       ]
      }, 
      {
       "output_type": "stream", 
       "stream": "stdout", 
       "text": [
        "58  "
       ]
      }, 
      {
       "output_type": "stream", 
       "stream": "stdout", 
       "text": [
        "59  "
       ]
      }, 
      {
       "output_type": "stream", 
       "stream": "stdout", 
       "text": [
        "60  "
       ]
      }, 
      {
       "output_type": "stream", 
       "stream": "stdout", 
       "text": [
        "61  "
       ]
      }, 
      {
       "output_type": "stream", 
       "stream": "stdout", 
       "text": [
        "62  "
       ]
      }, 
      {
       "output_type": "stream", 
       "stream": "stdout", 
       "text": [
        "63  "
       ]
      }, 
      {
       "output_type": "stream", 
       "stream": "stdout", 
       "text": [
        "64  "
       ]
      }, 
      {
       "output_type": "stream", 
       "stream": "stdout", 
       "text": [
        ""
       ]
      }, 
      {
       "output_type": "pyout", 
       "prompt_number": 17, 
       "text": [
        "(array([[ 1.,  0.,  0.],", 
        "       [ 0.,  1.,  0.],", 
        "       [ 1.,  0.,  1.]]),", 
        " 11.590869830392604)"
       ]
      }
     ], 
     "prompt_number": 17
    }, 
    {
     "cell_type": "code", 
     "collapsed": false, 
     "input": [
      "make_tree_plot(d, real, 'tree_map.png')", 
      "!open tree_map.png"
     ], 
     "language": "python", 
     "outputs": [
      {
       "output_type": "stream", 
       "stream": "stdout", 
       "text": [
        "writing pictures"
       ]
      }, 
      {
       "output_type": "stream", 
       "stream": "stdout", 
       "text": [
        "combining into tree plot"
       ]
      }
     ], 
     "prompt_number": 56
    }, 
    {
     "cell_type": "code", 
     "collapsed": false, 
     "input": [
      "make_tree_plot(d_bayes, real, 'tree_bayes.png')", 
      "!open tree_bayes.png"
     ], 
     "language": "python", 
     "outputs": [
      {
       "output_type": "stream", 
       "stream": "stdout", 
       "text": [
        "writing pictures"
       ]
      }, 
      {
       "output_type": "stream", 
       "stream": "stdout", 
       "text": [
        ""
       ]
      }, 
      {
       "output_type": "stream", 
       "stream": "stdout", 
       "text": [
        "combining into tree plot"
       ]
      }
     ], 
     "prompt_number": 57
    }, 
    {
     "cell_type": "code", 
     "collapsed": false, 
     "input": [
      "plt.figure()", 
      "show(real, get_norm(real), \"true values\")", 
      "plt.savefig('real.png')", 
      "plt.close()", 
      "!open real.png"
     ], 
     "language": "python", 
     "outputs": [], 
     "prompt_number": 58
    }, 
    {
     "cell_type": "code", 
     "collapsed": true, 
     "input": [
      "np.save('real.npy', real)"
     ], 
     "language": "python", 
     "outputs": [], 
     "prompt_number": 59
    }, 
    {
     "cell_type": "markdown", 
     "source": [
      "<hr />", 
      "Finding a case where we can know 8/9 entries and still have terrible RMSE:"
     ]
    }, 
    {
     "cell_type": "code", 
     "collapsed": false, 
     "input": [
      "def find_bad(n_users=3, n_items=3):", 
      "    for cnt in itertools.count():", 
      "        if (cnt+1) % 10 == 0:", 
      "            print(\"attempt {}\".format(cnt+1))", 
      "            sys.stdout.flush()", 
      "    ", 
      "        real, _, _ = make_fake_data(noise=0, num_users=n_users, num_items=n_items, rank=1, mask_type='diag')", 
      "    ", 
      "        for i, j in itertools.product(range(n_users), range(n_items)):", 
      "            if i == j:", 
      "                continue", 
      "            ", 
      "            known = np.ones((n_users, n_items))", 
      "            known[i, j] = 0", 
      "            pmfs, preds = zip(*(fit(real, known, ret_pmf=True, stop_thresh=1e-6, min_learning_rate=1e-9) for i in range(3)))", 
      "            preds = sorted(preds, key=functools.partial(rmse, real=real))", 
      "            if rmse(preds[-1], real) > 3:", 
      "                print(\"found on attempt {}\".format(cnt + 1))", 
      "                return real, known, pmfs[-1], preds[-1]"
     ], 
     "language": "python", 
     "outputs": [], 
     "prompt_number": 84
    }, 
    {
     "cell_type": "code", 
     "collapsed": false, 
     "input": [
      "bad_matrix, bad_known, bad_pmf, bad_pred = find_bad(n_users, n_items)"
     ], 
     "language": "python", 
     "outputs": [
      {
       "output_type": "stream", 
       "stream": "stdout", 
       "text": [
        "attempt 10"
       ]
      }, 
      {
       "output_type": "stream", 
       "stream": "stdout", 
       "text": [
        "found on attempt 15"
       ]
      }
     ], 
     "prompt_number": 87
    }, 
    {
     "cell_type": "code", 
     "collapsed": false, 
     "input": [
      "rmse(bad_pred, bad_matrix)"
     ], 
     "language": "python", 
     "outputs": [
      {
       "output_type": "pyout", 
       "prompt_number": 96, 
       "text": [
        "29.857211680147781"
       ]
      }
     ], 
     "prompt_number": 96
    }, 
    {
     "cell_type": "code", 
     "collapsed": false, 
     "input": [
      "subplot(121)", 
      "show(bad_matrix, norm=get_norm(bad_matrix), colorbar=False)", 
      "", 
      "subplot(122)", 
      "show(bad_pred, norm=get_norm(bad_matrix), known=bad_known)", 
      "", 
      "#tight_layout()"
     ], 
     "language": "python", 
     "outputs": [
      {
       "output_type": "display_data", 
       "png": "[encoded data removed]"
      }
     ], 
     "prompt_number": 88
    }, 
    {
     "cell_type": "code", 
     "collapsed": false, 
     "input": [
      "bad_matrix"
     ], 
     "language": "python", 
     "outputs": [
      {
       "output_type": "pyout", 
       "prompt_number": 89, 
       "text": [
        "array([[-2.3013021 , -1.37030475, -0.42752483],", 
        "       [-6.71787909, -4.00014481, -1.24801524],", 
        "       [-2.59566476, -1.54558228, -0.48221011]])"
       ]
      }
     ], 
     "prompt_number": 89
    }, 
    {
     "cell_type": "code", 
     "collapsed": false, 
     "input": [
      "bad_pred"
     ], 
     "language": "python", 
     "outputs": [
      {
       "output_type": "pyout", 
       "prompt_number": 94, 
       "text": [
        "array([[ -2.23361306e+00,   1.05776719e-01,   3.30015448e-02],", 
        "       [  8.28233302e+01,  -3.92224612e+00,  -1.22371143e+00],", 
        "       [ -2.51931752e+00,   1.19306762e-01,   3.72228169e-02]])"
       ]
      }
     ], 
     "prompt_number": 94
    }, 
    {
     "cell_type": "code", 
     "collapsed": false, 
     "input": [
      "pmf, _ = fit(bad_matrix, np.ones(bad_matrix.shape, dtype=bool), ret_pmf=True)", 
      "u, v = pmf.users, pmf.items", 
      "u, v"
     ], 
     "language": "python", 
     "outputs": [
      {
       "output_type": "pyout", 
       "prompt_number": 92, 
       "text": [
        "(array([[ 0.90027512],", 
        "       [ 2.62805104],", 
        "       [ 1.01543052]]),", 
        " array([[-2.55622083],", 
        "       [-1.52209551],", 
        "       [-0.47488243]]))"
       ]
      }
     ], 
     "prompt_number": 92
    }, 
    {
     "cell_type": "code", 
     "collapsed": false, 
     "input": [
      "bad_pmf.users, bad_pmf.items"
     ], 
     "language": "python", 
     "outputs": [
      {
       "output_type": "pyout", 
       "prompt_number": 93, 
       "text": [
        "(array([[ 0.94674661],", 
        "       [ 2.75792214],", 
        "       [ 1.06784625]]),", 
        " array([[-2.43038518],", 
        "       [-1.45067915],", 
        "       [-0.45260104]]))"
       ]
      }
     ], 
     "prompt_number": 93
    }, 
    {
     "cell_type": "markdown", 
     "source": [
      "<hr />", 
      "Comparing BPMF to PMF performance:"
     ]
    }, 
    {
     "cell_type": "code", 
     "collapsed": false, 
     "input": [
      "def bayes_from_map(pmf, burnin=0, samps=1000, ret_pmf=False):", 
      "    bpmf = BayesianPMF(pmf.ratings, pmf.latent_d, False)", 
      "    bpmf.__setstate__(pmf.__getstate__())", 
      "    sampler = bpmf.samples()", 
      "    ", 
      "    # do burn-in", 
      "    next(islice(sampler, burnin, burnin), None)", 
      "    ", 
      "    pred = bpmf.predict(islice(sampler, samps))", 
      "    return (pmf, pred) if ret_pmf else pred"
     ], 
     "language": "python", 
     "outputs": [], 
     "prompt_number": 16
    }, 
    {
     "cell_type": "code", 
     "collapsed": false, 
     "input": [
      "sigmas = 10 ** np.arange(-3, 7, .25).astype(float)", 
      "known = np.ones((3,3))", 
      "pmf_preds = [fit(real, known, sig_u=sig, sig_v=sig, ret_pmf=True) for sig in sigmas]", 
      "pmfs, pmf_preds = zip(*pmf_preds)", 
      "bayes_preds = [bayes_from_map(pmf) for pmf in pmfs]"
     ], 
     "language": "python", 
     "outputs": [], 
     "prompt_number": 17
    }, 
    {
     "cell_type": "code", 
     "collapsed": false, 
     "input": [
      "plot(sigmas, [rmse(real, pred) for pred in pmf_preds], label=\"MAP\")", 
      "plot(sigmas, [rmse(real, pred) for pred in bayes_preds], label=\"Bayesian\", marker='H')", 
      "xscale('log')", 
      "xlabel('regularization (more -> less)')", 
      "ylabel('RMSE')", 
      "legend()"
     ], 
     "language": "python", 
     "outputs": [
      {
       "output_type": "pyout", 
       "prompt_number": 26, 
       "text": [
        "&lt;matplotlib.legend.Legend at 0x108512350&gt;"
       ]
      }, 
      {
       "output_type": "display_data", 
       "png": "[encoded data removed]"
      }
     ], 
     "prompt_number": 26
    }
   ]
  }
 ]
}