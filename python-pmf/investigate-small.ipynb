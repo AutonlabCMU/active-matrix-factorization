{
 "metadata": {
  "name": "investigate-small"
 }, 
 "nbformat": 2, 
 "worksheets": [
  {
   "cells": [
    {
     "cell_type": "code", 
     "collapsed": true, 
     "input": [
      "from active_pmf import *", 
      "from bayes_pmf import *", 
      "from matplotlib import pyplot as plt", 
      "import matplotlib", 
      "import itertools", 
      "import os", 
      "import tempfile"
     ], 
     "language": "python", 
     "outputs": [], 
     "prompt_number": 1
    }, 
    {
     "cell_type": "code", 
     "collapsed": true, 
     "input": [
      "def fit(real, known, ret_pmf=False, sig_u=1e10, sig_v=1e10, sig=1, do_bayes=False, burnin=1000, samps=2000):", 
      "    ratings = np.zeros((known.sum(), 3))", 
      "    for idx, (i, j) in enumerate(np.transpose(known.nonzero())):", 
      "        ratings[idx] = [i, j, real[i, j]]", 
      "    ", 
      "    pmf = ProbabilisticMatrixFactorization(ratings, 1)", 
      "    pmf.sigma_sq = sig", 
      "    pmf.sigma_u_sq = sig_u", 
      "    pmf.sigma_v_sq = sig_v", 
      "    pmf.stop_thresh = 1e-10", 
      "    pmf.min_learning_rate = 1e-20", 
      "    pmf.fit()", 
      "    ", 
      "    if not do_bayes:", 
      "        pred = pmf.predicted_matrix()", 
      "        return (pmf, pred) if ret_pmf else pred", 
      "    else:", 
      "        bpmf = BayesianPMF(ratings, 1)", 
      "        bpmf.__setstate__(pmf.__getstate__())", 
      "        sampler = bpmf.samples()", 
      "        ", 
      "        # do burn-in", 
      "        next(islice(sampler, burnin, burnin), None)", 
      "        ", 
      "        pred = bpmf.predict(islice(sampler, samps))", 
      "        return (bpmf, pred) if ret_pmf else pred"
     ], 
     "language": "python", 
     "outputs": [], 
     "prompt_number": 2
    }, 
    {
     "cell_type": "code", 
     "collapsed": true, 
     "input": [
      "rmse = lambda exp, real: np.sqrt(((real - exp)**2).sum() / real.size)"
     ], 
     "language": "python", 
     "outputs": [], 
     "prompt_number": 3
    }, 
    {
     "cell_type": "code", 
     "collapsed": true, 
     "input": [
      "def subplot_config(n):", 
      "    if n <= 3:", 
      "        return 1, n", 
      "    nc = np.ceil(np.sqrt(n))", 
      "    nr = np.ceil(n / nc)", 
      "    return int(nr), int(nc)"
     ], 
     "language": "python", 
     "outputs": [], 
     "prompt_number": 4
    }, 
    {
     "cell_type": "code", 
     "collapsed": true, 
     "input": [
      "def possibilities(n_users, n_items):", 
      "    shape = (n_users, n_items)", 
      "    larger = max(n_users, n_items)", 
      "    total = n_users * n_items", 
      "    diag = frozenset((i % n_users)*n_items + (i % n_items) for i in range(larger))", 
      "    ", 
      "    for length in range(larger, total+1):", 
      "        for picked in itertools.combinations(range(total), length):", 
      "            if diag.issubset(picked):", 
      "                k = np.zeros(shape)", 
      "                k[np.unravel_index(picked, shape)] = 1", 
      "                yield k"
     ], 
     "language": "python", 
     "outputs": [], 
     "prompt_number": 5
    }, 
    {
     "cell_type": "code", 
     "collapsed": true, 
     "input": [
      "def fill_dict(real, d=None, num=None, fitter=fit):", 
      "    import sys", 
      "    if d is None:", 
      "        d = {}", 
      "    ", 
      "    for i, k in enumerate(possibilities(*real.shape)):", 
      "        s = k.tostring()", 
      "        val = d.get(s, [])", 
      "        ", 
      "        if num is None:", 
      "            if isinstance(val, np.ndarray) or val != []:", 
      "                continue", 
      "        else:", 
      "            if isinstance(val, list):", 
      "                if len(val) >= num:", 
      "                    continue", 
      "            else:", 
      "                val = [val]", 
      "        ", 
      "        print(\"\\rdoing #{}\".format(i), end='  ')", 
      "        sys.stdout.flush()", 
      "        ", 
      "        if num is None:", 
      "            d[s] = fitter(real, k)", 
      "        else:", 
      "            while len(val) < num:", 
      "                val.append(fit(real, k))", 
      "            d[s] = val", 
      "    print()", 
      "    return d"
     ], 
     "language": "python", 
     "outputs": [], 
     "prompt_number": 6
    }, 
    {
     "cell_type": "code", 
     "collapsed": true, 
     "input": [
      "def get_norm(real):", 
      "    vmean = real.mean()", 
      "    vmin = (real - vmean).min() * 2 + vmean", 
      "    vmax = (real - vmean).max() * 2 + vmean", 
      "    return Normalize(vmin, vmax)"
     ], 
     "language": "python", 
     "outputs": [], 
     "prompt_number": 7
    }, 
    {
     "cell_type": "code", 
     "collapsed": true, 
     "input": [
      "def show(pred, norm=None, title=None, colorbar=True, known=None, s=None):", 
      "    if isinstance(pred, list):", 
      "        pred = np.mean(pred, axis=0)", 
      "    plt.imshow(pred, interpolation='nearest', cmap=cm.jet, origin='lower', aspect='equal', norm=norm)", 
      "    plt.grid()", 
      "    if s is not None:", 
      "        width, height = s", 
      "        f = plt.gcf()", 
      "        f.set_figwidth(width)", 
      "        f.set_figheight(height)", 
      "    plt.xticks([], [])", 
      "    plt.yticks([], [])", 
      "    if title:", 
      "        plt.title(title)", 
      "    if colorbar:", 
      "        plt.colorbar()", 
      "    if known is not None:", 
      "        k_i, k_j = known.nonzero()", 
      "        plt.scatter(k_j, k_i, marker='s', c='white', s=15)"
     ], 
     "language": "python", 
     "outputs": [], 
     "prompt_number": 8
    }, 
    {
     "cell_type": "code", 
     "collapsed": true, 
     "input": [
      "# show a grid of all the possibilities", 
      "def plot_possibilities_grid(d, n_users, n_items, real):", 
      "    assert len(d) >= 2**(n_users * n_items - max(n_users, n_items))", 
      "    ", 
      "    from mpl_toolkits.axes_grid1 import ImageGrid", 
      "    fig = plt.figure()", 
      "    nr, nc = subplot_config(2 ** (n_items * n_users - max(n_items, n_users)))", 
      "    grid = ImageGrid(fig, 111, nrows_ncols=(nr,nc), axes_pad=.2,", 
      "                     cbar_location='right', cbar_mode='single')", 
      "", 
      "    xticks = np.linspace(-.5, n_items - .5, n_items + 1)", 
      "    yticks = np.linspace(-.5, n_users - .5, n_users + 1)", 
      "", 
      "    #vmin = min(vals[np.isfinite(vals)].min() for vals in d.values())", 
      "    #vmax = max(vals[np.isfinite(vals)].max() for vals in d.values())", 
      "    #norm = Normalize(vmin, vmax)", 
      "    norm = get_norm(real)", 
      "", 
      "    for i, k in enumerate(possibilities(n_users, n_items)):", 
      "        pred = d[k.tostring()]", 
      "        grid[i].set_title(\"{:.3}\".format(rmse(real, pred)))", 
      "        im = grid[i].imshow(pred, interpolation='nearest', cmap=cm.jet, origin='lower', aspect='equal', norm=norm)", 
      "    ", 
      "        grid[i].set_xticks(xticks)", 
      "        grid[i].set_yticks(yticks)", 
      "        grid[i].set_xticklabels([])", 
      "        grid[i].set_yticklabels([])", 
      "        grid[i].set_xlim(xticks[0], xticks[-1])", 
      "        grid[i].set_ylim(yticks[0], yticks[-1])", 
      "        grid[i].grid()", 
      "    ", 
      "        k_i, k_j = k.nonzero()", 
      "        grid[i].scatter(k_j, k_i, marker='s', c='white', s=15)", 
      "", 
      "    for i in range(i+1, nr*nc):", 
      "        grid[i].set_visible(False)", 
      "", 
      "    grid.cbar_axes[0].colorbar(im)", 
      "    return norm"
     ], 
     "language": "python", 
     "outputs": [], 
     "prompt_number": 9
    }, 
    {
     "cell_type": "code", 
     "collapsed": true, 
     "input": [
      "def write_pics_to_dir(dirname, n_users, n_items, d, norm):", 
      "    for i, k in enumerate(possibilities(n_users, n_items)):", 
      "        pred = d[k.tostring()]", 
      "        if isinstance(pred, list):", 
      "            for idx, p in enumerate(pred):", 
      "                fig = plt.figure()", 
      "                show(p, norm=norm, colorbar=False, known=k, s=(1,1))", 
      "                fig.savefig(os.path.join(dirname, \"node_{}_{}.png\".format(i, idx)), bbox_inches='tight', pad_inches=0)", 
      "                plt.close(fig)", 
      "        else:", 
      "            fig = plt.figure()", 
      "            show(pred, norm=norm, colorbar=False, known=k, s=(1,1))", 
      "            fig.savefig(os.path.join(dirname, \"node_{}.png\".format(i)), bbox_inches='tight', pad_inches=0)", 
      "            plt.close(fig)"
     ], 
     "language": "python", 
     "outputs": [], 
     "prompt_number": 10
    }, 
    {
     "cell_type": "code", 
     "collapsed": true, 
     "input": [
      "def make_dot_tree(dirname, d, real):", 
      "    n_users, n_items = real.shape", 
      "    poss = {k.tostring(): i for i, k in enumerate(possibilities(n_users, n_items))}", 
      "    ", 
      "    nodes = []", 
      "    node_p = 'n_{}[shape=none,label=<<table><tr><td>{:.2} to {:.2}</td></tr><tr><td>{:.4}</td></tr>' \\", 
      "             '<tr><td><img src=\"{}\" /></td></tr></table>>];'", 
      "    for s, i in poss.items():", 
      "        if isinstance(d[s], list):", 
      "            rmses = [rmse(v, real) for v in d[s]]", 
      "            argsorted = np.argsort(rmses)", 
      "            med = argsorted[len(argsorted) // 2]", 
      "            fname = os.path.join(dirname, 'node_{}_{}.png'.format(i, med))", 
      "            nodes.append(node_p.format(i, np.min(rmses), np.max(rmses), np.median(rmses), fname))", 
      "        else:", 
      "            r = rmse(d[s], real)", 
      "            fname = os.path.join(dirname, 'node_{}.png'.format(i))", 
      "            nodes.append(node_p.format(i, r, r, r, fname))", 
      "    ", 
      "    conns = []", 
      "    for s, idx in poss.items():", 
      "        k = np.fromstring(s) # 1d", 
      "        for i in (k == 0).nonzero()[0].flat:", 
      "            kprime = k.copy()", 
      "            assert kprime[i] == 0", 
      "            kprime[i] = 1", 
      "            conns.append((idx, poss[kprime.tostring()]))", 
      "    edges = ['n_{} -> n_{};'.format(fr, to) for fr, to in conns]", 
      "    ", 
      "    return 'digraph {\\n' + '\\n'.join(nodes) + '\\n\\n\\n' + '\\n'.join(edges) + '\\n\\n\\n' + '}'"
     ], 
     "language": "python", 
     "outputs": [], 
     "prompt_number": 11
    }, 
    {
     "cell_type": "code", 
     "collapsed": true, 
     "input": [
      "def plot_tree(dirname, outname, d, real):", 
      "    import subprocess", 
      "    dot = make_dot_tree(dirname, d, real)", 
      "    p = subprocess.Popen(['dot', '-Tpng', '-o', outname], stdin=subprocess.PIPE)", 
      "    p.communicate(dot.encode())"
     ], 
     "language": "python", 
     "outputs": [], 
     "prompt_number": 12
    }, 
    {
     "cell_type": "code", 
     "collapsed": true, 
     "input": [
      "n_users = n_items = 3", 
      "real, _, _ = make_fake_data(noise=0, num_users=n_users, num_items=n_items,", 
      "                            rank=1, mask_type='diag')", 
      "d = {}"
     ], 
     "language": "python", 
     "outputs": [], 
     "prompt_number": 13
    }, 
    {
     "cell_type": "code", 
     "collapsed": false, 
     "input": [
      "fill_dict(real, d, 5); None"
     ], 
     "language": "python", 
     "outputs": [
      {
       "output_type": "stream", 
       "stream": "stdout", 
       "text": [
        "", 
        "doing #0  "
       ]
      }, 
      {
       "output_type": "stream", 
       "stream": "stdout", 
       "text": [
        "", 
        "doing #1  "
       ]
      }, 
      {
       "output_type": "stream", 
       "stream": "stdout", 
       "text": [
        "", 
        "doing #2  "
       ]
      }, 
      {
       "output_type": "stream", 
       "stream": "stdout", 
       "text": [
        "", 
        "doing #3  "
       ]
      }, 
      {
       "output_type": "stream", 
       "stream": "stdout", 
       "text": [
        "", 
        "doing #4  "
       ]
      }, 
      {
       "output_type": "stream", 
       "stream": "stdout", 
       "text": [
        "", 
        "doing #5  "
       ]
      }, 
      {
       "output_type": "stream", 
       "stream": "stdout", 
       "text": [
        "", 
        "doing #6  "
       ]
      }, 
      {
       "output_type": "stream", 
       "stream": "stdout", 
       "text": [
        "", 
        "doing #7  "
       ]
      }, 
      {
       "output_type": "stream", 
       "stream": "stdout", 
       "text": [
        "", 
        "doing #8  "
       ]
      }, 
      {
       "output_type": "stream", 
       "stream": "stdout", 
       "text": [
        "", 
        "doing #9  "
       ]
      }, 
      {
       "output_type": "stream", 
       "stream": "stdout", 
       "text": [
        "", 
        "doing #10  "
       ]
      }, 
      {
       "output_type": "stream", 
       "stream": "stdout", 
       "text": [
        "", 
        "doing #11  "
       ]
      }, 
      {
       "output_type": "stream", 
       "stream": "stdout", 
       "text": [
        "", 
        "doing #12  "
       ]
      }, 
      {
       "output_type": "stream", 
       "stream": "stdout", 
       "text": [
        "", 
        "doing #13  "
       ]
      }, 
      {
       "output_type": "stream", 
       "stream": "stdout", 
       "text": [
        "", 
        "doing #14  "
       ]
      }, 
      {
       "output_type": "stream", 
       "stream": "stdout", 
       "text": [
        "", 
        "doing #15  "
       ]
      }, 
      {
       "output_type": "stream", 
       "stream": "stdout", 
       "text": [
        "", 
        "doing #16  "
       ]
      }, 
      {
       "output_type": "stream", 
       "stream": "stdout", 
       "text": [
        "", 
        "doing #17  "
       ]
      }, 
      {
       "output_type": "stream", 
       "stream": "stdout", 
       "text": [
        "", 
        "doing #18  "
       ]
      }, 
      {
       "output_type": "stream", 
       "stream": "stdout", 
       "text": [
        "", 
        "doing #19  "
       ]
      }, 
      {
       "output_type": "stream", 
       "stream": "stdout", 
       "text": [
        "", 
        "doing #20  "
       ]
      }, 
      {
       "output_type": "stream", 
       "stream": "stdout", 
       "text": [
        "", 
        "doing #21  "
       ]
      }, 
      {
       "output_type": "stream", 
       "stream": "stdout", 
       "text": [
        "", 
        "doing #22  "
       ]
      }, 
      {
       "output_type": "stream", 
       "stream": "stdout", 
       "text": [
        "", 
        "doing #23  "
       ]
      }, 
      {
       "output_type": "stream", 
       "stream": "stdout", 
       "text": [
        "", 
        "doing #24  "
       ]
      }, 
      {
       "output_type": "stream", 
       "stream": "stdout", 
       "text": [
        "", 
        "doing #25  "
       ]
      }, 
      {
       "output_type": "stream", 
       "stream": "stdout", 
       "text": [
        "", 
        "doing #26  "
       ]
      }, 
      {
       "output_type": "stream", 
       "stream": "stdout", 
       "text": [
        "", 
        "doing #27  "
       ]
      }, 
      {
       "output_type": "stream", 
       "stream": "stdout", 
       "text": [
        "", 
        "doing #28  "
       ]
      }, 
      {
       "output_type": "stream", 
       "stream": "stdout", 
       "text": [
        "", 
        "doing #29  "
       ]
      }, 
      {
       "output_type": "stream", 
       "stream": "stdout", 
       "text": [
        "", 
        "doing #30  "
       ]
      }, 
      {
       "output_type": "stream", 
       "stream": "stdout", 
       "text": [
        "", 
        "doing #31  "
       ]
      }, 
      {
       "output_type": "stream", 
       "stream": "stdout", 
       "text": [
        "", 
        "doing #32  "
       ]
      }, 
      {
       "output_type": "stream", 
       "stream": "stdout", 
       "text": [
        "", 
        "doing #33  "
       ]
      }, 
      {
       "output_type": "stream", 
       "stream": "stdout", 
       "text": [
        "", 
        "doing #34  "
       ]
      }, 
      {
       "output_type": "stream", 
       "stream": "stdout", 
       "text": [
        "", 
        "doing #35  "
       ]
      }, 
      {
       "output_type": "stream", 
       "stream": "stdout", 
       "text": [
        "", 
        "doing #36  "
       ]
      }, 
      {
       "output_type": "stream", 
       "stream": "stdout", 
       "text": [
        "", 
        "doing #37  "
       ]
      }, 
      {
       "output_type": "stream", 
       "stream": "stdout", 
       "text": [
        "", 
        "doing #38  "
       ]
      }, 
      {
       "output_type": "stream", 
       "stream": "stdout", 
       "text": [
        "", 
        "doing #39  "
       ]
      }, 
      {
       "output_type": "stream", 
       "stream": "stdout", 
       "text": [
        "", 
        "doing #40  "
       ]
      }, 
      {
       "output_type": "stream", 
       "stream": "stdout", 
       "text": [
        "", 
        "doing #41  "
       ]
      }, 
      {
       "output_type": "stream", 
       "stream": "stdout", 
       "text": [
        "", 
        "doing #42  "
       ]
      }, 
      {
       "output_type": "stream", 
       "stream": "stdout", 
       "text": [
        "", 
        "doing #43  "
       ]
      }, 
      {
       "output_type": "stream", 
       "stream": "stdout", 
       "text": [
        "", 
        "doing #44  "
       ]
      }, 
      {
       "output_type": "stream", 
       "stream": "stdout", 
       "text": [
        "", 
        "doing #45  "
       ]
      }, 
      {
       "output_type": "stream", 
       "stream": "stdout", 
       "text": [
        "", 
        "doing #46  "
       ]
      }, 
      {
       "output_type": "stream", 
       "stream": "stdout", 
       "text": [
        "", 
        "doing #47  "
       ]
      }, 
      {
       "output_type": "stream", 
       "stream": "stdout", 
       "text": [
        "", 
        "doing #48  "
       ]
      }, 
      {
       "output_type": "stream", 
       "stream": "stdout", 
       "text": [
        "", 
        "doing #49  "
       ]
      }, 
      {
       "output_type": "stream", 
       "stream": "stdout", 
       "text": [
        "", 
        "doing #50  "
       ]
      }, 
      {
       "output_type": "stream", 
       "stream": "stdout", 
       "text": [
        "", 
        "doing #51  "
       ]
      }, 
      {
       "output_type": "stream", 
       "stream": "stdout", 
       "text": [
        "", 
        "doing #52  "
       ]
      }, 
      {
       "output_type": "stream", 
       "stream": "stdout", 
       "text": [
        "", 
        "doing #53  "
       ]
      }, 
      {
       "output_type": "stream", 
       "stream": "stdout", 
       "text": [
        "", 
        "doing #54  "
       ]
      }, 
      {
       "output_type": "stream", 
       "stream": "stdout", 
       "text": [
        "", 
        "doing #55  "
       ]
      }, 
      {
       "output_type": "stream", 
       "stream": "stdout", 
       "text": [
        "", 
        "doing #56  "
       ]
      }, 
      {
       "output_type": "stream", 
       "stream": "stdout", 
       "text": [
        "", 
        "doing #57  "
       ]
      }, 
      {
       "output_type": "stream", 
       "stream": "stdout", 
       "text": [
        "", 
        "doing #58  "
       ]
      }, 
      {
       "output_type": "stream", 
       "stream": "stdout", 
       "text": [
        "", 
        "doing #59  "
       ]
      }, 
      {
       "output_type": "stream", 
       "stream": "stdout", 
       "text": [
        "", 
        "doing #60  "
       ]
      }, 
      {
       "output_type": "stream", 
       "stream": "stdout", 
       "text": [
        "", 
        "doing #61  "
       ]
      }, 
      {
       "output_type": "stream", 
       "stream": "stdout", 
       "text": [
        "", 
        "doing #62  "
       ]
      }, 
      {
       "output_type": "stream", 
       "stream": "stdout", 
       "text": [
        "", 
        "doing #63  "
       ]
      }, 
      {
       "output_type": "stream", 
       "stream": "stdout", 
       "text": [
        ""
       ]
      }
     ], 
     "prompt_number": 14
    }, 
    {
     "cell_type": "code", 
     "collapsed": true, 
     "input": [
      "!open tree.png"
     ], 
     "language": "python", 
     "outputs": [], 
     "prompt_number": 63
    }, 
    {
     "cell_type": "code", 
     "collapsed": false, 
     "input": [
      "d_bayes = fill_dict(real, fitter=functools.partial(fit, do_bayes=True))"
     ], 
     "language": "python", 
     "outputs": [
      {
       "output_type": "stream", 
       "stream": "stdout", 
       "text": [
        "", 
        "doing #0  "
       ]
      }, 
      {
       "output_type": "stream", 
       "stream": "stdout", 
       "text": [
        "", 
        "doing #1  "
       ]
      }, 
      {
       "output_type": "stream", 
       "stream": "stdout", 
       "text": [
        "", 
        "doing #2  "
       ]
      }, 
      {
       "output_type": "stream", 
       "stream": "stdout", 
       "text": [
        "", 
        "doing #3  "
       ]
      }, 
      {
       "output_type": "stream", 
       "stream": "stdout", 
       "text": [
        "", 
        "doing #4  "
       ]
      }, 
      {
       "output_type": "stream", 
       "stream": "stdout", 
       "text": [
        "", 
        "doing #5  "
       ]
      }, 
      {
       "output_type": "stream", 
       "stream": "stdout", 
       "text": [
        "", 
        "doing #6  "
       ]
      }, 
      {
       "output_type": "stream", 
       "stream": "stdout", 
       "text": [
        "", 
        "doing #7  "
       ]
      }, 
      {
       "output_type": "stream", 
       "stream": "stdout", 
       "text": [
        "", 
        "doing #8  "
       ]
      }, 
      {
       "output_type": "stream", 
       "stream": "stdout", 
       "text": [
        "", 
        "doing #9  "
       ]
      }, 
      {
       "output_type": "stream", 
       "stream": "stdout", 
       "text": [
        "", 
        "doing #10  "
       ]
      }, 
      {
       "output_type": "stream", 
       "stream": "stdout", 
       "text": [
        "", 
        "doing #11  "
       ]
      }, 
      {
       "output_type": "stream", 
       "stream": "stdout", 
       "text": [
        "", 
        "doing #12  "
       ]
      }, 
      {
       "output_type": "stream", 
       "stream": "stdout", 
       "text": [
        "", 
        "doing #13  "
       ]
      }, 
      {
       "output_type": "stream", 
       "stream": "stdout", 
       "text": [
        "", 
        "doing #14  "
       ]
      }, 
      {
       "output_type": "stream", 
       "stream": "stdout", 
       "text": [
        "", 
        "doing #15  "
       ]
      }, 
      {
       "output_type": "stream", 
       "stream": "stdout", 
       "text": [
        "", 
        "doing #16  "
       ]
      }, 
      {
       "output_type": "stream", 
       "stream": "stdout", 
       "text": [
        "", 
        "doing #17  "
       ]
      }, 
      {
       "output_type": "stream", 
       "stream": "stdout", 
       "text": [
        "", 
        "doing #18  "
       ]
      }, 
      {
       "output_type": "stream", 
       "stream": "stdout", 
       "text": [
        "", 
        "doing #19  "
       ]
      }, 
      {
       "output_type": "stream", 
       "stream": "stdout", 
       "text": [
        "", 
        "doing #20  "
       ]
      }, 
      {
       "output_type": "stream", 
       "stream": "stdout", 
       "text": [
        "", 
        "doing #21  "
       ]
      }, 
      {
       "output_type": "stream", 
       "stream": "stdout", 
       "text": [
        "", 
        "doing #22  "
       ]
      }, 
      {
       "output_type": "stream", 
       "stream": "stdout", 
       "text": [
        "", 
        "doing #23  "
       ]
      }, 
      {
       "output_type": "stream", 
       "stream": "stdout", 
       "text": [
        "", 
        "doing #24  "
       ]
      }, 
      {
       "output_type": "stream", 
       "stream": "stdout", 
       "text": [
        "", 
        "doing #25  "
       ]
      }, 
      {
       "output_type": "stream", 
       "stream": "stdout", 
       "text": [
        "", 
        "doing #26  "
       ]
      }, 
      {
       "output_type": "stream", 
       "stream": "stdout", 
       "text": [
        "", 
        "doing #27  "
       ]
      }, 
      {
       "output_type": "stream", 
       "stream": "stdout", 
       "text": [
        "", 
        "doing #28  "
       ]
      }, 
      {
       "output_type": "stream", 
       "stream": "stdout", 
       "text": [
        "", 
        "doing #29  "
       ]
      }, 
      {
       "output_type": "stream", 
       "stream": "stdout", 
       "text": [
        "", 
        "doing #30  "
       ]
      }, 
      {
       "output_type": "stream", 
       "stream": "stdout", 
       "text": [
        "", 
        "doing #31  "
       ]
      }, 
      {
       "output_type": "stream", 
       "stream": "stdout", 
       "text": [
        "", 
        "doing #32  "
       ]
      }, 
      {
       "output_type": "stream", 
       "stream": "stdout", 
       "text": [
        "", 
        "doing #33  "
       ]
      }, 
      {
       "output_type": "stream", 
       "stream": "stdout", 
       "text": [
        "", 
        "doing #34  "
       ]
      }, 
      {
       "output_type": "stream", 
       "stream": "stdout", 
       "text": [
        "", 
        "doing #35  "
       ]
      }, 
      {
       "output_type": "stream", 
       "stream": "stdout", 
       "text": [
        "", 
        "doing #36  "
       ]
      }, 
      {
       "output_type": "stream", 
       "stream": "stdout", 
       "text": [
        "", 
        "doing #37  "
       ]
      }, 
      {
       "output_type": "stream", 
       "stream": "stdout", 
       "text": [
        "", 
        "doing #38  "
       ]
      }, 
      {
       "output_type": "stream", 
       "stream": "stdout", 
       "text": [
        "", 
        "doing #39  "
       ]
      }, 
      {
       "output_type": "stream", 
       "stream": "stdout", 
       "text": [
        "", 
        "doing #40  "
       ]
      }, 
      {
       "output_type": "stream", 
       "stream": "stdout", 
       "text": [
        "", 
        "doing #41  "
       ]
      }, 
      {
       "output_type": "stream", 
       "stream": "stdout", 
       "text": [
        "", 
        "doing #42  "
       ]
      }, 
      {
       "output_type": "stream", 
       "stream": "stdout", 
       "text": [
        "", 
        "doing #43  "
       ]
      }, 
      {
       "output_type": "stream", 
       "stream": "stdout", 
       "text": [
        "", 
        "doing #44  "
       ]
      }, 
      {
       "output_type": "stream", 
       "stream": "stdout", 
       "text": [
        "", 
        "doing #45  "
       ]
      }, 
      {
       "output_type": "stream", 
       "stream": "stdout", 
       "text": [
        "", 
        "doing #46  "
       ]
      }, 
      {
       "output_type": "stream", 
       "stream": "stdout", 
       "text": [
        "", 
        "doing #47  "
       ]
      }, 
      {
       "output_type": "stream", 
       "stream": "stdout", 
       "text": [
        "", 
        "doing #48  "
       ]
      }, 
      {
       "output_type": "stream", 
       "stream": "stdout", 
       "text": [
        "", 
        "doing #49  "
       ]
      }, 
      {
       "output_type": "stream", 
       "stream": "stdout", 
       "text": [
        "", 
        "doing #50  "
       ]
      }, 
      {
       "output_type": "stream", 
       "stream": "stdout", 
       "text": [
        "", 
        "doing #51  "
       ]
      }, 
      {
       "output_type": "stream", 
       "stream": "stdout", 
       "text": [
        "", 
        "doing #52  "
       ]
      }, 
      {
       "output_type": "stream", 
       "stream": "stdout", 
       "text": [
        "", 
        "doing #53  "
       ]
      }, 
      {
       "output_type": "stream", 
       "stream": "stdout", 
       "text": [
        "", 
        "doing #54  "
       ]
      }, 
      {
       "output_type": "stream", 
       "stream": "stdout", 
       "text": [
        "", 
        "doing #55  "
       ]
      }, 
      {
       "output_type": "stream", 
       "stream": "stdout", 
       "text": [
        "", 
        "doing #56  "
       ]
      }, 
      {
       "output_type": "stream", 
       "stream": "stdout", 
       "text": [
        "", 
        "doing #57  "
       ]
      }, 
      {
       "output_type": "stream", 
       "stream": "stdout", 
       "text": [
        "", 
        "doing #58  "
       ]
      }, 
      {
       "output_type": "stream", 
       "stream": "stdout", 
       "text": [
        "", 
        "doing #59  "
       ]
      }, 
      {
       "output_type": "stream", 
       "stream": "stdout", 
       "text": [
        "", 
        "doing #60  "
       ]
      }, 
      {
       "output_type": "stream", 
       "stream": "stdout", 
       "text": [
        "", 
        "doing #61  "
       ]
      }, 
      {
       "output_type": "stream", 
       "stream": "stdout", 
       "text": [
        "", 
        "doing #62  "
       ]
      }, 
      {
       "output_type": "stream", 
       "stream": "stdout", 
       "text": [
        "", 
        "doing #63  "
       ]
      }, 
      {
       "output_type": "stream", 
       "stream": "stdout", 
       "text": []
      }
     ], 
     "prompt_number": 39
    }, 
    {
     "cell_type": "code", 
     "collapsed": false, 
     "input": [
      "dir = tempfile.TemporaryDirectory()", 
      "norm = get_norm(real)", 
      "write_pics_to_dir(dir.name, n_users, n_items, d, norm)"
     ], 
     "language": "python", 
     "outputs": [], 
     "prompt_number": 16
    }, 
    {
     "cell_type": "code", 
     "collapsed": true, 
     "input": [
      "plot_tree(dir.name, 'tree.png', d, real)", 
      "!open tree.png", 
      "dir.cleanup()"
     ], 
     "language": "python", 
     "outputs": [], 
     "prompt_number": 17
    }, 
    {
     "cell_type": "code", 
     "collapsed": true, 
     "input": [
      "plt.figure()", 
      "show(real, norm, \"true values\")", 
      "plt.savefig('real.png')", 
      "plt.close()", 
      "!open real.png"
     ], 
     "language": "python", 
     "outputs": [], 
     "prompt_number": 18
    }, 
    {
     "cell_type": "code", 
     "collapsed": true, 
     "input": [
      "bpmf, pred = fit(real, np.ones((3,3)), ret_pmf=True, do_bayes=True, sig_u=1e2, sig_v=1e2)"
     ], 
     "language": "python", 
     "outputs": [], 
     "prompt_number": 83
    }, 
    {
     "cell_type": "code", 
     "collapsed": false, 
     "input": [
      "bpmf.rmse(real), rmse(pred, real)"
     ], 
     "language": "python", 
     "outputs": [
      {
       "output_type": "pyout", 
       "prompt_number": 84, 
       "text": [
        "(0.003342640229929555, 0.41373044076108606)"
       ]
      }
     ], 
     "prompt_number": 84
    }, 
    {
     "cell_type": "code", 
     "collapsed": true, 
     "input": [
      "sampler = bpmf.samples()"
     ], 
     "language": "python", 
     "outputs": [], 
     "prompt_number": 85
    }, 
    {
     "cell_type": "code", 
     "collapsed": false, 
     "input": [
      "next(sampler)"
     ], 
     "language": "python", 
     "outputs": [
      {
       "output_type": "pyout", 
       "prompt_number": 86, 
       "text": [
        "(array([[ 0.43723291],", 
        "       [ 0.53934418],", 
        "       [ 0.95144892]]),", 
        " array([[ 1.51485355],", 
        "       [ 0.57770755],", 
        "       [-0.04362765]]))"
       ]
      }
     ], 
     "prompt_number": 86
    }, 
    {
     "cell_type": "code", 
     "collapsed": false, 
     "input": [
      "print(\"MAP:\", bpmf.rmse(real))", 
      "sampler = bpmf.samples()", 
      "for i in range(20):", 
      "    pred = bpmf.predict(islice(sampler, 100))", 
      "    print(\"{:.3}\".format(rmse(real, pred)))"
     ], 
     "language": "python", 
     "outputs": [
      {
       "output_type": "stream", 
       "stream": "stdout", 
       "text": [
        "MAP: 0.003342640229929555", 
        "0.425"
       ]
      }, 
      {
       "output_type": "stream", 
       "stream": "stdout", 
       "text": [
        "", 
        "0.417"
       ]
      }, 
      {
       "output_type": "stream", 
       "stream": "stdout", 
       "text": [
        "", 
        "0.42"
       ]
      }, 
      {
       "output_type": "stream", 
       "stream": "stdout", 
       "text": [
        "", 
        "0.412"
       ]
      }, 
      {
       "output_type": "stream", 
       "stream": "stdout", 
       "text": [
        "", 
        "0.406"
       ]
      }, 
      {
       "output_type": "stream", 
       "stream": "stdout", 
       "text": [
        "", 
        "0.374"
       ]
      }, 
      {
       "output_type": "stream", 
       "stream": "stdout", 
       "text": [
        "", 
        "0.432"
       ]
      }, 
      {
       "output_type": "stream", 
       "stream": "stdout", 
       "text": [
        "", 
        "0.445"
       ]
      }, 
      {
       "output_type": "stream", 
       "stream": "stdout", 
       "text": [
        "", 
        "0.439"
       ]
      }, 
      {
       "output_type": "stream", 
       "stream": "stdout", 
       "text": [
        "", 
        "0.449"
       ]
      }, 
      {
       "output_type": "stream", 
       "stream": "stdout", 
       "text": [
        "", 
        "0.388"
       ]
      }, 
      {
       "output_type": "stream", 
       "stream": "stdout", 
       "text": [
        "", 
        "0.394"
       ]
      }, 
      {
       "output_type": "stream", 
       "stream": "stdout", 
       "text": [
        "", 
        "0.429"
       ]
      }, 
      {
       "output_type": "stream", 
       "stream": "stdout", 
       "text": [
        "", 
        "0.404"
       ]
      }, 
      {
       "output_type": "stream", 
       "stream": "stdout", 
       "text": [
        "", 
        "0.41"
       ]
      }, 
      {
       "output_type": "stream", 
       "stream": "stdout", 
       "text": [
        "", 
        "0.439"
       ]
      }, 
      {
       "output_type": "stream", 
       "stream": "stdout", 
       "text": [
        "", 
        "0.423"
       ]
      }, 
      {
       "output_type": "stream", 
       "stream": "stdout", 
       "text": [
        "", 
        "0.395"
       ]
      }, 
      {
       "output_type": "stream", 
       "stream": "stdout", 
       "text": [
        "", 
        "0.446"
       ]
      }, 
      {
       "output_type": "stream", 
       "stream": "stdout", 
       "text": [
        "", 
        "0.425"
       ]
      }, 
      {
       "output_type": "stream", 
       "stream": "stdout", 
       "text": []
      }
     ], 
     "prompt_number": 93
    }, 
    {
     "cell_type": "code", 
     "collapsed": false, 
     "input": [
      "bpmf.sample_hyperparam(bpmf.users, True)"
     ], 
     "language": "python", 
     "outputs": [
      {
       "output_type": "pyout", 
       "prompt_number": 108, 
       "text": [
        "(array([ 1.09989249]), array([[ 3.75981671]]))"
       ]
      }
     ], 
     "prompt_number": 108
    }, 
    {
     "cell_type": "code", 
     "collapsed": false, 
     "input": [
      "rmse(real, fit(real, np.ones((3,3)), sig_u=1e-5, sig_v=1e-5))"
     ], 
     "language": "python", 
     "outputs": [
      {
       "output_type": "pyout", 
       "prompt_number": 117, 
       "text": [
        "0.77003255648477142"
       ]
      }
     ], 
     "prompt_number": 117
    }, 
    {
     "cell_type": "code", 
     "collapsed": false, 
     "input": [
      "10 ** np.arange(-5, 5).astype(float)"
     ], 
     "language": "python", 
     "outputs": [
      {
       "output_type": "pyout", 
       "prompt_number": 119, 
       "text": [
        "array([  1.00000000e-05,   1.00000000e-04,   1.00000000e-03,", 
        "         1.00000000e-02,   1.00000000e-01,   1.00000000e+00,", 
        "         1.00000000e+01,   1.00000000e+02,   1.00000000e+03,", 
        "         1.00000000e+04])"
       ]
      }
     ], 
     "prompt_number": 119
    }, 
    {
     "cell_type": "code", 
     "collapsed": true, 
     "input": [
      "def bayes_from_map(pmf, burnin=0, samps=1000, ret_pmf=False):", 
      "    bpmf = BayesianPMF(pmf.ratings, pmf.latent_d)", 
      "    bpmf.__setstate__(pmf.__getstate__())", 
      "    sampler = bpmf.samples()", 
      "        ", 
      "    # do burn-in", 
      "    next(islice(sampler, burnin, burnin), None)", 
      "        ", 
      "    pred = bpmf.predict(islice(sampler, samps))", 
      "    return (pmf, pred) if ret_pmf else pred"
     ], 
     "language": "python", 
     "outputs": [], 
     "prompt_number": 123
    }, 
    {
     "cell_type": "code", 
     "collapsed": true, 
     "input": [
      "sigmas = 10 ** np.arange(-3, 7, .25).astype(float)", 
      "known = np.ones((3,3))", 
      "pmf_preds = [fit(real, known, sig_u=sig, sig_v=sig, ret_pmf=True) for sig in sigmas]", 
      "pmfs, pmf_preds = zip(*pmf_preds)", 
      "bayes_preds = [bayes_from_map(pmf) for pmf in pmfs]"
     ], 
     "language": "python", 
     "outputs": [], 
     "prompt_number": 133
    }, 
    {
     "cell_type": "code", 
     "collapsed": false, 
     "input": [
      "clf()", 
      "plot(sigmas, [rmse(real, pred) for pred in pmf_preds], label=\"MAP\")", 
      "plot(sigmas, [rmse(real, pred) for pred in bayes_preds], label=\"Bayesian\")", 
      "xscale('log')", 
      "xlabel('regularization (more -> less)')", 
      "ylabel('RMSE')", 
      "legend()"
     ], 
     "language": "python", 
     "outputs": [
      {
       "output_type": "pyout", 
       "prompt_number": 135, 
       "text": [
        "&lt;matplotlib.legend.Legend at 0x10d157a50&gt;"
       ]
      }
     ], 
     "prompt_number": 135
    }, 
    {
     "cell_type": "code", 
     "collapsed": true, 
     "input": [
      "!open tree.png"
     ], 
     "language": "python", 
     "outputs": [], 
     "prompt_number": 136
    }, 
    {
     "cell_type": "code", 
     "collapsed": false, 
     "input": [
      "real"
     ], 
     "language": "python", 
     "outputs": [
      {
       "output_type": "pyout", 
       "prompt_number": 20, 
       "text": [
        "array([[ -0.92735176,  -0.64573419,   0.31884254],", 
        "       [ -2.46403055,  -1.71575539,   0.84718421],", 
        "       [-15.03077481, -10.46623912,   5.16788849]])"
       ]
      }
     ], 
     "prompt_number": 20
    }, 
    {
     "cell_type": "code", 
     "collapsed": false, 
     "input": [
      "real - pred"
     ], 
     "language": "python", 
     "outputs": [
      {
       "output_type": "pyout", 
       "prompt_number": 76, 
       "text": [
        "array([[  1.91242539e-05,   1.33166132e-05,   3.43986268e-01],", 
        "       [ -1.59046944e-02,  -1.10747674e-02,   9.13560031e-01],", 
        "       [ -2.05220083e+02,  -1.42898985e+02,   1.13026637e-02]])"
       ]
      }
     ], 
     "prompt_number": 76
    }, 
    {
     "cell_type": "code", 
     "collapsed": false, 
     "input": [
      "pred"
     ], 
     "language": "python", 
     "outputs": [
      {
       "output_type": "pyout", 
       "prompt_number": 75, 
       "text": [
        "array([[ -9.27370882e-01,  -6.45747510e-01,  -2.51437244e-02],", 
        "       [ -2.44812585e+00,  -1.70468062e+00,  -6.63758189e-02],", 
        "       [  1.90189308e+02,   1.32432746e+02,   5.15658582e+00]])"
       ]
      }
     ], 
     "prompt_number": 75
    }, 
    {
     "cell_type": "code", 
     "collapsed": false, 
     "input": [
      "known = np.fromstring(max(d.items(), key=lambda kv: max(rmse(real,v) for v in kv[1]))[0]).reshape(3,3)", 
      "known"
     ], 
     "language": "python", 
     "outputs": [
      {
       "output_type": "pyout", 
       "prompt_number": 48, 
       "text": [
        "array([[ 1.,  1.,  0.],", 
        "       [ 1.,  1.,  1.],", 
        "       [ 0.,  0.,  1.]])"
       ]
      }
     ], 
     "prompt_number": 48
    }, 
    {
     "cell_type": "code", 
     "collapsed": false, 
     "input": [
      "norm = Normalize(real.min() * 1.5, real.max() * 1.5)", 
      "subplot(121)", 
      "imshow(real, norm=norm, interpolation='nearest')", 
      "i, j = known.nonzero()", 
      "scatter(j, i, c='white', s=15)", 
      "", 
      "subplot(122)", 
      "imshow(pred, norm=norm, interpolation='nearest')", 
      "colorbar()"
     ], 
     "language": "python", 
     "outputs": [
      {
       "output_type": "pyout", 
       "prompt_number": 74, 
       "text": [
        "&lt;matplotlib.colorbar.Colorbar at 0x108b15490&gt;"
       ]
      }, 
      {
       "output_type": "display_data", 
       "png": "[encoded data removed]"
      }
     ], 
     "prompt_number": 74
    }, 
    {
     "cell_type": "code", 
     "collapsed": true, 
     "input": [
      "pmf, pred = fit(real, known, ret_pmf=True)"
     ], 
     "language": "python", 
     "outputs": [], 
     "prompt_number": 49
    }, 
    {
     "cell_type": "code", 
     "collapsed": true, 
     "input": [
      "pmf_full, _ = fit(real, np.ones((3,3), dtype=bool), ret_pmf=True)"
     ], 
     "language": "python", 
     "outputs": [], 
     "prompt_number": 63
    }, 
    {
     "cell_type": "code", 
     "collapsed": false, 
     "input": [
      "pmf.gradient()"
     ], 
     "language": "python", 
     "outputs": [
      {
       "output_type": "pyout", 
       "prompt_number": 65, 
       "text": [
        "(array([[ 0.00035537],", 
        "       [ 0.01442913],", 
        "       [ 0.00383506]]),", 
        " array([[ 0.00310989],", 
        "       [ 0.00216548],", 
        "       [-0.00694105]]))"
       ]
      }
     ], 
     "prompt_number": 65
    }, 
    {
     "cell_type": "code", 
     "collapsed": false, 
     "input": [
      "u1, v1 = pmf.users, pmf.items", 
      "u1, v1"
     ], 
     "language": "python", 
     "outputs": [
      {
       "output_type": "pyout", 
       "prompt_number": 66, 
       "text": [
        "(array([[ -0.07410338],", 
        "       [ -0.19562228],", 
        "       [ 15.1974485 ]]),", 
        " array([[ 12.51455521],", 
        "       [  8.71414341],", 
        "       [  0.33930602]]))"
       ]
      }
     ], 
     "prompt_number": 66
    }, 
    {
     "cell_type": "code", 
     "collapsed": false, 
     "input": [
      "u, v = pmf_full.users, pmf_full.items", 
      "u, v"
     ], 
     "language": "python", 
     "outputs": [
      {
       "output_type": "pyout", 
       "prompt_number": 67, 
       "text": [
        "(array([[ 0.26701551],", 
        "       [ 0.7094766 ],", 
        "       [ 4.3278615 ]]),", 
        " array([[-3.47302545],", 
        "       [-2.4183394 ],", 
        "       [ 1.19409734]]))"
       ]
      }
     ], 
     "prompt_number": 67
    }, 
    {
     "cell_type": "code", 
     "collapsed": true, 
     "input": [
      "hat = lambda c: c.reshape(-1) / np.linalg.norm(c.reshape(-1))"
     ], 
     "language": "python", 
     "outputs": [], 
     "prompt_number": 72
    }, 
    {
     "cell_type": "code", 
     "collapsed": false, 
     "input": [
      "np.dot(hat(u1), hat(u)), np.dot(hat(v1), hat(v))"
     ], 
     "language": "python", 
     "outputs": [
      {
       "output_type": "pyout", 
       "prompt_number": 73, 
       "text": [
        "(0.98253612839817417, -0.95614469539031044)"
       ]
      }
     ], 
     "prompt_number": 73
    }, 
    {
     "cell_type": "code", 
     "collapsed": false, 
     "input": [
      "pred - real"
     ], 
     "language": "python", 
     "outputs": [
      {
       "output_type": "pyout", 
       "prompt_number": 51, 
       "text": [
        "array([[ -1.91242539e-05,  -1.33166132e-05,  -3.43986268e-01],", 
        "       [  1.59046944e-02,   1.10747674e-02,  -9.13560031e-01],", 
        "       [  2.05220083e+02,   1.42898985e+02,  -1.13026637e-02]])"
       ]
      }
     ], 
     "prompt_number": 51
    }
   ]
  }
 ]
}