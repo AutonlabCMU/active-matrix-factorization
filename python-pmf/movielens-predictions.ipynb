{
 "metadata": {
  "name": "movielens-predictions"
 }, 
 "nbformat": 2, 
 "worksheets": [
  {
   "cells": [
    {
     "cell_type": "code", 
     "collapsed": true, 
     "input": [
      "from bayes_pmf import *", 
      "import pickle", 
      "import numpy as np", 
      "import scipy.stats"
     ], 
     "language": "python", 
     "outputs": [], 
     "prompt_number": 1
    }, 
    {
     "cell_type": "code", 
     "collapsed": true, 
     "input": [
      "bpmf = np.load('../results/movielens-samples/movielens_model.pkl')", 
      "u_samps = np.load('../results/movielens-samples/movielens_u_samps.npy')", 
      "v_samps = np.load('../results/movielens-samples/movielens_v_samps.npy')"
     ], 
     "language": "python", 
     "outputs": [], 
     "prompt_number": 2
    }, 
    {
     "cell_type": "code", 
     "collapsed": true, 
     "input": [
      "samps = list(zip(u_samps, v_samps))", 
      "del u_samps, v_samps"
     ], 
     "language": "python", 
     "outputs": [], 
     "prompt_number": 3
    }, 
    {
     "cell_type": "code", 
     "collapsed": true, 
     "input": [
      "def get_preds(ij, samps):", 
      "    mean = bpmf.mean_rating", 
      "    get = lambda i, j: np.fromiter((np.dot(u[i], v[j]) + mean for u, v in samps), float, len(samps))", 
      "    if isinstance(ij, tuple) and len(ij) == 2 and isinstance(ij[0], int):", 
      "        return get(*ij)", 
      "    else:", 
      "        return [get(i, j) for i, j in ij]", 
      "    ", 
      "def plot_dist(ij, samps, normed=True, numbins=100, histtype='step', **kwargs):", 
      "    if 'bins' not in kwargs:", 
      "        kwargs['bins'] = [-1000] + list(np.linspace(-1, 7, numbins)) + [1000]", 
      "    kwargs['normed'] = normed", 
      "    kwargs['histtype'] = histtype", 
      "    ", 
      "    data = get_preds(ij, samps)", 
      "    hist(data, label=['{},{}'.format(*x) for x in ij], **kwargs)", 
      "    xlim(-1.5, 7.5)", 
      "    legend()"
     ], 
     "language": "python", 
     "outputs": [], 
     "prompt_number": 112
    }, 
    {
     "cell_type": "code", 
     "collapsed": false, 
     "input": [
      "idx = [(0,i) for i in range(5)]", 
      "clf(); plot_dist(idx, samps, numbins=100)", 
      "[x.filled() for x in scipy.stats.mstats.normaltest(get_preds(idx, samps), 1)]"
     ], 
     "language": "python", 
     "outputs": [
      {
       "output_type": "pyout", 
       "prompt_number": 109, 
       "text": [
        "[array([  2.00692367,   8.93446525,   1.10296937,   5.5085963 ,  11.39337549]),", 
        " array([ 0.36660811,  0.01147904,  0.57609386,  0.06365368,  0.00335707])]"
       ]
      }
     ], 
     "prompt_number": 109
    }, 
    {
     "cell_type": "code", 
     "collapsed": false, 
     "input": [
      "def check_normality(i, j, fignum=None):", 
      "    figure(fignum)", 
      "    clf()", 
      "    ", 
      "    ps = get_preds((i, j), samps)", 
      "    ", 
      "    # plot the histogram and the MLE normal's pdf", 
      "    subplot(121)", 
      "    plot_dist([(i, j)], samps, numbins=200)", 
      "    ", 
      "    mle = scipy.stats.norm(*scipy.stats.norm.fit(ps))", 
      "    pts = np.linspace(-1, 7, 200)", 
      "    plot(pts, mle.pdf(pts), c='r')", 
      "", 
      "    # plot the quantiles", 
      "    subplot(122)", 
      "    scipy.stats.probplot(ps, plot=plt)", 
      "", 
      "    # return p-value of being normal based on a D'Agistino/Pearson skew/kurtosis test", 
      "    return scipy.stats.mstats.normaltest(ps.reshape(-1, 1))[1][0]"
     ], 
     "language": "python", 
     "outputs": [], 
     "prompt_number": 149
    }, 
    {
     "cell_type": "code", 
     "collapsed": false, 
     "input": [
      "check_normality(12, 100, 2)"
     ], 
     "language": "python", 
     "outputs": [
      {
       "output_type": "pyout", 
       "prompt_number": 155, 
       "text": [
        "0.25800000270018114"
       ]
      }
     ], 
     "prompt_number": 155
    }, 
    {
     "cell_type": "code", 
     "collapsed": true, 
     "input": [
      "import heapq", 
      "import itertools", 
      "most_nonnormal = heapq.nsmallest(10, itertools.product(range(bpmf.num_users), range(bpmf.num_items)),", 
      "                key=lambda ij: scipy.stats.mstats.normaltest(get_preds(ij, samps).reshape(-1,1))[1][0])"
     ], 
     "language": "python", 
     "outputs": [], 
     "prompt_number": "*"
    }, 
    {
     "cell_type": "code", 
     "collapsed": true, 
     "input": [], 
     "language": "python", 
     "outputs": [], 
     "prompt_number": "&nbsp;"
    }
   ]
  }
 ]
}